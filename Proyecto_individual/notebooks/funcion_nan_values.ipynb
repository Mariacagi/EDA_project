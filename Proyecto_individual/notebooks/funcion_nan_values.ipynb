{
 "metadata": {
  "language_info": {
   "codemirror_mode": {
    "name": "ipython",
    "version": 3
   },
   "file_extension": ".py",
   "mimetype": "text/x-python",
   "name": "python",
   "nbconvert_exporter": "python",
   "pygments_lexer": "ipython3",
   "version": "3.9.0-final"
  },
  "orig_nbformat": 2,
  "kernelspec": {
   "name": "python3",
   "display_name": "Python 3.9.0 64-bit",
   "metadata": {
    "interpreter": {
     "hash": "af698c02722c81864863429d928a3bd8a8dcc030c4156359d3ef8b980fb01319"
    }
   }
  }
 },
 "nbformat": 4,
 "nbformat_minor": 2,
 "cells": [
  {
   "cell_type": "code",
   "execution_count": null,
   "metadata": {},
   "outputs": [],
   "source": [
    "#Pasos a seguir para hacer una función que reemplace los nan values por su valor real\n",
    "\"\"\"\n",
    "Primero recorrer la columna de price\n",
    " - Si price = NaN\n",
    "    - Coger la columna URL\n",
    "        - Hacer web scraping para coger el precio\n",
    "            - Guardar el precio en una variable\n",
    "                 - Con esa variable hacer NaN replace variable\n",
    "Return dataframe\n",
    "\"\"\""
   ]
  },
  {
   "cell_type": "code",
   "execution_count": 28,
   "metadata": {},
   "outputs": [],
   "source": [
    "import pandas as pd \n",
    "import numpy as np \n",
    "import requests\n",
    "from bs4 import BeautifulSoup\n",
    "import regex as re\n",
    "import sys\n",
    "\n",
    "ruta_Proyecto_individual = r\"C:\\Users\\maria\\OneDrive\\Escritorio\\The_Bridge\\Visual_Studio_Code\\Python\\Data_Scrience_BootCamp_Maria\\Data_science_proyectos\\Proyecto_individual\"\n",
    "\n",
    "sys.path.append(ruta_Proyecto_individual)\n",
    "\n",
    "# import mining_data_tb\n",
    "from src.utils.mining_data_tb import funcion_para_añadir_una_barra "
   ]
  },
  {
   "cell_type": "code",
   "execution_count": 37,
   "metadata": {},
   "outputs": [
    {
     "output_type": "stream",
     "name": "stdout",
     "text": [
      "C:\\\\Users\\\\maria\\\\OneDrive\\\\Escritorio\\\\The_Bridge\\\\Visual_Studio_Code\\\\Python\\\\Data_Scrience_BootCamp_Maria\\\\Data_science_proyectos\\\\Proyecto_individual\\\\documentation\\\\amazon_data.csv\n"
     ]
    }
   ],
   "source": [
    "#Utiliza la funcion añadir una doble barra para que lea el csv correctamente\n",
    "url = funcion_para_añadir_una_barra(string=r\"C:\\Users\\maria\\OneDrive\\Escritorio\\The_Bridge\\Visual_Studio_Code\\Python\\Data_Scrience_BootCamp_Maria\\Data_science_proyectos\\Proyecto_individual\\documentation\\amazon_data.csv\")"
   ]
  },
  {
   "cell_type": "code",
   "execution_count": 38,
   "metadata": {},
   "outputs": [],
   "source": [
    "df_amazon = pd.read_csv(url, sep=\",\")"
   ]
  },
  {
   "cell_type": "code",
   "execution_count": 39,
   "metadata": {},
   "outputs": [],
   "source": [
    "df_amazon['price'] = df_amazon['price'].replace(np.nan, 0)"
   ]
  },
  {
   "cell_type": "code",
   "execution_count": 40,
   "metadata": {},
   "outputs": [
    {
     "output_type": "execute_result",
     "data": {
      "text/plain": [
       "0                 $24.99\n",
       "1                 $39.97\n",
       "2           $1.99 $64.78\n",
       "3          $16.99 $18.99\n",
       "4          $32.97 $39.97\n",
       "               ...      \n",
       "2252672            $1.99\n",
       "2252673            $7.76\n",
       "2252674            $6.99\n",
       "2252675           $12.01\n",
       "2252676           $34.99\n",
       "Name: price, Length: 2252677, dtype: object"
      ]
     },
     "metadata": {},
     "execution_count": 40
    }
   ],
   "source": [
    "df_amazon[\"price\"].astype(str)"
   ]
  },
  {
   "cell_type": "code",
   "execution_count": 41,
   "metadata": {},
   "outputs": [
    {
     "output_type": "execute_result",
     "data": {
      "text/plain": [
       "               ASIN                                           category  \\\n",
       "0        B07HF3X6Y4    Any Department/Home & Kitchen/ Irons & Steamers   \n",
       "1        B07JVFZJT7    Any Department/Home & Kitchen/ Irons & Steamers   \n",
       "2        B07W95HD5M    Any Department/Home & Kitchen/ Irons & Steamers   \n",
       "3        B07JGRV3TQ    Any Department/Home & Kitchen/ Irons & Steamers   \n",
       "4        B01N1QE5ME    Any Department/Home & Kitchen/ Irons & Steamers   \n",
       "...             ...                                                ...   \n",
       "2252672  B0859ZNH4L  Any Department/Home & Kitchen/Kids' Home Store...   \n",
       "2252673  B07CJ5PDY3  Any Department/Home & Kitchen/Kids' Home Store...   \n",
       "2252674  B003DNS9XG  Any Department/Home & Kitchen/Kids' Home Store...   \n",
       "2252675  B0793SKDRW  Any Department/Home & Kitchen/Kids' Home Store...   \n",
       "2252676  B00ZV8RAEU  Any Department/Home & Kitchen/Kids' Home Store...   \n",
       "\n",
       "                                                     links  \\\n",
       "0        https://www.amazon.com/Hilife-Steamer-Handheld...   \n",
       "1        https://www.amazon.com/Professional-Resistant-...   \n",
       "2        https://www.amazon.com/HOMZ-Ironing-Board-Hold...   \n",
       "3        https://www.amazon.com/OGHom-Steamer-Clothes-H...   \n",
       "4        https://www.amazon.com/BEAUTURAL-1200-Watt-Han...   \n",
       "...                                                    ...   \n",
       "2252672  https://www.amazon.com/Playtime-Animals-Bathro...   \n",
       "2252673  https://www.amazon.com/Gelrova-Mildew-Resistan...   \n",
       "2252674  https://www.amazon.com/Mommys-Helper-Froggie-C...   \n",
       "2252675  https://www.amazon.com/Yimobra-Original-Bacter...   \n",
       "2252676  https://www.amazon.com/Dreambaby-Anti-slip-Sho...   \n",
       "\n",
       "                                                     title          price  \\\n",
       "0        \\n            Hilife Steamer for Clothes Steam...         $24.99   \n",
       "1        \\n            Professional Grade 1700W Steam I...         $39.97   \n",
       "2        \\n            Homz T Leg Ironing Board Holder,...   $1.99 $64.78   \n",
       "3        \\n            OGHom Steamer for Clothes Steame...  $16.99 $18.99   \n",
       "4        \\n            BEAUTURAL Steamer for Clothes wi...  $32.97 $39.97   \n",
       "...                                                    ...            ...   \n",
       "2252672  \\n            Bath Toy Organizer, Extra Durabl...          $1.99   \n",
       "2252673  \\n            Babykin Baby Bath Mat Anti Slip ...          $7.76   \n",
       "2252674  \\n            HYST Cartoon Panda/Pineapple Car...          $6.99   \n",
       "2252675  \\n            Non Slip Decal Sticker Strips Ba...         $12.01   \n",
       "2252676  \\n            Littlefun Baby Non-Slip Bath Mat...         $34.99   \n",
       "\n",
       "                                                 image url  \\\n",
       "0        https://images-na.ssl-images-amazon.com/images...   \n",
       "1        https://images-na.ssl-images-amazon.com/images...   \n",
       "2        https://images-na.ssl-images-amazon.com/images...   \n",
       "3        https://images-na.ssl-images-amazon.com/images...   \n",
       "4        https://images-na.ssl-images-amazon.com/images...   \n",
       "...                                                    ...   \n",
       "2252672  https://images-na.ssl-images-amazon.com/images...   \n",
       "2252673  https://images-na.ssl-images-amazon.com/images...   \n",
       "2252674  https://images-na.ssl-images-amazon.com/images...   \n",
       "2252675  https://images-na.ssl-images-amazon.com/images...   \n",
       "2252676  https://images-na.ssl-images-amazon.com/images...   \n",
       "\n",
       "                     rating No of reviews low_price high_price  \n",
       "0        4.4 out of 5 stars        15,233    $24.99       None  \n",
       "1        4.5 out of 5 stars         9,726    $39.97       None  \n",
       "2        4.4 out of 5 stars         2,796     $1.99     $64.78  \n",
       "3        4.6 out of 5 stars         6,573    $16.99     $18.99  \n",
       "4        4.4 out of 5 stars         8,223    $32.97     $39.97  \n",
       "...                     ...           ...       ...        ...  \n",
       "2252672  3.6 out of 5 stars            26     $1.99       None  \n",
       "2252673  3.6 out of 5 stars           162     $7.76       None  \n",
       "2252674  3.9 out of 5 stars            13     $6.99       None  \n",
       "2252675  3.1 out of 5 stars            27    $12.01       None  \n",
       "2252676  3.7 out of 5 stars            29    $34.99       None  \n",
       "\n",
       "[2252677 rows x 10 columns]"
      ],
      "text/html": "<div>\n<style scoped>\n    .dataframe tbody tr th:only-of-type {\n        vertical-align: middle;\n    }\n\n    .dataframe tbody tr th {\n        vertical-align: top;\n    }\n\n    .dataframe thead th {\n        text-align: right;\n    }\n</style>\n<table border=\"1\" class=\"dataframe\">\n  <thead>\n    <tr style=\"text-align: right;\">\n      <th></th>\n      <th>ASIN</th>\n      <th>category</th>\n      <th>links</th>\n      <th>title</th>\n      <th>price</th>\n      <th>image url</th>\n      <th>rating</th>\n      <th>No of reviews</th>\n      <th>low_price</th>\n      <th>high_price</th>\n    </tr>\n  </thead>\n  <tbody>\n    <tr>\n      <th>0</th>\n      <td>B07HF3X6Y4</td>\n      <td>Any Department/Home &amp; Kitchen/ Irons &amp; Steamers</td>\n      <td>https://www.amazon.com/Hilife-Steamer-Handheld...</td>\n      <td>\\n            Hilife Steamer for Clothes Steam...</td>\n      <td>$24.99</td>\n      <td>https://images-na.ssl-images-amazon.com/images...</td>\n      <td>4.4 out of 5 stars</td>\n      <td>15,233</td>\n      <td>$24.99</td>\n      <td>None</td>\n    </tr>\n    <tr>\n      <th>1</th>\n      <td>B07JVFZJT7</td>\n      <td>Any Department/Home &amp; Kitchen/ Irons &amp; Steamers</td>\n      <td>https://www.amazon.com/Professional-Resistant-...</td>\n      <td>\\n            Professional Grade 1700W Steam I...</td>\n      <td>$39.97</td>\n      <td>https://images-na.ssl-images-amazon.com/images...</td>\n      <td>4.5 out of 5 stars</td>\n      <td>9,726</td>\n      <td>$39.97</td>\n      <td>None</td>\n    </tr>\n    <tr>\n      <th>2</th>\n      <td>B07W95HD5M</td>\n      <td>Any Department/Home &amp; Kitchen/ Irons &amp; Steamers</td>\n      <td>https://www.amazon.com/HOMZ-Ironing-Board-Hold...</td>\n      <td>\\n            Homz T Leg Ironing Board Holder,...</td>\n      <td>$1.99 $64.78</td>\n      <td>https://images-na.ssl-images-amazon.com/images...</td>\n      <td>4.4 out of 5 stars</td>\n      <td>2,796</td>\n      <td>$1.99</td>\n      <td>$64.78</td>\n    </tr>\n    <tr>\n      <th>3</th>\n      <td>B07JGRV3TQ</td>\n      <td>Any Department/Home &amp; Kitchen/ Irons &amp; Steamers</td>\n      <td>https://www.amazon.com/OGHom-Steamer-Clothes-H...</td>\n      <td>\\n            OGHom Steamer for Clothes Steame...</td>\n      <td>$16.99 $18.99</td>\n      <td>https://images-na.ssl-images-amazon.com/images...</td>\n      <td>4.6 out of 5 stars</td>\n      <td>6,573</td>\n      <td>$16.99</td>\n      <td>$18.99</td>\n    </tr>\n    <tr>\n      <th>4</th>\n      <td>B01N1QE5ME</td>\n      <td>Any Department/Home &amp; Kitchen/ Irons &amp; Steamers</td>\n      <td>https://www.amazon.com/BEAUTURAL-1200-Watt-Han...</td>\n      <td>\\n            BEAUTURAL Steamer for Clothes wi...</td>\n      <td>$32.97 $39.97</td>\n      <td>https://images-na.ssl-images-amazon.com/images...</td>\n      <td>4.4 out of 5 stars</td>\n      <td>8,223</td>\n      <td>$32.97</td>\n      <td>$39.97</td>\n    </tr>\n    <tr>\n      <th>...</th>\n      <td>...</td>\n      <td>...</td>\n      <td>...</td>\n      <td>...</td>\n      <td>...</td>\n      <td>...</td>\n      <td>...</td>\n      <td>...</td>\n      <td>...</td>\n      <td>...</td>\n    </tr>\n    <tr>\n      <th>2252672</th>\n      <td>B0859ZNH4L</td>\n      <td>Any Department/Home &amp; Kitchen/Kids' Home Store...</td>\n      <td>https://www.amazon.com/Playtime-Animals-Bathro...</td>\n      <td>\\n            Bath Toy Organizer, Extra Durabl...</td>\n      <td>$1.99</td>\n      <td>https://images-na.ssl-images-amazon.com/images...</td>\n      <td>3.6 out of 5 stars</td>\n      <td>26</td>\n      <td>$1.99</td>\n      <td>None</td>\n    </tr>\n    <tr>\n      <th>2252673</th>\n      <td>B07CJ5PDY3</td>\n      <td>Any Department/Home &amp; Kitchen/Kids' Home Store...</td>\n      <td>https://www.amazon.com/Gelrova-Mildew-Resistan...</td>\n      <td>\\n            Babykin Baby Bath Mat Anti Slip ...</td>\n      <td>$7.76</td>\n      <td>https://images-na.ssl-images-amazon.com/images...</td>\n      <td>3.6 out of 5 stars</td>\n      <td>162</td>\n      <td>$7.76</td>\n      <td>None</td>\n    </tr>\n    <tr>\n      <th>2252674</th>\n      <td>B003DNS9XG</td>\n      <td>Any Department/Home &amp; Kitchen/Kids' Home Store...</td>\n      <td>https://www.amazon.com/Mommys-Helper-Froggie-C...</td>\n      <td>\\n            HYST Cartoon Panda/Pineapple Car...</td>\n      <td>$6.99</td>\n      <td>https://images-na.ssl-images-amazon.com/images...</td>\n      <td>3.9 out of 5 stars</td>\n      <td>13</td>\n      <td>$6.99</td>\n      <td>None</td>\n    </tr>\n    <tr>\n      <th>2252675</th>\n      <td>B0793SKDRW</td>\n      <td>Any Department/Home &amp; Kitchen/Kids' Home Store...</td>\n      <td>https://www.amazon.com/Yimobra-Original-Bacter...</td>\n      <td>\\n            Non Slip Decal Sticker Strips Ba...</td>\n      <td>$12.01</td>\n      <td>https://images-na.ssl-images-amazon.com/images...</td>\n      <td>3.1 out of 5 stars</td>\n      <td>27</td>\n      <td>$12.01</td>\n      <td>None</td>\n    </tr>\n    <tr>\n      <th>2252676</th>\n      <td>B00ZV8RAEU</td>\n      <td>Any Department/Home &amp; Kitchen/Kids' Home Store...</td>\n      <td>https://www.amazon.com/Dreambaby-Anti-slip-Sho...</td>\n      <td>\\n            Littlefun Baby Non-Slip Bath Mat...</td>\n      <td>$34.99</td>\n      <td>https://images-na.ssl-images-amazon.com/images...</td>\n      <td>3.7 out of 5 stars</td>\n      <td>29</td>\n      <td>$34.99</td>\n      <td>None</td>\n    </tr>\n  </tbody>\n</table>\n<p>2252677 rows × 10 columns</p>\n</div>"
     },
     "metadata": {},
     "execution_count": 41
    }
   ],
   "source": [
    "price_str = df_amazon[\"price\"].str.split(\" \", n=1, expand=True)\n",
    "df_amazon[\"low_price\"]= price_str[0]\n",
    "df_amazon[\"high_price\"]=price_str[1]"
   ]
  },
  {
   "cell_type": "code",
   "execution_count": 42,
   "metadata": {},
   "outputs": [
    {
     "output_type": "execute_result",
     "data": {
      "text/plain": [
       "               ASIN                                           category  \\\n",
       "0        B07HF3X6Y4    Any Department/Home & Kitchen/ Irons & Steamers   \n",
       "1        B07JVFZJT7    Any Department/Home & Kitchen/ Irons & Steamers   \n",
       "2        B07W95HD5M    Any Department/Home & Kitchen/ Irons & Steamers   \n",
       "3        B07JGRV3TQ    Any Department/Home & Kitchen/ Irons & Steamers   \n",
       "4        B01N1QE5ME    Any Department/Home & Kitchen/ Irons & Steamers   \n",
       "...             ...                                                ...   \n",
       "2252672  B0859ZNH4L  Any Department/Home & Kitchen/Kids' Home Store...   \n",
       "2252673  B07CJ5PDY3  Any Department/Home & Kitchen/Kids' Home Store...   \n",
       "2252674  B003DNS9XG  Any Department/Home & Kitchen/Kids' Home Store...   \n",
       "2252675  B0793SKDRW  Any Department/Home & Kitchen/Kids' Home Store...   \n",
       "2252676  B00ZV8RAEU  Any Department/Home & Kitchen/Kids' Home Store...   \n",
       "\n",
       "                                                     links  \\\n",
       "0        https://www.amazon.com/Hilife-Steamer-Handheld...   \n",
       "1        https://www.amazon.com/Professional-Resistant-...   \n",
       "2        https://www.amazon.com/HOMZ-Ironing-Board-Hold...   \n",
       "3        https://www.amazon.com/OGHom-Steamer-Clothes-H...   \n",
       "4        https://www.amazon.com/BEAUTURAL-1200-Watt-Han...   \n",
       "...                                                    ...   \n",
       "2252672  https://www.amazon.com/Playtime-Animals-Bathro...   \n",
       "2252673  https://www.amazon.com/Gelrova-Mildew-Resistan...   \n",
       "2252674  https://www.amazon.com/Mommys-Helper-Froggie-C...   \n",
       "2252675  https://www.amazon.com/Yimobra-Original-Bacter...   \n",
       "2252676  https://www.amazon.com/Dreambaby-Anti-slip-Sho...   \n",
       "\n",
       "                                                     title          price  \\\n",
       "0        \\n            Hilife Steamer for Clothes Steam...         $24.99   \n",
       "1        \\n            Professional Grade 1700W Steam I...         $39.97   \n",
       "2        \\n            Homz T Leg Ironing Board Holder,...   $1.99 $64.78   \n",
       "3        \\n            OGHom Steamer for Clothes Steame...  $16.99 $18.99   \n",
       "4        \\n            BEAUTURAL Steamer for Clothes wi...  $32.97 $39.97   \n",
       "...                                                    ...            ...   \n",
       "2252672  \\n            Bath Toy Organizer, Extra Durabl...          $1.99   \n",
       "2252673  \\n            Babykin Baby Bath Mat Anti Slip ...          $7.76   \n",
       "2252674  \\n            HYST Cartoon Panda/Pineapple Car...          $6.99   \n",
       "2252675  \\n            Non Slip Decal Sticker Strips Ba...         $12.01   \n",
       "2252676  \\n            Littlefun Baby Non-Slip Bath Mat...         $34.99   \n",
       "\n",
       "                                                 image url  \\\n",
       "0        https://images-na.ssl-images-amazon.com/images...   \n",
       "1        https://images-na.ssl-images-amazon.com/images...   \n",
       "2        https://images-na.ssl-images-amazon.com/images...   \n",
       "3        https://images-na.ssl-images-amazon.com/images...   \n",
       "4        https://images-na.ssl-images-amazon.com/images...   \n",
       "...                                                    ...   \n",
       "2252672  https://images-na.ssl-images-amazon.com/images...   \n",
       "2252673  https://images-na.ssl-images-amazon.com/images...   \n",
       "2252674  https://images-na.ssl-images-amazon.com/images...   \n",
       "2252675  https://images-na.ssl-images-amazon.com/images...   \n",
       "2252676  https://images-na.ssl-images-amazon.com/images...   \n",
       "\n",
       "                     rating No of reviews  low_price  high_price  \n",
       "0        4.4 out of 5 stars        15,233      24.99         NaN  \n",
       "1        4.5 out of 5 stars         9,726      39.97         NaN  \n",
       "2        4.4 out of 5 stars         2,796       1.99       64.78  \n",
       "3        4.6 out of 5 stars         6,573      16.99       18.99  \n",
       "4        4.4 out of 5 stars         8,223      32.97       39.97  \n",
       "...                     ...           ...        ...         ...  \n",
       "2252672  3.6 out of 5 stars            26       1.99         NaN  \n",
       "2252673  3.6 out of 5 stars           162       7.76         NaN  \n",
       "2252674  3.9 out of 5 stars            13       6.99         NaN  \n",
       "2252675  3.1 out of 5 stars            27      12.01         NaN  \n",
       "2252676  3.7 out of 5 stars            29      34.99         NaN  \n",
       "\n",
       "[2252677 rows x 10 columns]"
      ],
      "text/html": "<div>\n<style scoped>\n    .dataframe tbody tr th:only-of-type {\n        vertical-align: middle;\n    }\n\n    .dataframe tbody tr th {\n        vertical-align: top;\n    }\n\n    .dataframe thead th {\n        text-align: right;\n    }\n</style>\n<table border=\"1\" class=\"dataframe\">\n  <thead>\n    <tr style=\"text-align: right;\">\n      <th></th>\n      <th>ASIN</th>\n      <th>category</th>\n      <th>links</th>\n      <th>title</th>\n      <th>price</th>\n      <th>image url</th>\n      <th>rating</th>\n      <th>No of reviews</th>\n      <th>low_price</th>\n      <th>high_price</th>\n    </tr>\n  </thead>\n  <tbody>\n    <tr>\n      <th>0</th>\n      <td>B07HF3X6Y4</td>\n      <td>Any Department/Home &amp; Kitchen/ Irons &amp; Steamers</td>\n      <td>https://www.amazon.com/Hilife-Steamer-Handheld...</td>\n      <td>\\n            Hilife Steamer for Clothes Steam...</td>\n      <td>$24.99</td>\n      <td>https://images-na.ssl-images-amazon.com/images...</td>\n      <td>4.4 out of 5 stars</td>\n      <td>15,233</td>\n      <td>24.99</td>\n      <td>NaN</td>\n    </tr>\n    <tr>\n      <th>1</th>\n      <td>B07JVFZJT7</td>\n      <td>Any Department/Home &amp; Kitchen/ Irons &amp; Steamers</td>\n      <td>https://www.amazon.com/Professional-Resistant-...</td>\n      <td>\\n            Professional Grade 1700W Steam I...</td>\n      <td>$39.97</td>\n      <td>https://images-na.ssl-images-amazon.com/images...</td>\n      <td>4.5 out of 5 stars</td>\n      <td>9,726</td>\n      <td>39.97</td>\n      <td>NaN</td>\n    </tr>\n    <tr>\n      <th>2</th>\n      <td>B07W95HD5M</td>\n      <td>Any Department/Home &amp; Kitchen/ Irons &amp; Steamers</td>\n      <td>https://www.amazon.com/HOMZ-Ironing-Board-Hold...</td>\n      <td>\\n            Homz T Leg Ironing Board Holder,...</td>\n      <td>$1.99 $64.78</td>\n      <td>https://images-na.ssl-images-amazon.com/images...</td>\n      <td>4.4 out of 5 stars</td>\n      <td>2,796</td>\n      <td>1.99</td>\n      <td>64.78</td>\n    </tr>\n    <tr>\n      <th>3</th>\n      <td>B07JGRV3TQ</td>\n      <td>Any Department/Home &amp; Kitchen/ Irons &amp; Steamers</td>\n      <td>https://www.amazon.com/OGHom-Steamer-Clothes-H...</td>\n      <td>\\n            OGHom Steamer for Clothes Steame...</td>\n      <td>$16.99 $18.99</td>\n      <td>https://images-na.ssl-images-amazon.com/images...</td>\n      <td>4.6 out of 5 stars</td>\n      <td>6,573</td>\n      <td>16.99</td>\n      <td>18.99</td>\n    </tr>\n    <tr>\n      <th>4</th>\n      <td>B01N1QE5ME</td>\n      <td>Any Department/Home &amp; Kitchen/ Irons &amp; Steamers</td>\n      <td>https://www.amazon.com/BEAUTURAL-1200-Watt-Han...</td>\n      <td>\\n            BEAUTURAL Steamer for Clothes wi...</td>\n      <td>$32.97 $39.97</td>\n      <td>https://images-na.ssl-images-amazon.com/images...</td>\n      <td>4.4 out of 5 stars</td>\n      <td>8,223</td>\n      <td>32.97</td>\n      <td>39.97</td>\n    </tr>\n    <tr>\n      <th>...</th>\n      <td>...</td>\n      <td>...</td>\n      <td>...</td>\n      <td>...</td>\n      <td>...</td>\n      <td>...</td>\n      <td>...</td>\n      <td>...</td>\n      <td>...</td>\n      <td>...</td>\n    </tr>\n    <tr>\n      <th>2252672</th>\n      <td>B0859ZNH4L</td>\n      <td>Any Department/Home &amp; Kitchen/Kids' Home Store...</td>\n      <td>https://www.amazon.com/Playtime-Animals-Bathro...</td>\n      <td>\\n            Bath Toy Organizer, Extra Durabl...</td>\n      <td>$1.99</td>\n      <td>https://images-na.ssl-images-amazon.com/images...</td>\n      <td>3.6 out of 5 stars</td>\n      <td>26</td>\n      <td>1.99</td>\n      <td>NaN</td>\n    </tr>\n    <tr>\n      <th>2252673</th>\n      <td>B07CJ5PDY3</td>\n      <td>Any Department/Home &amp; Kitchen/Kids' Home Store...</td>\n      <td>https://www.amazon.com/Gelrova-Mildew-Resistan...</td>\n      <td>\\n            Babykin Baby Bath Mat Anti Slip ...</td>\n      <td>$7.76</td>\n      <td>https://images-na.ssl-images-amazon.com/images...</td>\n      <td>3.6 out of 5 stars</td>\n      <td>162</td>\n      <td>7.76</td>\n      <td>NaN</td>\n    </tr>\n    <tr>\n      <th>2252674</th>\n      <td>B003DNS9XG</td>\n      <td>Any Department/Home &amp; Kitchen/Kids' Home Store...</td>\n      <td>https://www.amazon.com/Mommys-Helper-Froggie-C...</td>\n      <td>\\n            HYST Cartoon Panda/Pineapple Car...</td>\n      <td>$6.99</td>\n      <td>https://images-na.ssl-images-amazon.com/images...</td>\n      <td>3.9 out of 5 stars</td>\n      <td>13</td>\n      <td>6.99</td>\n      <td>NaN</td>\n    </tr>\n    <tr>\n      <th>2252675</th>\n      <td>B0793SKDRW</td>\n      <td>Any Department/Home &amp; Kitchen/Kids' Home Store...</td>\n      <td>https://www.amazon.com/Yimobra-Original-Bacter...</td>\n      <td>\\n            Non Slip Decal Sticker Strips Ba...</td>\n      <td>$12.01</td>\n      <td>https://images-na.ssl-images-amazon.com/images...</td>\n      <td>3.1 out of 5 stars</td>\n      <td>27</td>\n      <td>12.01</td>\n      <td>NaN</td>\n    </tr>\n    <tr>\n      <th>2252676</th>\n      <td>B00ZV8RAEU</td>\n      <td>Any Department/Home &amp; Kitchen/Kids' Home Store...</td>\n      <td>https://www.amazon.com/Dreambaby-Anti-slip-Sho...</td>\n      <td>\\n            Littlefun Baby Non-Slip Bath Mat...</td>\n      <td>$34.99</td>\n      <td>https://images-na.ssl-images-amazon.com/images...</td>\n      <td>3.7 out of 5 stars</td>\n      <td>29</td>\n      <td>34.99</td>\n      <td>NaN</td>\n    </tr>\n  </tbody>\n</table>\n<p>2252677 rows × 10 columns</p>\n</div>"
     },
     "metadata": {},
     "execution_count": 42
    }
   ],
   "source": [
    "df_amazon['low_price'] = df_amazon['low_price'].str.replace('$', '').astype(float)\n",
    "df_amazon['high_price'] = df_amazon['high_price'].str.replace('$', '').astype(float)\n",
    "df_amazon"
   ]
  },
  {
   "cell_type": "code",
   "execution_count": 47,
   "metadata": {},
   "outputs": [
    {
     "output_type": "execute_result",
     "data": {
      "text/plain": [
       "               ASIN                                           category  \\\n",
       "4        B01N1QE5ME    Any Department/Home & Kitchen/ Irons & Steamers   \n",
       "5        B07FR68WM7    Any Department/Home & Kitchen/ Irons & Steamers   \n",
       "21       B071W9K5WC    Any Department/Home & Kitchen/ Irons & Steamers   \n",
       "25       B07SSKRYPR    Any Department/Home & Kitchen/ Irons & Steamers   \n",
       "27       B00MG2OOHK    Any Department/Home & Kitchen/ Irons & Steamers   \n",
       "...             ...                                                ...   \n",
       "2252667  B0793SD3QT  Any Department/Home & Kitchen/Kids' Home Store...   \n",
       "2252668  B0793Q9LZZ  Any Department/Home & Kitchen/Kids' Home Store...   \n",
       "2252669  B07H6W6ZHB  Any Department/Home & Kitchen/Kids' Home Store...   \n",
       "2252673  B07CJ5PDY3  Any Department/Home & Kitchen/Kids' Home Store...   \n",
       "2252674  B003DNS9XG  Any Department/Home & Kitchen/Kids' Home Store...   \n",
       "\n",
       "                                                     links  \\\n",
       "4        https://www.amazon.com/BEAUTURAL-1200-Watt-Han...   \n",
       "5        https://www.amazon.com/Steamfast-Voltage-Non-S...   \n",
       "21       https://www.amazon.com/mDesign-Ironing-Holder-...   \n",
       "25       https://www.amazon.com/MagicPro-Portable-Garme...   \n",
       "27       https://www.amazon.com/PurSteam-Powerful-Wrink...   \n",
       "...                                                    ...   \n",
       "2252667  https://www.amazon.com/Yimobra-Original-Bacter...   \n",
       "2252668  https://www.amazon.com/Yimobra-Original-Bacter...   \n",
       "2252669  https://www.amazon.com/ILIKY-Children-Suction-...   \n",
       "2252673  https://www.amazon.com/Gelrova-Mildew-Resistan...   \n",
       "2252674  https://www.amazon.com/Mommys-Helper-Froggie-C...   \n",
       "\n",
       "                                                     title           price  \\\n",
       "4        \\n            BEAUTURAL Steamer for Clothes wi...   $32.97 $39.97   \n",
       "5        \\n            GORILLA GRIP Reflective Silicone...  $19.99 $137.99   \n",
       "21       \\n            Sunbeam Hot-2-Trot 800 Watt Comp...          $19.99   \n",
       "25       \\n            Lemontec Portable Travel Garment...          $23.95   \n",
       "27       \\n            Maytag Digital Smart Fill Steam ...          $19.97   \n",
       "...                                                    ...             ...   \n",
       "2252667  \\n            Playtime Cozy Animals Cute Cat S...   $19.99 $21.99   \n",
       "2252668  \\n            Mommy's Helper Bath Mat Froggie ...          $26.99   \n",
       "2252669  \\n            New Blue Dreambaby Heat Alert An...           $8.99   \n",
       "2252673  \\n            Babykin Baby Bath Mat Anti Slip ...           $7.76   \n",
       "2252674  \\n            HYST Cartoon Panda/Pineapple Car...           $6.99   \n",
       "\n",
       "                                                 image url  \\\n",
       "4        https://images-na.ssl-images-amazon.com/images...   \n",
       "5        https://images-na.ssl-images-amazon.com/images...   \n",
       "21       https://images-na.ssl-images-amazon.com/images...   \n",
       "25       https://images-na.ssl-images-amazon.com/images...   \n",
       "27       https://images-na.ssl-images-amazon.com/images...   \n",
       "...                                                    ...   \n",
       "2252667  https://images-na.ssl-images-amazon.com/images...   \n",
       "2252668  https://images-na.ssl-images-amazon.com/images...   \n",
       "2252669  https://images-na.ssl-images-amazon.com/images...   \n",
       "2252673  https://images-na.ssl-images-amazon.com/images...   \n",
       "2252674  https://images-na.ssl-images-amazon.com/images...   \n",
       "\n",
       "                     rating No of reviews  low_price  high_price  \n",
       "4        4.4 out of 5 stars         8,223      32.97       39.97  \n",
       "5        4.7 out of 5 stars         4,327      19.99      137.99  \n",
       "21       4.3 out of 5 stars         3,940      19.99         NaN  \n",
       "25       4.4 out of 5 stars         7,339      23.95         NaN  \n",
       "27       4.5 out of 5 stars         2,464      19.97         NaN  \n",
       "...                     ...           ...        ...         ...  \n",
       "2252667  3.9 out of 5 stars            90      19.99       21.99  \n",
       "2252668  4.2 out of 5 stars            51      26.99         NaN  \n",
       "2252669  3.4 out of 5 stars            39       8.99         NaN  \n",
       "2252673  3.6 out of 5 stars           162       7.76         NaN  \n",
       "2252674  3.9 out of 5 stars            13       6.99         NaN  \n",
       "\n",
       "[1040966 rows x 10 columns]"
      ],
      "text/html": "<div>\n<style scoped>\n    .dataframe tbody tr th:only-of-type {\n        vertical-align: middle;\n    }\n\n    .dataframe tbody tr th {\n        vertical-align: top;\n    }\n\n    .dataframe thead th {\n        text-align: right;\n    }\n</style>\n<table border=\"1\" class=\"dataframe\">\n  <thead>\n    <tr style=\"text-align: right;\">\n      <th></th>\n      <th>ASIN</th>\n      <th>category</th>\n      <th>links</th>\n      <th>title</th>\n      <th>price</th>\n      <th>image url</th>\n      <th>rating</th>\n      <th>No of reviews</th>\n      <th>low_price</th>\n      <th>high_price</th>\n    </tr>\n  </thead>\n  <tbody>\n    <tr>\n      <th>4</th>\n      <td>B01N1QE5ME</td>\n      <td>Any Department/Home &amp; Kitchen/ Irons &amp; Steamers</td>\n      <td>https://www.amazon.com/BEAUTURAL-1200-Watt-Han...</td>\n      <td>\\n            BEAUTURAL Steamer for Clothes wi...</td>\n      <td>$32.97 $39.97</td>\n      <td>https://images-na.ssl-images-amazon.com/images...</td>\n      <td>4.4 out of 5 stars</td>\n      <td>8,223</td>\n      <td>32.97</td>\n      <td>39.97</td>\n    </tr>\n    <tr>\n      <th>5</th>\n      <td>B07FR68WM7</td>\n      <td>Any Department/Home &amp; Kitchen/ Irons &amp; Steamers</td>\n      <td>https://www.amazon.com/Steamfast-Voltage-Non-S...</td>\n      <td>\\n            GORILLA GRIP Reflective Silicone...</td>\n      <td>$19.99 $137.99</td>\n      <td>https://images-na.ssl-images-amazon.com/images...</td>\n      <td>4.7 out of 5 stars</td>\n      <td>4,327</td>\n      <td>19.99</td>\n      <td>137.99</td>\n    </tr>\n    <tr>\n      <th>21</th>\n      <td>B071W9K5WC</td>\n      <td>Any Department/Home &amp; Kitchen/ Irons &amp; Steamers</td>\n      <td>https://www.amazon.com/mDesign-Ironing-Holder-...</td>\n      <td>\\n            Sunbeam Hot-2-Trot 800 Watt Comp...</td>\n      <td>$19.99</td>\n      <td>https://images-na.ssl-images-amazon.com/images...</td>\n      <td>4.3 out of 5 stars</td>\n      <td>3,940</td>\n      <td>19.99</td>\n      <td>NaN</td>\n    </tr>\n    <tr>\n      <th>25</th>\n      <td>B07SSKRYPR</td>\n      <td>Any Department/Home &amp; Kitchen/ Irons &amp; Steamers</td>\n      <td>https://www.amazon.com/MagicPro-Portable-Garme...</td>\n      <td>\\n            Lemontec Portable Travel Garment...</td>\n      <td>$23.95</td>\n      <td>https://images-na.ssl-images-amazon.com/images...</td>\n      <td>4.4 out of 5 stars</td>\n      <td>7,339</td>\n      <td>23.95</td>\n      <td>NaN</td>\n    </tr>\n    <tr>\n      <th>27</th>\n      <td>B00MG2OOHK</td>\n      <td>Any Department/Home &amp; Kitchen/ Irons &amp; Steamers</td>\n      <td>https://www.amazon.com/PurSteam-Powerful-Wrink...</td>\n      <td>\\n            Maytag Digital Smart Fill Steam ...</td>\n      <td>$19.97</td>\n      <td>https://images-na.ssl-images-amazon.com/images...</td>\n      <td>4.5 out of 5 stars</td>\n      <td>2,464</td>\n      <td>19.97</td>\n      <td>NaN</td>\n    </tr>\n    <tr>\n      <th>...</th>\n      <td>...</td>\n      <td>...</td>\n      <td>...</td>\n      <td>...</td>\n      <td>...</td>\n      <td>...</td>\n      <td>...</td>\n      <td>...</td>\n      <td>...</td>\n      <td>...</td>\n    </tr>\n    <tr>\n      <th>2252667</th>\n      <td>B0793SD3QT</td>\n      <td>Any Department/Home &amp; Kitchen/Kids' Home Store...</td>\n      <td>https://www.amazon.com/Yimobra-Original-Bacter...</td>\n      <td>\\n            Playtime Cozy Animals Cute Cat S...</td>\n      <td>$19.99 $21.99</td>\n      <td>https://images-na.ssl-images-amazon.com/images...</td>\n      <td>3.9 out of 5 stars</td>\n      <td>90</td>\n      <td>19.99</td>\n      <td>21.99</td>\n    </tr>\n    <tr>\n      <th>2252668</th>\n      <td>B0793Q9LZZ</td>\n      <td>Any Department/Home &amp; Kitchen/Kids' Home Store...</td>\n      <td>https://www.amazon.com/Yimobra-Original-Bacter...</td>\n      <td>\\n            Mommy's Helper Bath Mat Froggie ...</td>\n      <td>$26.99</td>\n      <td>https://images-na.ssl-images-amazon.com/images...</td>\n      <td>4.2 out of 5 stars</td>\n      <td>51</td>\n      <td>26.99</td>\n      <td>NaN</td>\n    </tr>\n    <tr>\n      <th>2252669</th>\n      <td>B07H6W6ZHB</td>\n      <td>Any Department/Home &amp; Kitchen/Kids' Home Store...</td>\n      <td>https://www.amazon.com/ILIKY-Children-Suction-...</td>\n      <td>\\n            New Blue Dreambaby Heat Alert An...</td>\n      <td>$8.99</td>\n      <td>https://images-na.ssl-images-amazon.com/images...</td>\n      <td>3.4 out of 5 stars</td>\n      <td>39</td>\n      <td>8.99</td>\n      <td>NaN</td>\n    </tr>\n    <tr>\n      <th>2252673</th>\n      <td>B07CJ5PDY3</td>\n      <td>Any Department/Home &amp; Kitchen/Kids' Home Store...</td>\n      <td>https://www.amazon.com/Gelrova-Mildew-Resistan...</td>\n      <td>\\n            Babykin Baby Bath Mat Anti Slip ...</td>\n      <td>$7.76</td>\n      <td>https://images-na.ssl-images-amazon.com/images...</td>\n      <td>3.6 out of 5 stars</td>\n      <td>162</td>\n      <td>7.76</td>\n      <td>NaN</td>\n    </tr>\n    <tr>\n      <th>2252674</th>\n      <td>B003DNS9XG</td>\n      <td>Any Department/Home &amp; Kitchen/Kids' Home Store...</td>\n      <td>https://www.amazon.com/Mommys-Helper-Froggie-C...</td>\n      <td>\\n            HYST Cartoon Panda/Pineapple Car...</td>\n      <td>$6.99</td>\n      <td>https://images-na.ssl-images-amazon.com/images...</td>\n      <td>3.9 out of 5 stars</td>\n      <td>13</td>\n      <td>6.99</td>\n      <td>NaN</td>\n    </tr>\n  </tbody>\n</table>\n<p>1040966 rows × 10 columns</p>\n</div>"
     },
     "metadata": {},
     "execution_count": 47
    }
   ],
   "source": [
    "new_df_amazon = df_amazon.sort_values('low_price', ascending=False).drop_duplicates('ASIN').sort_index()\n",
    "\n",
    "new_df_amazon"
   ]
  },
  {
   "cell_type": "code",
   "execution_count": 49,
   "metadata": {},
   "outputs": [
    {
     "output_type": "stream",
     "name": "stdout",
     "text": [
      "3987\n"
     ]
    }
   ],
   "source": [
    "total_nan_values = new_df_amazon.low_price.isnull().sum().sum()\n",
    "print (total_nan_values)"
   ]
  },
  {
   "cell_type": "code",
   "execution_count": 27,
   "metadata": {},
   "outputs": [
    {
     "output_type": "execute_result",
     "data": {
      "text/plain": [
       "               ASIN                                           category  \\\n",
       "2183     B07GTBWQKZ  Any Department/Home & Kitchen/Bedding/Electric...   \n",
       "2193     B085R7T79S  Any Department/Home & Kitchen/Bedding/Electric...   \n",
       "3120     B00U8TCZYM  Any Department/Home & Kitchen/Furniture/Living...   \n",
       "6255     B07KWWVM4R  Any Department/Kitchen & Dining/Small Applianc...   \n",
       "6256     B079YXYSQH  Any Department/Kitchen & Dining/Small Applianc...   \n",
       "...             ...                                                ...   \n",
       "2238860  B08BDH6S81  Any Department/Home & Kitchen/Heating, Cooling...   \n",
       "2239764  B00HHYNQC6  Any Department/Home & Kitchen/Heating, Cooling...   \n",
       "2239788  B0764K6931  Any Department/Home & Kitchen/Heating, Cooling...   \n",
       "2240583  B001XW6AZI  Any Department/Home & Kitchen/Heating, Cooling...   \n",
       "2240592  B000UPPRDA  Any Department/Home & Kitchen/Heating, Cooling...   \n",
       "\n",
       "                                                     links  \\\n",
       "2183     https://www.amazon.com/ChiliPad-Cube-2-0-Tempe...   \n",
       "2193     https://www.amazon.com/chiliPAD-Cube-2-0-Tempe...   \n",
       "3120     https://www.amazon.com/Carolina-Chair-Table-Ha...   \n",
       "6255     https://www.amazon.com/Cellar-Refrigerator-Bot...   \n",
       "6256     https://www.amazon.com/Whynter-BWR-1642DZ-Comp...   \n",
       "...                                                    ...   \n",
       "2238860  https://www.amazon.com/Drolet-Deco-Medium-Cert...   \n",
       "2239764  https://www.amazon.com/Clean-Burnpot-Quadrafir...   \n",
       "2239788  https://www.amazon.com/Rinnai-EX38CTN-Thermost...   \n",
       "2240583  https://www.amazon.com/Kozy-World-Dual-Fuel-He...   \n",
       "2240592  https://www.amazon.com/Mr-Heater-Natural-Flame...   \n",
       "\n",
       "                                                     title price  \\\n",
       "2183     \\n            Sunbeam SelectTouch Premium Quil...   NaN   \n",
       "2193     \\n            Sunbeam Luxury Quilted Electric ...   NaN   \n",
       "3120     \\n            Unique Art 10-Inch Tall Table To...   NaN   \n",
       "6255     \\n            Whynter BWR-1642DZ 164 Built-in ...   NaN   \n",
       "6256     \\n            Phiestina 15 Inch Dual Zone Wine...   NaN   \n",
       "...                                                    ...   ...   \n",
       "2238860  \\n            QuadraFire Cumberland Gap Door G...   NaN   \n",
       "2239764  \\n            Mandycng Heavy Duty Black Steel ...   NaN   \n",
       "2239788  \\n            Rinnai EX38CT Direct Vent Wall F...   NaN   \n",
       "2240583  \\n            Empire Closed Front Room Heater ...   NaN   \n",
       "2240592  \\n            Mr. Heater 30K BTU Blue Flame Ve...   NaN   \n",
       "\n",
       "                                                 image url  \\\n",
       "2183     https://images-na.ssl-images-amazon.com/images...   \n",
       "2193     https://images-na.ssl-images-amazon.com/images...   \n",
       "3120     https://images-na.ssl-images-amazon.com/images...   \n",
       "6255     https://images-na.ssl-images-amazon.com/images...   \n",
       "6256     https://images-na.ssl-images-amazon.com/images...   \n",
       "...                                                    ...   \n",
       "2238860  https://images-na.ssl-images-amazon.com/images...   \n",
       "2239764  https://images-na.ssl-images-amazon.com/images...   \n",
       "2239788  https://images-na.ssl-images-amazon.com/images...   \n",
       "2240583  https://images-na.ssl-images-amazon.com/images...   \n",
       "2240592  https://images-na.ssl-images-amazon.com/images...   \n",
       "\n",
       "                     rating No of reviews  \n",
       "2183     4.5 out of 5 stars           379  \n",
       "2193     3.9 out of 5 stars            52  \n",
       "3120     4.2 out of 5 stars            26  \n",
       "6255     4.4 out of 5 stars             9  \n",
       "6256     4.8 out of 5 stars             8  \n",
       "...                     ...           ...  \n",
       "2238860  5.0 out of 5 stars             4  \n",
       "2239764  4.0 out of 5 stars            24  \n",
       "2239788  3.7 out of 5 stars             6  \n",
       "2240583  3.9 out of 5 stars            58  \n",
       "2240592  5.0 out of 5 stars             1  \n",
       "\n",
       "[4206 rows x 8 columns]"
      ],
      "text/html": "<div>\n<style scoped>\n    .dataframe tbody tr th:only-of-type {\n        vertical-align: middle;\n    }\n\n    .dataframe tbody tr th {\n        vertical-align: top;\n    }\n\n    .dataframe thead th {\n        text-align: right;\n    }\n</style>\n<table border=\"1\" class=\"dataframe\">\n  <thead>\n    <tr style=\"text-align: right;\">\n      <th></th>\n      <th>ASIN</th>\n      <th>category</th>\n      <th>links</th>\n      <th>title</th>\n      <th>price</th>\n      <th>image url</th>\n      <th>rating</th>\n      <th>No of reviews</th>\n    </tr>\n  </thead>\n  <tbody>\n    <tr>\n      <th>2183</th>\n      <td>B07GTBWQKZ</td>\n      <td>Any Department/Home &amp; Kitchen/Bedding/Electric...</td>\n      <td>https://www.amazon.com/ChiliPad-Cube-2-0-Tempe...</td>\n      <td>\\n            Sunbeam SelectTouch Premium Quil...</td>\n      <td>NaN</td>\n      <td>https://images-na.ssl-images-amazon.com/images...</td>\n      <td>4.5 out of 5 stars</td>\n      <td>379</td>\n    </tr>\n    <tr>\n      <th>2193</th>\n      <td>B085R7T79S</td>\n      <td>Any Department/Home &amp; Kitchen/Bedding/Electric...</td>\n      <td>https://www.amazon.com/chiliPAD-Cube-2-0-Tempe...</td>\n      <td>\\n            Sunbeam Luxury Quilted Electric ...</td>\n      <td>NaN</td>\n      <td>https://images-na.ssl-images-amazon.com/images...</td>\n      <td>3.9 out of 5 stars</td>\n      <td>52</td>\n    </tr>\n    <tr>\n      <th>3120</th>\n      <td>B00U8TCZYM</td>\n      <td>Any Department/Home &amp; Kitchen/Furniture/Living...</td>\n      <td>https://www.amazon.com/Carolina-Chair-Table-Ha...</td>\n      <td>\\n            Unique Art 10-Inch Tall Table To...</td>\n      <td>NaN</td>\n      <td>https://images-na.ssl-images-amazon.com/images...</td>\n      <td>4.2 out of 5 stars</td>\n      <td>26</td>\n    </tr>\n    <tr>\n      <th>6255</th>\n      <td>B07KWWVM4R</td>\n      <td>Any Department/Kitchen &amp; Dining/Small Applianc...</td>\n      <td>https://www.amazon.com/Cellar-Refrigerator-Bot...</td>\n      <td>\\n            Whynter BWR-1642DZ 164 Built-in ...</td>\n      <td>NaN</td>\n      <td>https://images-na.ssl-images-amazon.com/images...</td>\n      <td>4.4 out of 5 stars</td>\n      <td>9</td>\n    </tr>\n    <tr>\n      <th>6256</th>\n      <td>B079YXYSQH</td>\n      <td>Any Department/Kitchen &amp; Dining/Small Applianc...</td>\n      <td>https://www.amazon.com/Whynter-BWR-1642DZ-Comp...</td>\n      <td>\\n            Phiestina 15 Inch Dual Zone Wine...</td>\n      <td>NaN</td>\n      <td>https://images-na.ssl-images-amazon.com/images...</td>\n      <td>4.8 out of 5 stars</td>\n      <td>8</td>\n    </tr>\n    <tr>\n      <th>...</th>\n      <td>...</td>\n      <td>...</td>\n      <td>...</td>\n      <td>...</td>\n      <td>...</td>\n      <td>...</td>\n      <td>...</td>\n      <td>...</td>\n    </tr>\n    <tr>\n      <th>2238860</th>\n      <td>B08BDH6S81</td>\n      <td>Any Department/Home &amp; Kitchen/Heating, Cooling...</td>\n      <td>https://www.amazon.com/Drolet-Deco-Medium-Cert...</td>\n      <td>\\n            QuadraFire Cumberland Gap Door G...</td>\n      <td>NaN</td>\n      <td>https://images-na.ssl-images-amazon.com/images...</td>\n      <td>5.0 out of 5 stars</td>\n      <td>4</td>\n    </tr>\n    <tr>\n      <th>2239764</th>\n      <td>B00HHYNQC6</td>\n      <td>Any Department/Home &amp; Kitchen/Heating, Cooling...</td>\n      <td>https://www.amazon.com/Clean-Burnpot-Quadrafir...</td>\n      <td>\\n            Mandycng Heavy Duty Black Steel ...</td>\n      <td>NaN</td>\n      <td>https://images-na.ssl-images-amazon.com/images...</td>\n      <td>4.0 out of 5 stars</td>\n      <td>24</td>\n    </tr>\n    <tr>\n      <th>2239788</th>\n      <td>B0764K6931</td>\n      <td>Any Department/Home &amp; Kitchen/Heating, Cooling...</td>\n      <td>https://www.amazon.com/Rinnai-EX38CTN-Thermost...</td>\n      <td>\\n            Rinnai EX38CT Direct Vent Wall F...</td>\n      <td>NaN</td>\n      <td>https://images-na.ssl-images-amazon.com/images...</td>\n      <td>3.7 out of 5 stars</td>\n      <td>6</td>\n    </tr>\n    <tr>\n      <th>2240583</th>\n      <td>B001XW6AZI</td>\n      <td>Any Department/Home &amp; Kitchen/Heating, Cooling...</td>\n      <td>https://www.amazon.com/Kozy-World-Dual-Fuel-He...</td>\n      <td>\\n            Empire Closed Front Room Heater ...</td>\n      <td>NaN</td>\n      <td>https://images-na.ssl-images-amazon.com/images...</td>\n      <td>3.9 out of 5 stars</td>\n      <td>58</td>\n    </tr>\n    <tr>\n      <th>2240592</th>\n      <td>B000UPPRDA</td>\n      <td>Any Department/Home &amp; Kitchen/Heating, Cooling...</td>\n      <td>https://www.amazon.com/Mr-Heater-Natural-Flame...</td>\n      <td>\\n            Mr. Heater 30K BTU Blue Flame Ve...</td>\n      <td>NaN</td>\n      <td>https://images-na.ssl-images-amazon.com/images...</td>\n      <td>5.0 out of 5 stars</td>\n      <td>1</td>\n    </tr>\n  </tbody>\n</table>\n<p>4206 rows × 8 columns</p>\n</div>"
     },
     "metadata": {},
     "execution_count": 27
    }
   ],
   "source": [
    "null_df = new_df_amazon[pd.isnull(new_df_amazon).any(axis=1)]\n",
    "null_df"
   ]
  },
  {
   "cell_type": "code",
   "execution_count": null,
   "metadata": {},
   "outputs": [],
   "source": [
    "#Pasos a seguir para hacer una función que reemplace los nan values por su valor real\n",
    "\"\"\"\n",
    "Primero recorrer la columna de price\n",
    " - Si price = NaN\n",
    "    - Coger la columna URL\n",
    "        - Hacer web scraping para coger el precio\n",
    "            - Guardar el precio en una variable\n",
    "                 - Con esa variable hacer NaN replace variable\n",
    "Return dataframe\n",
    "\"\"\""
   ]
  },
  {
   "cell_type": "code",
   "execution_count": null,
   "metadata": {},
   "outputs": [],
   "source": [
    "\"\"\"\"\n",
    "\n",
    "def funcion_cambiar_valores(dataframe, columna_nan, columna_links):\n",
    "    for pos, i in enumerate(null_df.price):\n",
    "        if i == 0:\n",
    "            url = null_df.links.iloc[pos]\n",
    "\n",
    "            response = requests.get(url)\n",
    "            soup1 = BeautifulSoup(response.content, features=\"lxml\")\n",
    "\n",
    "            price = soup1.select(\"#priceblock_ourprice\")[0].get_text()\n",
    "            new_price = price.replace(u'\\xa0', u' ')\n",
    "            \n",
    "            \n",
    "        \"\"\"\n",
    "\n"
   ]
  },
  {
   "cell_type": "code",
   "execution_count": null,
   "metadata": {},
   "outputs": [],
   "source": [
    "def show_html(html_str):\n",
    "    print(BeautifulSoup(str(html_str), 'html.parser').prettify())"
   ]
  },
  {
   "cell_type": "code",
   "execution_count": null,
   "metadata": {},
   "outputs": [],
   "source": [
    "    for pos, i in enumerate(null_df.price):\n",
    "        if i == 0:\n",
    "            url = null_df.links.iloc[pos]\n",
    "\n",
    "            response = requests.get(url)\n",
    "            soup1 = BeautifulSoup(response.content) \n",
    "\n",
    "            if \"priceblock_ourprice\" in soup1:\n",
    "                price = soup1.select(\"#priceblock_ourprice\")[0].get_text()\n",
    "                new_price = price.replace(u'\\xa0', u' ')\n",
    "                print(new_price)"
   ]
  }
 ]
}