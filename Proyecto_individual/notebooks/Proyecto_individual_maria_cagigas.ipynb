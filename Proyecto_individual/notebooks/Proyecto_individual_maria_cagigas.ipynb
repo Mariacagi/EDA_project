{
 "metadata": {
  "language_info": {
   "codemirror_mode": {
    "name": "ipython",
    "version": 3
   },
   "file_extension": ".py",
   "mimetype": "text/x-python",
   "name": "python",
   "nbconvert_exporter": "python",
   "pygments_lexer": "ipython3",
   "version": "3.9.0-final"
  },
  "orig_nbformat": 2,
  "kernelspec": {
   "name": "python3",
   "display_name": "Python 3.9.0 64-bit",
   "metadata": {
    "interpreter": {
     "hash": "af698c02722c81864863429d928a3bd8a8dcc030c4156359d3ef8b980fb01319"
    }
   }
  }
 },
 "nbformat": 4,
 "nbformat_minor": 2,
 "cells": [
  {
   "cell_type": "code",
   "execution_count": 5,
   "metadata": {},
   "outputs": [],
   "source": [
    "import pandas as pd\n",
    "import csv"
   ]
  },
  {
   "cell_type": "code",
   "execution_count": 6,
   "metadata": {},
   "outputs": [
    {
     "output_type": "execute_result",
     "data": {
      "text/plain": [
       "               ASIN                                           category  \\\n",
       "0        B07HF3X6Y4    Any Department/Home & Kitchen/ Irons & Steamers   \n",
       "1        B07JVFZJT7    Any Department/Home & Kitchen/ Irons & Steamers   \n",
       "2        B07W95HD5M    Any Department/Home & Kitchen/ Irons & Steamers   \n",
       "3        B07JGRV3TQ    Any Department/Home & Kitchen/ Irons & Steamers   \n",
       "4        B01N1QE5ME    Any Department/Home & Kitchen/ Irons & Steamers   \n",
       "...             ...                                                ...   \n",
       "2252672  B0859ZNH4L  Any Department/Home & Kitchen/Kids' Home Store...   \n",
       "2252673  B07CJ5PDY3  Any Department/Home & Kitchen/Kids' Home Store...   \n",
       "2252674  B003DNS9XG  Any Department/Home & Kitchen/Kids' Home Store...   \n",
       "2252675  B0793SKDRW  Any Department/Home & Kitchen/Kids' Home Store...   \n",
       "2252676  B00ZV8RAEU  Any Department/Home & Kitchen/Kids' Home Store...   \n",
       "\n",
       "                                                     links  \\\n",
       "0        https://www.amazon.com/Hilife-Steamer-Handheld...   \n",
       "1        https://www.amazon.com/Professional-Resistant-...   \n",
       "2        https://www.amazon.com/HOMZ-Ironing-Board-Hold...   \n",
       "3        https://www.amazon.com/OGHom-Steamer-Clothes-H...   \n",
       "4        https://www.amazon.com/BEAUTURAL-1200-Watt-Han...   \n",
       "...                                                    ...   \n",
       "2252672  https://www.amazon.com/Playtime-Animals-Bathro...   \n",
       "2252673  https://www.amazon.com/Gelrova-Mildew-Resistan...   \n",
       "2252674  https://www.amazon.com/Mommys-Helper-Froggie-C...   \n",
       "2252675  https://www.amazon.com/Yimobra-Original-Bacter...   \n",
       "2252676  https://www.amazon.com/Dreambaby-Anti-slip-Sho...   \n",
       "\n",
       "                                                     title          price  \\\n",
       "0        \\n            Hilife Steamer for Clothes Steam...         $24.99   \n",
       "1        \\n            Professional Grade 1700W Steam I...         $39.97   \n",
       "2        \\n            Homz T Leg Ironing Board Holder,...   $1.99 $64.78   \n",
       "3        \\n            OGHom Steamer for Clothes Steame...  $16.99 $18.99   \n",
       "4        \\n            BEAUTURAL Steamer for Clothes wi...  $32.97 $39.97   \n",
       "...                                                    ...            ...   \n",
       "2252672  \\n            Bath Toy Organizer, Extra Durabl...          $1.99   \n",
       "2252673  \\n            Babykin Baby Bath Mat Anti Slip ...          $7.76   \n",
       "2252674  \\n            HYST Cartoon Panda/Pineapple Car...          $6.99   \n",
       "2252675  \\n            Non Slip Decal Sticker Strips Ba...         $12.01   \n",
       "2252676  \\n            Littlefun Baby Non-Slip Bath Mat...         $34.99   \n",
       "\n",
       "                                                 image url  \\\n",
       "0        https://images-na.ssl-images-amazon.com/images...   \n",
       "1        https://images-na.ssl-images-amazon.com/images...   \n",
       "2        https://images-na.ssl-images-amazon.com/images...   \n",
       "3        https://images-na.ssl-images-amazon.com/images...   \n",
       "4        https://images-na.ssl-images-amazon.com/images...   \n",
       "...                                                    ...   \n",
       "2252672  https://images-na.ssl-images-amazon.com/images...   \n",
       "2252673  https://images-na.ssl-images-amazon.com/images...   \n",
       "2252674  https://images-na.ssl-images-amazon.com/images...   \n",
       "2252675  https://images-na.ssl-images-amazon.com/images...   \n",
       "2252676  https://images-na.ssl-images-amazon.com/images...   \n",
       "\n",
       "                     rating No of reviews  \n",
       "0        4.4 out of 5 stars        15,233  \n",
       "1        4.5 out of 5 stars         9,726  \n",
       "2        4.4 out of 5 stars         2,796  \n",
       "3        4.6 out of 5 stars         6,573  \n",
       "4        4.4 out of 5 stars         8,223  \n",
       "...                     ...           ...  \n",
       "2252672  3.6 out of 5 stars            26  \n",
       "2252673  3.6 out of 5 stars           162  \n",
       "2252674  3.9 out of 5 stars            13  \n",
       "2252675  3.1 out of 5 stars            27  \n",
       "2252676  3.7 out of 5 stars            29  \n",
       "\n",
       "[2252677 rows x 8 columns]"
      ],
      "text/html": "<div>\n<style scoped>\n    .dataframe tbody tr th:only-of-type {\n        vertical-align: middle;\n    }\n\n    .dataframe tbody tr th {\n        vertical-align: top;\n    }\n\n    .dataframe thead th {\n        text-align: right;\n    }\n</style>\n<table border=\"1\" class=\"dataframe\">\n  <thead>\n    <tr style=\"text-align: right;\">\n      <th></th>\n      <th>ASIN</th>\n      <th>category</th>\n      <th>links</th>\n      <th>title</th>\n      <th>price</th>\n      <th>image url</th>\n      <th>rating</th>\n      <th>No of reviews</th>\n    </tr>\n  </thead>\n  <tbody>\n    <tr>\n      <th>0</th>\n      <td>B07HF3X6Y4</td>\n      <td>Any Department/Home &amp; Kitchen/ Irons &amp; Steamers</td>\n      <td>https://www.amazon.com/Hilife-Steamer-Handheld...</td>\n      <td>\\n            Hilife Steamer for Clothes Steam...</td>\n      <td>$24.99</td>\n      <td>https://images-na.ssl-images-amazon.com/images...</td>\n      <td>4.4 out of 5 stars</td>\n      <td>15,233</td>\n    </tr>\n    <tr>\n      <th>1</th>\n      <td>B07JVFZJT7</td>\n      <td>Any Department/Home &amp; Kitchen/ Irons &amp; Steamers</td>\n      <td>https://www.amazon.com/Professional-Resistant-...</td>\n      <td>\\n            Professional Grade 1700W Steam I...</td>\n      <td>$39.97</td>\n      <td>https://images-na.ssl-images-amazon.com/images...</td>\n      <td>4.5 out of 5 stars</td>\n      <td>9,726</td>\n    </tr>\n    <tr>\n      <th>2</th>\n      <td>B07W95HD5M</td>\n      <td>Any Department/Home &amp; Kitchen/ Irons &amp; Steamers</td>\n      <td>https://www.amazon.com/HOMZ-Ironing-Board-Hold...</td>\n      <td>\\n            Homz T Leg Ironing Board Holder,...</td>\n      <td>$1.99 $64.78</td>\n      <td>https://images-na.ssl-images-amazon.com/images...</td>\n      <td>4.4 out of 5 stars</td>\n      <td>2,796</td>\n    </tr>\n    <tr>\n      <th>3</th>\n      <td>B07JGRV3TQ</td>\n      <td>Any Department/Home &amp; Kitchen/ Irons &amp; Steamers</td>\n      <td>https://www.amazon.com/OGHom-Steamer-Clothes-H...</td>\n      <td>\\n            OGHom Steamer for Clothes Steame...</td>\n      <td>$16.99 $18.99</td>\n      <td>https://images-na.ssl-images-amazon.com/images...</td>\n      <td>4.6 out of 5 stars</td>\n      <td>6,573</td>\n    </tr>\n    <tr>\n      <th>4</th>\n      <td>B01N1QE5ME</td>\n      <td>Any Department/Home &amp; Kitchen/ Irons &amp; Steamers</td>\n      <td>https://www.amazon.com/BEAUTURAL-1200-Watt-Han...</td>\n      <td>\\n            BEAUTURAL Steamer for Clothes wi...</td>\n      <td>$32.97 $39.97</td>\n      <td>https://images-na.ssl-images-amazon.com/images...</td>\n      <td>4.4 out of 5 stars</td>\n      <td>8,223</td>\n    </tr>\n    <tr>\n      <th>...</th>\n      <td>...</td>\n      <td>...</td>\n      <td>...</td>\n      <td>...</td>\n      <td>...</td>\n      <td>...</td>\n      <td>...</td>\n      <td>...</td>\n    </tr>\n    <tr>\n      <th>2252672</th>\n      <td>B0859ZNH4L</td>\n      <td>Any Department/Home &amp; Kitchen/Kids' Home Store...</td>\n      <td>https://www.amazon.com/Playtime-Animals-Bathro...</td>\n      <td>\\n            Bath Toy Organizer, Extra Durabl...</td>\n      <td>$1.99</td>\n      <td>https://images-na.ssl-images-amazon.com/images...</td>\n      <td>3.6 out of 5 stars</td>\n      <td>26</td>\n    </tr>\n    <tr>\n      <th>2252673</th>\n      <td>B07CJ5PDY3</td>\n      <td>Any Department/Home &amp; Kitchen/Kids' Home Store...</td>\n      <td>https://www.amazon.com/Gelrova-Mildew-Resistan...</td>\n      <td>\\n            Babykin Baby Bath Mat Anti Slip ...</td>\n      <td>$7.76</td>\n      <td>https://images-na.ssl-images-amazon.com/images...</td>\n      <td>3.6 out of 5 stars</td>\n      <td>162</td>\n    </tr>\n    <tr>\n      <th>2252674</th>\n      <td>B003DNS9XG</td>\n      <td>Any Department/Home &amp; Kitchen/Kids' Home Store...</td>\n      <td>https://www.amazon.com/Mommys-Helper-Froggie-C...</td>\n      <td>\\n            HYST Cartoon Panda/Pineapple Car...</td>\n      <td>$6.99</td>\n      <td>https://images-na.ssl-images-amazon.com/images...</td>\n      <td>3.9 out of 5 stars</td>\n      <td>13</td>\n    </tr>\n    <tr>\n      <th>2252675</th>\n      <td>B0793SKDRW</td>\n      <td>Any Department/Home &amp; Kitchen/Kids' Home Store...</td>\n      <td>https://www.amazon.com/Yimobra-Original-Bacter...</td>\n      <td>\\n            Non Slip Decal Sticker Strips Ba...</td>\n      <td>$12.01</td>\n      <td>https://images-na.ssl-images-amazon.com/images...</td>\n      <td>3.1 out of 5 stars</td>\n      <td>27</td>\n    </tr>\n    <tr>\n      <th>2252676</th>\n      <td>B00ZV8RAEU</td>\n      <td>Any Department/Home &amp; Kitchen/Kids' Home Store...</td>\n      <td>https://www.amazon.com/Dreambaby-Anti-slip-Sho...</td>\n      <td>\\n            Littlefun Baby Non-Slip Bath Mat...</td>\n      <td>$34.99</td>\n      <td>https://images-na.ssl-images-amazon.com/images...</td>\n      <td>3.7 out of 5 stars</td>\n      <td>29</td>\n    </tr>\n  </tbody>\n</table>\n<p>2252677 rows × 8 columns</p>\n</div>"
     },
     "metadata": {},
     "execution_count": 6
    }
   ],
   "source": [
    "df_amazon = pd.read_csv(r'C:\\Users\\maria\\OneDrive\\Escritorio\\The_Bridge\\Visual_Studio_Code\\Python\\Data_Scrience_BootCamp_Maria\\Data_science_proyectos\\Proyecto_individual\\documentation\\amazon_data.csv', sep=\",\")\n",
    "df_amazon "
   ]
  },
  {
   "cell_type": "code",
   "execution_count": 7,
   "metadata": {},
   "outputs": [
    {
     "output_type": "execute_result",
     "data": {
      "text/plain": [
       "               ASIN                                           category  \\\n",
       "0        B07HF3X6Y4    Any Department/Home & Kitchen/ Irons & Steamers   \n",
       "1        B07JVFZJT7    Any Department/Home & Kitchen/ Irons & Steamers   \n",
       "2        B07W95HD5M    Any Department/Home & Kitchen/ Irons & Steamers   \n",
       "3        B07JGRV3TQ    Any Department/Home & Kitchen/ Irons & Steamers   \n",
       "4        B01N1QE5ME    Any Department/Home & Kitchen/ Irons & Steamers   \n",
       "...             ...                                                ...   \n",
       "2252672  B0859ZNH4L  Any Department/Home & Kitchen/Kids' Home Store...   \n",
       "2252673  B07CJ5PDY3  Any Department/Home & Kitchen/Kids' Home Store...   \n",
       "2252674  B003DNS9XG  Any Department/Home & Kitchen/Kids' Home Store...   \n",
       "2252675  B0793SKDRW  Any Department/Home & Kitchen/Kids' Home Store...   \n",
       "2252676  B00ZV8RAEU  Any Department/Home & Kitchen/Kids' Home Store...   \n",
       "\n",
       "                                                     links  \\\n",
       "0        https://www.amazon.com/Hilife-Steamer-Handheld...   \n",
       "1        https://www.amazon.com/Professional-Resistant-...   \n",
       "2        https://www.amazon.com/HOMZ-Ironing-Board-Hold...   \n",
       "3        https://www.amazon.com/OGHom-Steamer-Clothes-H...   \n",
       "4        https://www.amazon.com/BEAUTURAL-1200-Watt-Han...   \n",
       "...                                                    ...   \n",
       "2252672  https://www.amazon.com/Playtime-Animals-Bathro...   \n",
       "2252673  https://www.amazon.com/Gelrova-Mildew-Resistan...   \n",
       "2252674  https://www.amazon.com/Mommys-Helper-Froggie-C...   \n",
       "2252675  https://www.amazon.com/Yimobra-Original-Bacter...   \n",
       "2252676  https://www.amazon.com/Dreambaby-Anti-slip-Sho...   \n",
       "\n",
       "                                                     title          price  \\\n",
       "0        \\n            Hilife Steamer for Clothes Steam...         $24.99   \n",
       "1        \\n            Professional Grade 1700W Steam I...         $39.97   \n",
       "2        \\n            Homz T Leg Ironing Board Holder,...   $1.99 $64.78   \n",
       "3        \\n            OGHom Steamer for Clothes Steame...  $16.99 $18.99   \n",
       "4        \\n            BEAUTURAL Steamer for Clothes wi...  $32.97 $39.97   \n",
       "...                                                    ...            ...   \n",
       "2252672  \\n            Bath Toy Organizer, Extra Durabl...          $1.99   \n",
       "2252673  \\n            Babykin Baby Bath Mat Anti Slip ...          $7.76   \n",
       "2252674  \\n            HYST Cartoon Panda/Pineapple Car...          $6.99   \n",
       "2252675  \\n            Non Slip Decal Sticker Strips Ba...         $12.01   \n",
       "2252676  \\n            Littlefun Baby Non-Slip Bath Mat...         $34.99   \n",
       "\n",
       "                                                 image url  \\\n",
       "0        https://images-na.ssl-images-amazon.com/images...   \n",
       "1        https://images-na.ssl-images-amazon.com/images...   \n",
       "2        https://images-na.ssl-images-amazon.com/images...   \n",
       "3        https://images-na.ssl-images-amazon.com/images...   \n",
       "4        https://images-na.ssl-images-amazon.com/images...   \n",
       "...                                                    ...   \n",
       "2252672  https://images-na.ssl-images-amazon.com/images...   \n",
       "2252673  https://images-na.ssl-images-amazon.com/images...   \n",
       "2252674  https://images-na.ssl-images-amazon.com/images...   \n",
       "2252675  https://images-na.ssl-images-amazon.com/images...   \n",
       "2252676  https://images-na.ssl-images-amazon.com/images...   \n",
       "\n",
       "                     rating No of reviews  Any Department  \\\n",
       "0        4.4 out of 5 stars        15,233  Any Department   \n",
       "1        4.5 out of 5 stars         9,726  Any Department   \n",
       "2        4.4 out of 5 stars         2,796  Any Department   \n",
       "3        4.6 out of 5 stars         6,573  Any Department   \n",
       "4        4.4 out of 5 stars         8,223  Any Department   \n",
       "...                     ...           ...             ...   \n",
       "2252672  3.6 out of 5 stars            26  Any Department   \n",
       "2252673  3.6 out of 5 stars           162  Any Department   \n",
       "2252674  3.9 out of 5 stars            13  Any Department   \n",
       "2252675  3.1 out of 5 stars            27  Any Department   \n",
       "2252676  3.7 out of 5 stars            29  Any Department   \n",
       "\n",
       "                                             Main Category  \n",
       "0                         Home & Kitchen/ Irons & Steamers  \n",
       "1                         Home & Kitchen/ Irons & Steamers  \n",
       "2                         Home & Kitchen/ Irons & Steamers  \n",
       "3                         Home & Kitchen/ Irons & Steamers  \n",
       "4                         Home & Kitchen/ Irons & Steamers  \n",
       "...                                                    ...  \n",
       "2252672  Home & Kitchen/Kids' Home Store/Kids' Bath/Kid...  \n",
       "2252673  Home & Kitchen/Kids' Home Store/Kids' Bath/Kid...  \n",
       "2252674  Home & Kitchen/Kids' Home Store/Kids' Bath/Kid...  \n",
       "2252675  Home & Kitchen/Kids' Home Store/Kids' Bath/Kid...  \n",
       "2252676  Home & Kitchen/Kids' Home Store/Kids' Bath/Kid...  \n",
       "\n",
       "[2252677 rows x 10 columns]"
      ],
      "text/html": "<div>\n<style scoped>\n    .dataframe tbody tr th:only-of-type {\n        vertical-align: middle;\n    }\n\n    .dataframe tbody tr th {\n        vertical-align: top;\n    }\n\n    .dataframe thead th {\n        text-align: right;\n    }\n</style>\n<table border=\"1\" class=\"dataframe\">\n  <thead>\n    <tr style=\"text-align: right;\">\n      <th></th>\n      <th>ASIN</th>\n      <th>category</th>\n      <th>links</th>\n      <th>title</th>\n      <th>price</th>\n      <th>image url</th>\n      <th>rating</th>\n      <th>No of reviews</th>\n      <th>Any Department</th>\n      <th>Main Category</th>\n    </tr>\n  </thead>\n  <tbody>\n    <tr>\n      <th>0</th>\n      <td>B07HF3X6Y4</td>\n      <td>Any Department/Home &amp; Kitchen/ Irons &amp; Steamers</td>\n      <td>https://www.amazon.com/Hilife-Steamer-Handheld...</td>\n      <td>\\n            Hilife Steamer for Clothes Steam...</td>\n      <td>$24.99</td>\n      <td>https://images-na.ssl-images-amazon.com/images...</td>\n      <td>4.4 out of 5 stars</td>\n      <td>15,233</td>\n      <td>Any Department</td>\n      <td>Home &amp; Kitchen/ Irons &amp; Steamers</td>\n    </tr>\n    <tr>\n      <th>1</th>\n      <td>B07JVFZJT7</td>\n      <td>Any Department/Home &amp; Kitchen/ Irons &amp; Steamers</td>\n      <td>https://www.amazon.com/Professional-Resistant-...</td>\n      <td>\\n            Professional Grade 1700W Steam I...</td>\n      <td>$39.97</td>\n      <td>https://images-na.ssl-images-amazon.com/images...</td>\n      <td>4.5 out of 5 stars</td>\n      <td>9,726</td>\n      <td>Any Department</td>\n      <td>Home &amp; Kitchen/ Irons &amp; Steamers</td>\n    </tr>\n    <tr>\n      <th>2</th>\n      <td>B07W95HD5M</td>\n      <td>Any Department/Home &amp; Kitchen/ Irons &amp; Steamers</td>\n      <td>https://www.amazon.com/HOMZ-Ironing-Board-Hold...</td>\n      <td>\\n            Homz T Leg Ironing Board Holder,...</td>\n      <td>$1.99 $64.78</td>\n      <td>https://images-na.ssl-images-amazon.com/images...</td>\n      <td>4.4 out of 5 stars</td>\n      <td>2,796</td>\n      <td>Any Department</td>\n      <td>Home &amp; Kitchen/ Irons &amp; Steamers</td>\n    </tr>\n    <tr>\n      <th>3</th>\n      <td>B07JGRV3TQ</td>\n      <td>Any Department/Home &amp; Kitchen/ Irons &amp; Steamers</td>\n      <td>https://www.amazon.com/OGHom-Steamer-Clothes-H...</td>\n      <td>\\n            OGHom Steamer for Clothes Steame...</td>\n      <td>$16.99 $18.99</td>\n      <td>https://images-na.ssl-images-amazon.com/images...</td>\n      <td>4.6 out of 5 stars</td>\n      <td>6,573</td>\n      <td>Any Department</td>\n      <td>Home &amp; Kitchen/ Irons &amp; Steamers</td>\n    </tr>\n    <tr>\n      <th>4</th>\n      <td>B01N1QE5ME</td>\n      <td>Any Department/Home &amp; Kitchen/ Irons &amp; Steamers</td>\n      <td>https://www.amazon.com/BEAUTURAL-1200-Watt-Han...</td>\n      <td>\\n            BEAUTURAL Steamer for Clothes wi...</td>\n      <td>$32.97 $39.97</td>\n      <td>https://images-na.ssl-images-amazon.com/images...</td>\n      <td>4.4 out of 5 stars</td>\n      <td>8,223</td>\n      <td>Any Department</td>\n      <td>Home &amp; Kitchen/ Irons &amp; Steamers</td>\n    </tr>\n    <tr>\n      <th>...</th>\n      <td>...</td>\n      <td>...</td>\n      <td>...</td>\n      <td>...</td>\n      <td>...</td>\n      <td>...</td>\n      <td>...</td>\n      <td>...</td>\n      <td>...</td>\n      <td>...</td>\n    </tr>\n    <tr>\n      <th>2252672</th>\n      <td>B0859ZNH4L</td>\n      <td>Any Department/Home &amp; Kitchen/Kids' Home Store...</td>\n      <td>https://www.amazon.com/Playtime-Animals-Bathro...</td>\n      <td>\\n            Bath Toy Organizer, Extra Durabl...</td>\n      <td>$1.99</td>\n      <td>https://images-na.ssl-images-amazon.com/images...</td>\n      <td>3.6 out of 5 stars</td>\n      <td>26</td>\n      <td>Any Department</td>\n      <td>Home &amp; Kitchen/Kids' Home Store/Kids' Bath/Kid...</td>\n    </tr>\n    <tr>\n      <th>2252673</th>\n      <td>B07CJ5PDY3</td>\n      <td>Any Department/Home &amp; Kitchen/Kids' Home Store...</td>\n      <td>https://www.amazon.com/Gelrova-Mildew-Resistan...</td>\n      <td>\\n            Babykin Baby Bath Mat Anti Slip ...</td>\n      <td>$7.76</td>\n      <td>https://images-na.ssl-images-amazon.com/images...</td>\n      <td>3.6 out of 5 stars</td>\n      <td>162</td>\n      <td>Any Department</td>\n      <td>Home &amp; Kitchen/Kids' Home Store/Kids' Bath/Kid...</td>\n    </tr>\n    <tr>\n      <th>2252674</th>\n      <td>B003DNS9XG</td>\n      <td>Any Department/Home &amp; Kitchen/Kids' Home Store...</td>\n      <td>https://www.amazon.com/Mommys-Helper-Froggie-C...</td>\n      <td>\\n            HYST Cartoon Panda/Pineapple Car...</td>\n      <td>$6.99</td>\n      <td>https://images-na.ssl-images-amazon.com/images...</td>\n      <td>3.9 out of 5 stars</td>\n      <td>13</td>\n      <td>Any Department</td>\n      <td>Home &amp; Kitchen/Kids' Home Store/Kids' Bath/Kid...</td>\n    </tr>\n    <tr>\n      <th>2252675</th>\n      <td>B0793SKDRW</td>\n      <td>Any Department/Home &amp; Kitchen/Kids' Home Store...</td>\n      <td>https://www.amazon.com/Yimobra-Original-Bacter...</td>\n      <td>\\n            Non Slip Decal Sticker Strips Ba...</td>\n      <td>$12.01</td>\n      <td>https://images-na.ssl-images-amazon.com/images...</td>\n      <td>3.1 out of 5 stars</td>\n      <td>27</td>\n      <td>Any Department</td>\n      <td>Home &amp; Kitchen/Kids' Home Store/Kids' Bath/Kid...</td>\n    </tr>\n    <tr>\n      <th>2252676</th>\n      <td>B00ZV8RAEU</td>\n      <td>Any Department/Home &amp; Kitchen/Kids' Home Store...</td>\n      <td>https://www.amazon.com/Dreambaby-Anti-slip-Sho...</td>\n      <td>\\n            Littlefun Baby Non-Slip Bath Mat...</td>\n      <td>$34.99</td>\n      <td>https://images-na.ssl-images-amazon.com/images...</td>\n      <td>3.7 out of 5 stars</td>\n      <td>29</td>\n      <td>Any Department</td>\n      <td>Home &amp; Kitchen/Kids' Home Store/Kids' Bath/Kid...</td>\n    </tr>\n  </tbody>\n</table>\n<p>2252677 rows × 10 columns</p>\n</div>"
     },
     "metadata": {},
     "execution_count": 7
    }
   ],
   "source": [
    "#Separo la categoría por sub categorías\n",
    "\n",
    "separado = df_amazon[\"category\"].str.split(\"/\", n=1, expand=True)\n",
    "df_amazon[\"Any Department\"]= separado[0] #Esta es Any department\n",
    "df_amazon[\"Main Category\"]=separado[1] #Esta es Main Category\n",
    "df_amazon"
   ]
  },
  {
   "cell_type": "code",
   "execution_count": 8,
   "metadata": {},
   "outputs": [
    {
     "output_type": "execute_result",
     "data": {
      "text/plain": [
       "               ASIN                                           category  \\\n",
       "0        B07HF3X6Y4    Any Department/Home & Kitchen/ Irons & Steamers   \n",
       "1        B07JVFZJT7    Any Department/Home & Kitchen/ Irons & Steamers   \n",
       "2        B07W95HD5M    Any Department/Home & Kitchen/ Irons & Steamers   \n",
       "3        B07JGRV3TQ    Any Department/Home & Kitchen/ Irons & Steamers   \n",
       "4        B01N1QE5ME    Any Department/Home & Kitchen/ Irons & Steamers   \n",
       "...             ...                                                ...   \n",
       "2252672  B0859ZNH4L  Any Department/Home & Kitchen/Kids' Home Store...   \n",
       "2252673  B07CJ5PDY3  Any Department/Home & Kitchen/Kids' Home Store...   \n",
       "2252674  B003DNS9XG  Any Department/Home & Kitchen/Kids' Home Store...   \n",
       "2252675  B0793SKDRW  Any Department/Home & Kitchen/Kids' Home Store...   \n",
       "2252676  B00ZV8RAEU  Any Department/Home & Kitchen/Kids' Home Store...   \n",
       "\n",
       "                                                     links  \\\n",
       "0        https://www.amazon.com/Hilife-Steamer-Handheld...   \n",
       "1        https://www.amazon.com/Professional-Resistant-...   \n",
       "2        https://www.amazon.com/HOMZ-Ironing-Board-Hold...   \n",
       "3        https://www.amazon.com/OGHom-Steamer-Clothes-H...   \n",
       "4        https://www.amazon.com/BEAUTURAL-1200-Watt-Han...   \n",
       "...                                                    ...   \n",
       "2252672  https://www.amazon.com/Playtime-Animals-Bathro...   \n",
       "2252673  https://www.amazon.com/Gelrova-Mildew-Resistan...   \n",
       "2252674  https://www.amazon.com/Mommys-Helper-Froggie-C...   \n",
       "2252675  https://www.amazon.com/Yimobra-Original-Bacter...   \n",
       "2252676  https://www.amazon.com/Dreambaby-Anti-slip-Sho...   \n",
       "\n",
       "                                                     title          price  \\\n",
       "0        \\n            Hilife Steamer for Clothes Steam...         $24.99   \n",
       "1        \\n            Professional Grade 1700W Steam I...         $39.97   \n",
       "2        \\n            Homz T Leg Ironing Board Holder,...   $1.99 $64.78   \n",
       "3        \\n            OGHom Steamer for Clothes Steame...  $16.99 $18.99   \n",
       "4        \\n            BEAUTURAL Steamer for Clothes wi...  $32.97 $39.97   \n",
       "...                                                    ...            ...   \n",
       "2252672  \\n            Bath Toy Organizer, Extra Durabl...          $1.99   \n",
       "2252673  \\n            Babykin Baby Bath Mat Anti Slip ...          $7.76   \n",
       "2252674  \\n            HYST Cartoon Panda/Pineapple Car...          $6.99   \n",
       "2252675  \\n            Non Slip Decal Sticker Strips Ba...         $12.01   \n",
       "2252676  \\n            Littlefun Baby Non-Slip Bath Mat...         $34.99   \n",
       "\n",
       "                                                 image url  \\\n",
       "0        https://images-na.ssl-images-amazon.com/images...   \n",
       "1        https://images-na.ssl-images-amazon.com/images...   \n",
       "2        https://images-na.ssl-images-amazon.com/images...   \n",
       "3        https://images-na.ssl-images-amazon.com/images...   \n",
       "4        https://images-na.ssl-images-amazon.com/images...   \n",
       "...                                                    ...   \n",
       "2252672  https://images-na.ssl-images-amazon.com/images...   \n",
       "2252673  https://images-na.ssl-images-amazon.com/images...   \n",
       "2252674  https://images-na.ssl-images-amazon.com/images...   \n",
       "2252675  https://images-na.ssl-images-amazon.com/images...   \n",
       "2252676  https://images-na.ssl-images-amazon.com/images...   \n",
       "\n",
       "                     rating No of reviews  Any Department   Main Category  \\\n",
       "0        4.4 out of 5 stars        15,233  Any Department  Home & Kitchen   \n",
       "1        4.5 out of 5 stars         9,726  Any Department  Home & Kitchen   \n",
       "2        4.4 out of 5 stars         2,796  Any Department  Home & Kitchen   \n",
       "3        4.6 out of 5 stars         6,573  Any Department  Home & Kitchen   \n",
       "4        4.4 out of 5 stars         8,223  Any Department  Home & Kitchen   \n",
       "...                     ...           ...             ...             ...   \n",
       "2252672  3.6 out of 5 stars            26  Any Department  Home & Kitchen   \n",
       "2252673  3.6 out of 5 stars           162  Any Department  Home & Kitchen   \n",
       "2252674  3.9 out of 5 stars            13  Any Department  Home & Kitchen   \n",
       "2252675  3.1 out of 5 stars            27  Any Department  Home & Kitchen   \n",
       "2252676  3.7 out of 5 stars            29  Any Department  Home & Kitchen   \n",
       "\n",
       "                                              Sub Category  \n",
       "0                                         Irons & Steamers  \n",
       "1                                         Irons & Steamers  \n",
       "2                                         Irons & Steamers  \n",
       "3                                         Irons & Steamers  \n",
       "4                                         Irons & Steamers  \n",
       "...                                                    ...  \n",
       "2252672  Kids' Home Store/Kids' Bath/Kids' Bathtub Acce...  \n",
       "2252673  Kids' Home Store/Kids' Bath/Kids' Bathtub Acce...  \n",
       "2252674  Kids' Home Store/Kids' Bath/Kids' Bathtub Acce...  \n",
       "2252675  Kids' Home Store/Kids' Bath/Kids' Bathtub Acce...  \n",
       "2252676  Kids' Home Store/Kids' Bath/Kids' Bathtub Acce...  \n",
       "\n",
       "[2252677 rows x 11 columns]"
      ],
      "text/html": "<div>\n<style scoped>\n    .dataframe tbody tr th:only-of-type {\n        vertical-align: middle;\n    }\n\n    .dataframe tbody tr th {\n        vertical-align: top;\n    }\n\n    .dataframe thead th {\n        text-align: right;\n    }\n</style>\n<table border=\"1\" class=\"dataframe\">\n  <thead>\n    <tr style=\"text-align: right;\">\n      <th></th>\n      <th>ASIN</th>\n      <th>category</th>\n      <th>links</th>\n      <th>title</th>\n      <th>price</th>\n      <th>image url</th>\n      <th>rating</th>\n      <th>No of reviews</th>\n      <th>Any Department</th>\n      <th>Main Category</th>\n      <th>Sub Category</th>\n    </tr>\n  </thead>\n  <tbody>\n    <tr>\n      <th>0</th>\n      <td>B07HF3X6Y4</td>\n      <td>Any Department/Home &amp; Kitchen/ Irons &amp; Steamers</td>\n      <td>https://www.amazon.com/Hilife-Steamer-Handheld...</td>\n      <td>\\n            Hilife Steamer for Clothes Steam...</td>\n      <td>$24.99</td>\n      <td>https://images-na.ssl-images-amazon.com/images...</td>\n      <td>4.4 out of 5 stars</td>\n      <td>15,233</td>\n      <td>Any Department</td>\n      <td>Home &amp; Kitchen</td>\n      <td>Irons &amp; Steamers</td>\n    </tr>\n    <tr>\n      <th>1</th>\n      <td>B07JVFZJT7</td>\n      <td>Any Department/Home &amp; Kitchen/ Irons &amp; Steamers</td>\n      <td>https://www.amazon.com/Professional-Resistant-...</td>\n      <td>\\n            Professional Grade 1700W Steam I...</td>\n      <td>$39.97</td>\n      <td>https://images-na.ssl-images-amazon.com/images...</td>\n      <td>4.5 out of 5 stars</td>\n      <td>9,726</td>\n      <td>Any Department</td>\n      <td>Home &amp; Kitchen</td>\n      <td>Irons &amp; Steamers</td>\n    </tr>\n    <tr>\n      <th>2</th>\n      <td>B07W95HD5M</td>\n      <td>Any Department/Home &amp; Kitchen/ Irons &amp; Steamers</td>\n      <td>https://www.amazon.com/HOMZ-Ironing-Board-Hold...</td>\n      <td>\\n            Homz T Leg Ironing Board Holder,...</td>\n      <td>$1.99 $64.78</td>\n      <td>https://images-na.ssl-images-amazon.com/images...</td>\n      <td>4.4 out of 5 stars</td>\n      <td>2,796</td>\n      <td>Any Department</td>\n      <td>Home &amp; Kitchen</td>\n      <td>Irons &amp; Steamers</td>\n    </tr>\n    <tr>\n      <th>3</th>\n      <td>B07JGRV3TQ</td>\n      <td>Any Department/Home &amp; Kitchen/ Irons &amp; Steamers</td>\n      <td>https://www.amazon.com/OGHom-Steamer-Clothes-H...</td>\n      <td>\\n            OGHom Steamer for Clothes Steame...</td>\n      <td>$16.99 $18.99</td>\n      <td>https://images-na.ssl-images-amazon.com/images...</td>\n      <td>4.6 out of 5 stars</td>\n      <td>6,573</td>\n      <td>Any Department</td>\n      <td>Home &amp; Kitchen</td>\n      <td>Irons &amp; Steamers</td>\n    </tr>\n    <tr>\n      <th>4</th>\n      <td>B01N1QE5ME</td>\n      <td>Any Department/Home &amp; Kitchen/ Irons &amp; Steamers</td>\n      <td>https://www.amazon.com/BEAUTURAL-1200-Watt-Han...</td>\n      <td>\\n            BEAUTURAL Steamer for Clothes wi...</td>\n      <td>$32.97 $39.97</td>\n      <td>https://images-na.ssl-images-amazon.com/images...</td>\n      <td>4.4 out of 5 stars</td>\n      <td>8,223</td>\n      <td>Any Department</td>\n      <td>Home &amp; Kitchen</td>\n      <td>Irons &amp; Steamers</td>\n    </tr>\n    <tr>\n      <th>...</th>\n      <td>...</td>\n      <td>...</td>\n      <td>...</td>\n      <td>...</td>\n      <td>...</td>\n      <td>...</td>\n      <td>...</td>\n      <td>...</td>\n      <td>...</td>\n      <td>...</td>\n      <td>...</td>\n    </tr>\n    <tr>\n      <th>2252672</th>\n      <td>B0859ZNH4L</td>\n      <td>Any Department/Home &amp; Kitchen/Kids' Home Store...</td>\n      <td>https://www.amazon.com/Playtime-Animals-Bathro...</td>\n      <td>\\n            Bath Toy Organizer, Extra Durabl...</td>\n      <td>$1.99</td>\n      <td>https://images-na.ssl-images-amazon.com/images...</td>\n      <td>3.6 out of 5 stars</td>\n      <td>26</td>\n      <td>Any Department</td>\n      <td>Home &amp; Kitchen</td>\n      <td>Kids' Home Store/Kids' Bath/Kids' Bathtub Acce...</td>\n    </tr>\n    <tr>\n      <th>2252673</th>\n      <td>B07CJ5PDY3</td>\n      <td>Any Department/Home &amp; Kitchen/Kids' Home Store...</td>\n      <td>https://www.amazon.com/Gelrova-Mildew-Resistan...</td>\n      <td>\\n            Babykin Baby Bath Mat Anti Slip ...</td>\n      <td>$7.76</td>\n      <td>https://images-na.ssl-images-amazon.com/images...</td>\n      <td>3.6 out of 5 stars</td>\n      <td>162</td>\n      <td>Any Department</td>\n      <td>Home &amp; Kitchen</td>\n      <td>Kids' Home Store/Kids' Bath/Kids' Bathtub Acce...</td>\n    </tr>\n    <tr>\n      <th>2252674</th>\n      <td>B003DNS9XG</td>\n      <td>Any Department/Home &amp; Kitchen/Kids' Home Store...</td>\n      <td>https://www.amazon.com/Mommys-Helper-Froggie-C...</td>\n      <td>\\n            HYST Cartoon Panda/Pineapple Car...</td>\n      <td>$6.99</td>\n      <td>https://images-na.ssl-images-amazon.com/images...</td>\n      <td>3.9 out of 5 stars</td>\n      <td>13</td>\n      <td>Any Department</td>\n      <td>Home &amp; Kitchen</td>\n      <td>Kids' Home Store/Kids' Bath/Kids' Bathtub Acce...</td>\n    </tr>\n    <tr>\n      <th>2252675</th>\n      <td>B0793SKDRW</td>\n      <td>Any Department/Home &amp; Kitchen/Kids' Home Store...</td>\n      <td>https://www.amazon.com/Yimobra-Original-Bacter...</td>\n      <td>\\n            Non Slip Decal Sticker Strips Ba...</td>\n      <td>$12.01</td>\n      <td>https://images-na.ssl-images-amazon.com/images...</td>\n      <td>3.1 out of 5 stars</td>\n      <td>27</td>\n      <td>Any Department</td>\n      <td>Home &amp; Kitchen</td>\n      <td>Kids' Home Store/Kids' Bath/Kids' Bathtub Acce...</td>\n    </tr>\n    <tr>\n      <th>2252676</th>\n      <td>B00ZV8RAEU</td>\n      <td>Any Department/Home &amp; Kitchen/Kids' Home Store...</td>\n      <td>https://www.amazon.com/Dreambaby-Anti-slip-Sho...</td>\n      <td>\\n            Littlefun Baby Non-Slip Bath Mat...</td>\n      <td>$34.99</td>\n      <td>https://images-na.ssl-images-amazon.com/images...</td>\n      <td>3.7 out of 5 stars</td>\n      <td>29</td>\n      <td>Any Department</td>\n      <td>Home &amp; Kitchen</td>\n      <td>Kids' Home Store/Kids' Bath/Kids' Bathtub Acce...</td>\n    </tr>\n  </tbody>\n</table>\n<p>2252677 rows × 11 columns</p>\n</div>"
     },
     "metadata": {},
     "execution_count": 8
    }
   ],
   "source": [
    "#Vuelvo a separar Main Category a Sub Categoria\n",
    "separado1 = df_amazon[\"Main Category\"].str.split(\"/\", n=1, expand=True)\n",
    "df_amazon[\"Main Category\"]= separado1[0] #Esta es Main Category\n",
    "df_amazon[\"Sub Category\"]=separado1[1] #Esta es Sub Category\n",
    "df_amazon"
   ]
  },
  {
   "cell_type": "code",
   "execution_count": 9,
   "metadata": {},
   "outputs": [
    {
     "output_type": "execute_result",
     "data": {
      "text/plain": [
       "               ASIN                                           category  \\\n",
       "0        B07HF3X6Y4    Any Department/Home & Kitchen/ Irons & Steamers   \n",
       "1        B07JVFZJT7    Any Department/Home & Kitchen/ Irons & Steamers   \n",
       "2        B07W95HD5M    Any Department/Home & Kitchen/ Irons & Steamers   \n",
       "3        B07JGRV3TQ    Any Department/Home & Kitchen/ Irons & Steamers   \n",
       "4        B01N1QE5ME    Any Department/Home & Kitchen/ Irons & Steamers   \n",
       "...             ...                                                ...   \n",
       "2252672  B0859ZNH4L  Any Department/Home & Kitchen/Kids' Home Store...   \n",
       "2252673  B07CJ5PDY3  Any Department/Home & Kitchen/Kids' Home Store...   \n",
       "2252674  B003DNS9XG  Any Department/Home & Kitchen/Kids' Home Store...   \n",
       "2252675  B0793SKDRW  Any Department/Home & Kitchen/Kids' Home Store...   \n",
       "2252676  B00ZV8RAEU  Any Department/Home & Kitchen/Kids' Home Store...   \n",
       "\n",
       "                                                     links  \\\n",
       "0        https://www.amazon.com/Hilife-Steamer-Handheld...   \n",
       "1        https://www.amazon.com/Professional-Resistant-...   \n",
       "2        https://www.amazon.com/HOMZ-Ironing-Board-Hold...   \n",
       "3        https://www.amazon.com/OGHom-Steamer-Clothes-H...   \n",
       "4        https://www.amazon.com/BEAUTURAL-1200-Watt-Han...   \n",
       "...                                                    ...   \n",
       "2252672  https://www.amazon.com/Playtime-Animals-Bathro...   \n",
       "2252673  https://www.amazon.com/Gelrova-Mildew-Resistan...   \n",
       "2252674  https://www.amazon.com/Mommys-Helper-Froggie-C...   \n",
       "2252675  https://www.amazon.com/Yimobra-Original-Bacter...   \n",
       "2252676  https://www.amazon.com/Dreambaby-Anti-slip-Sho...   \n",
       "\n",
       "                                                     title          price  \\\n",
       "0        \\n            Hilife Steamer for Clothes Steam...         $24.99   \n",
       "1        \\n            Professional Grade 1700W Steam I...         $39.97   \n",
       "2        \\n            Homz T Leg Ironing Board Holder,...   $1.99 $64.78   \n",
       "3        \\n            OGHom Steamer for Clothes Steame...  $16.99 $18.99   \n",
       "4        \\n            BEAUTURAL Steamer for Clothes wi...  $32.97 $39.97   \n",
       "...                                                    ...            ...   \n",
       "2252672  \\n            Bath Toy Organizer, Extra Durabl...          $1.99   \n",
       "2252673  \\n            Babykin Baby Bath Mat Anti Slip ...          $7.76   \n",
       "2252674  \\n            HYST Cartoon Panda/Pineapple Car...          $6.99   \n",
       "2252675  \\n            Non Slip Decal Sticker Strips Ba...         $12.01   \n",
       "2252676  \\n            Littlefun Baby Non-Slip Bath Mat...         $34.99   \n",
       "\n",
       "                                                 image url  \\\n",
       "0        https://images-na.ssl-images-amazon.com/images...   \n",
       "1        https://images-na.ssl-images-amazon.com/images...   \n",
       "2        https://images-na.ssl-images-amazon.com/images...   \n",
       "3        https://images-na.ssl-images-amazon.com/images...   \n",
       "4        https://images-na.ssl-images-amazon.com/images...   \n",
       "...                                                    ...   \n",
       "2252672  https://images-na.ssl-images-amazon.com/images...   \n",
       "2252673  https://images-na.ssl-images-amazon.com/images...   \n",
       "2252674  https://images-na.ssl-images-amazon.com/images...   \n",
       "2252675  https://images-na.ssl-images-amazon.com/images...   \n",
       "2252676  https://images-na.ssl-images-amazon.com/images...   \n",
       "\n",
       "                     rating No of reviews  Any Department   Main Category  \\\n",
       "0        4.4 out of 5 stars        15,233  Any Department  Home & Kitchen   \n",
       "1        4.5 out of 5 stars         9,726  Any Department  Home & Kitchen   \n",
       "2        4.4 out of 5 stars         2,796  Any Department  Home & Kitchen   \n",
       "3        4.6 out of 5 stars         6,573  Any Department  Home & Kitchen   \n",
       "4        4.4 out of 5 stars         8,223  Any Department  Home & Kitchen   \n",
       "...                     ...           ...             ...             ...   \n",
       "2252672  3.6 out of 5 stars            26  Any Department  Home & Kitchen   \n",
       "2252673  3.6 out of 5 stars           162  Any Department  Home & Kitchen   \n",
       "2252674  3.9 out of 5 stars            13  Any Department  Home & Kitchen   \n",
       "2252675  3.1 out of 5 stars            27  Any Department  Home & Kitchen   \n",
       "2252676  3.7 out of 5 stars            29  Any Department  Home & Kitchen   \n",
       "\n",
       "                                              Sub Category  \n",
       "0                                         Irons & Steamers  \n",
       "1                                         Irons & Steamers  \n",
       "2                                         Irons & Steamers  \n",
       "3                                         Irons & Steamers  \n",
       "4                                         Irons & Steamers  \n",
       "...                                                    ...  \n",
       "2252672  Kids' Home Store/Kids' Bath/Kids' Bathtub Acce...  \n",
       "2252673  Kids' Home Store/Kids' Bath/Kids' Bathtub Acce...  \n",
       "2252674  Kids' Home Store/Kids' Bath/Kids' Bathtub Acce...  \n",
       "2252675  Kids' Home Store/Kids' Bath/Kids' Bathtub Acce...  \n",
       "2252676  Kids' Home Store/Kids' Bath/Kids' Bathtub Acce...  \n",
       "\n",
       "[2252677 rows x 11 columns]"
      ],
      "text/html": "<div>\n<style scoped>\n    .dataframe tbody tr th:only-of-type {\n        vertical-align: middle;\n    }\n\n    .dataframe tbody tr th {\n        vertical-align: top;\n    }\n\n    .dataframe thead th {\n        text-align: right;\n    }\n</style>\n<table border=\"1\" class=\"dataframe\">\n  <thead>\n    <tr style=\"text-align: right;\">\n      <th></th>\n      <th>ASIN</th>\n      <th>category</th>\n      <th>links</th>\n      <th>title</th>\n      <th>price</th>\n      <th>image url</th>\n      <th>rating</th>\n      <th>No of reviews</th>\n      <th>Any Department</th>\n      <th>Main Category</th>\n      <th>Sub Category</th>\n    </tr>\n  </thead>\n  <tbody>\n    <tr>\n      <th>0</th>\n      <td>B07HF3X6Y4</td>\n      <td>Any Department/Home &amp; Kitchen/ Irons &amp; Steamers</td>\n      <td>https://www.amazon.com/Hilife-Steamer-Handheld...</td>\n      <td>\\n            Hilife Steamer for Clothes Steam...</td>\n      <td>$24.99</td>\n      <td>https://images-na.ssl-images-amazon.com/images...</td>\n      <td>4.4 out of 5 stars</td>\n      <td>15,233</td>\n      <td>Any Department</td>\n      <td>Home &amp; Kitchen</td>\n      <td>Irons &amp; Steamers</td>\n    </tr>\n    <tr>\n      <th>1</th>\n      <td>B07JVFZJT7</td>\n      <td>Any Department/Home &amp; Kitchen/ Irons &amp; Steamers</td>\n      <td>https://www.amazon.com/Professional-Resistant-...</td>\n      <td>\\n            Professional Grade 1700W Steam I...</td>\n      <td>$39.97</td>\n      <td>https://images-na.ssl-images-amazon.com/images...</td>\n      <td>4.5 out of 5 stars</td>\n      <td>9,726</td>\n      <td>Any Department</td>\n      <td>Home &amp; Kitchen</td>\n      <td>Irons &amp; Steamers</td>\n    </tr>\n    <tr>\n      <th>2</th>\n      <td>B07W95HD5M</td>\n      <td>Any Department/Home &amp; Kitchen/ Irons &amp; Steamers</td>\n      <td>https://www.amazon.com/HOMZ-Ironing-Board-Hold...</td>\n      <td>\\n            Homz T Leg Ironing Board Holder,...</td>\n      <td>$1.99 $64.78</td>\n      <td>https://images-na.ssl-images-amazon.com/images...</td>\n      <td>4.4 out of 5 stars</td>\n      <td>2,796</td>\n      <td>Any Department</td>\n      <td>Home &amp; Kitchen</td>\n      <td>Irons &amp; Steamers</td>\n    </tr>\n    <tr>\n      <th>3</th>\n      <td>B07JGRV3TQ</td>\n      <td>Any Department/Home &amp; Kitchen/ Irons &amp; Steamers</td>\n      <td>https://www.amazon.com/OGHom-Steamer-Clothes-H...</td>\n      <td>\\n            OGHom Steamer for Clothes Steame...</td>\n      <td>$16.99 $18.99</td>\n      <td>https://images-na.ssl-images-amazon.com/images...</td>\n      <td>4.6 out of 5 stars</td>\n      <td>6,573</td>\n      <td>Any Department</td>\n      <td>Home &amp; Kitchen</td>\n      <td>Irons &amp; Steamers</td>\n    </tr>\n    <tr>\n      <th>4</th>\n      <td>B01N1QE5ME</td>\n      <td>Any Department/Home &amp; Kitchen/ Irons &amp; Steamers</td>\n      <td>https://www.amazon.com/BEAUTURAL-1200-Watt-Han...</td>\n      <td>\\n            BEAUTURAL Steamer for Clothes wi...</td>\n      <td>$32.97 $39.97</td>\n      <td>https://images-na.ssl-images-amazon.com/images...</td>\n      <td>4.4 out of 5 stars</td>\n      <td>8,223</td>\n      <td>Any Department</td>\n      <td>Home &amp; Kitchen</td>\n      <td>Irons &amp; Steamers</td>\n    </tr>\n    <tr>\n      <th>...</th>\n      <td>...</td>\n      <td>...</td>\n      <td>...</td>\n      <td>...</td>\n      <td>...</td>\n      <td>...</td>\n      <td>...</td>\n      <td>...</td>\n      <td>...</td>\n      <td>...</td>\n      <td>...</td>\n    </tr>\n    <tr>\n      <th>2252672</th>\n      <td>B0859ZNH4L</td>\n      <td>Any Department/Home &amp; Kitchen/Kids' Home Store...</td>\n      <td>https://www.amazon.com/Playtime-Animals-Bathro...</td>\n      <td>\\n            Bath Toy Organizer, Extra Durabl...</td>\n      <td>$1.99</td>\n      <td>https://images-na.ssl-images-amazon.com/images...</td>\n      <td>3.6 out of 5 stars</td>\n      <td>26</td>\n      <td>Any Department</td>\n      <td>Home &amp; Kitchen</td>\n      <td>Kids' Home Store/Kids' Bath/Kids' Bathtub Acce...</td>\n    </tr>\n    <tr>\n      <th>2252673</th>\n      <td>B07CJ5PDY3</td>\n      <td>Any Department/Home &amp; Kitchen/Kids' Home Store...</td>\n      <td>https://www.amazon.com/Gelrova-Mildew-Resistan...</td>\n      <td>\\n            Babykin Baby Bath Mat Anti Slip ...</td>\n      <td>$7.76</td>\n      <td>https://images-na.ssl-images-amazon.com/images...</td>\n      <td>3.6 out of 5 stars</td>\n      <td>162</td>\n      <td>Any Department</td>\n      <td>Home &amp; Kitchen</td>\n      <td>Kids' Home Store/Kids' Bath/Kids' Bathtub Acce...</td>\n    </tr>\n    <tr>\n      <th>2252674</th>\n      <td>B003DNS9XG</td>\n      <td>Any Department/Home &amp; Kitchen/Kids' Home Store...</td>\n      <td>https://www.amazon.com/Mommys-Helper-Froggie-C...</td>\n      <td>\\n            HYST Cartoon Panda/Pineapple Car...</td>\n      <td>$6.99</td>\n      <td>https://images-na.ssl-images-amazon.com/images...</td>\n      <td>3.9 out of 5 stars</td>\n      <td>13</td>\n      <td>Any Department</td>\n      <td>Home &amp; Kitchen</td>\n      <td>Kids' Home Store/Kids' Bath/Kids' Bathtub Acce...</td>\n    </tr>\n    <tr>\n      <th>2252675</th>\n      <td>B0793SKDRW</td>\n      <td>Any Department/Home &amp; Kitchen/Kids' Home Store...</td>\n      <td>https://www.amazon.com/Yimobra-Original-Bacter...</td>\n      <td>\\n            Non Slip Decal Sticker Strips Ba...</td>\n      <td>$12.01</td>\n      <td>https://images-na.ssl-images-amazon.com/images...</td>\n      <td>3.1 out of 5 stars</td>\n      <td>27</td>\n      <td>Any Department</td>\n      <td>Home &amp; Kitchen</td>\n      <td>Kids' Home Store/Kids' Bath/Kids' Bathtub Acce...</td>\n    </tr>\n    <tr>\n      <th>2252676</th>\n      <td>B00ZV8RAEU</td>\n      <td>Any Department/Home &amp; Kitchen/Kids' Home Store...</td>\n      <td>https://www.amazon.com/Dreambaby-Anti-slip-Sho...</td>\n      <td>\\n            Littlefun Baby Non-Slip Bath Mat...</td>\n      <td>$34.99</td>\n      <td>https://images-na.ssl-images-amazon.com/images...</td>\n      <td>3.7 out of 5 stars</td>\n      <td>29</td>\n      <td>Any Department</td>\n      <td>Home &amp; Kitchen</td>\n      <td>Kids' Home Store/Kids' Bath/Kids' Bathtub Acce...</td>\n    </tr>\n  </tbody>\n</table>\n<p>2252677 rows × 11 columns</p>\n</div>"
     },
     "metadata": {},
     "execution_count": 9
    }
   ],
   "source": [
    "#Hago una copia del original para no perderlo y trabajo en la copia\n",
    "df_amazon_copy = df_amazon.copy()\n",
    "df_amazon_copy"
   ]
  },
  {
   "cell_type": "code",
   "execution_count": 10,
   "metadata": {},
   "outputs": [
    {
     "output_type": "execute_result",
     "data": {
      "text/plain": [
       "                                                     title          price  \\\n",
       "0        \\n            Hilife Steamer for Clothes Steam...         $24.99   \n",
       "1        \\n            Professional Grade 1700W Steam I...         $39.97   \n",
       "2        \\n            Homz T Leg Ironing Board Holder,...   $1.99 $64.78   \n",
       "3        \\n            OGHom Steamer for Clothes Steame...  $16.99 $18.99   \n",
       "4        \\n            BEAUTURAL Steamer for Clothes wi...  $32.97 $39.97   \n",
       "...                                                    ...            ...   \n",
       "2252672  \\n            Bath Toy Organizer, Extra Durabl...          $1.99   \n",
       "2252673  \\n            Babykin Baby Bath Mat Anti Slip ...          $7.76   \n",
       "2252674  \\n            HYST Cartoon Panda/Pineapple Car...          $6.99   \n",
       "2252675  \\n            Non Slip Decal Sticker Strips Ba...         $12.01   \n",
       "2252676  \\n            Littlefun Baby Non-Slip Bath Mat...         $34.99   \n",
       "\n",
       "                     rating No of reviews   Main Category  \\\n",
       "0        4.4 out of 5 stars        15,233  Home & Kitchen   \n",
       "1        4.5 out of 5 stars         9,726  Home & Kitchen   \n",
       "2        4.4 out of 5 stars         2,796  Home & Kitchen   \n",
       "3        4.6 out of 5 stars         6,573  Home & Kitchen   \n",
       "4        4.4 out of 5 stars         8,223  Home & Kitchen   \n",
       "...                     ...           ...             ...   \n",
       "2252672  3.6 out of 5 stars            26  Home & Kitchen   \n",
       "2252673  3.6 out of 5 stars           162  Home & Kitchen   \n",
       "2252674  3.9 out of 5 stars            13  Home & Kitchen   \n",
       "2252675  3.1 out of 5 stars            27  Home & Kitchen   \n",
       "2252676  3.7 out of 5 stars            29  Home & Kitchen   \n",
       "\n",
       "                                              Sub Category  \n",
       "0                                         Irons & Steamers  \n",
       "1                                         Irons & Steamers  \n",
       "2                                         Irons & Steamers  \n",
       "3                                         Irons & Steamers  \n",
       "4                                         Irons & Steamers  \n",
       "...                                                    ...  \n",
       "2252672  Kids' Home Store/Kids' Bath/Kids' Bathtub Acce...  \n",
       "2252673  Kids' Home Store/Kids' Bath/Kids' Bathtub Acce...  \n",
       "2252674  Kids' Home Store/Kids' Bath/Kids' Bathtub Acce...  \n",
       "2252675  Kids' Home Store/Kids' Bath/Kids' Bathtub Acce...  \n",
       "2252676  Kids' Home Store/Kids' Bath/Kids' Bathtub Acce...  \n",
       "\n",
       "[2252677 rows x 6 columns]"
      ],
      "text/html": "<div>\n<style scoped>\n    .dataframe tbody tr th:only-of-type {\n        vertical-align: middle;\n    }\n\n    .dataframe tbody tr th {\n        vertical-align: top;\n    }\n\n    .dataframe thead th {\n        text-align: right;\n    }\n</style>\n<table border=\"1\" class=\"dataframe\">\n  <thead>\n    <tr style=\"text-align: right;\">\n      <th></th>\n      <th>title</th>\n      <th>price</th>\n      <th>rating</th>\n      <th>No of reviews</th>\n      <th>Main Category</th>\n      <th>Sub Category</th>\n    </tr>\n  </thead>\n  <tbody>\n    <tr>\n      <th>0</th>\n      <td>\\n            Hilife Steamer for Clothes Steam...</td>\n      <td>$24.99</td>\n      <td>4.4 out of 5 stars</td>\n      <td>15,233</td>\n      <td>Home &amp; Kitchen</td>\n      <td>Irons &amp; Steamers</td>\n    </tr>\n    <tr>\n      <th>1</th>\n      <td>\\n            Professional Grade 1700W Steam I...</td>\n      <td>$39.97</td>\n      <td>4.5 out of 5 stars</td>\n      <td>9,726</td>\n      <td>Home &amp; Kitchen</td>\n      <td>Irons &amp; Steamers</td>\n    </tr>\n    <tr>\n      <th>2</th>\n      <td>\\n            Homz T Leg Ironing Board Holder,...</td>\n      <td>$1.99 $64.78</td>\n      <td>4.4 out of 5 stars</td>\n      <td>2,796</td>\n      <td>Home &amp; Kitchen</td>\n      <td>Irons &amp; Steamers</td>\n    </tr>\n    <tr>\n      <th>3</th>\n      <td>\\n            OGHom Steamer for Clothes Steame...</td>\n      <td>$16.99 $18.99</td>\n      <td>4.6 out of 5 stars</td>\n      <td>6,573</td>\n      <td>Home &amp; Kitchen</td>\n      <td>Irons &amp; Steamers</td>\n    </tr>\n    <tr>\n      <th>4</th>\n      <td>\\n            BEAUTURAL Steamer for Clothes wi...</td>\n      <td>$32.97 $39.97</td>\n      <td>4.4 out of 5 stars</td>\n      <td>8,223</td>\n      <td>Home &amp; Kitchen</td>\n      <td>Irons &amp; Steamers</td>\n    </tr>\n    <tr>\n      <th>...</th>\n      <td>...</td>\n      <td>...</td>\n      <td>...</td>\n      <td>...</td>\n      <td>...</td>\n      <td>...</td>\n    </tr>\n    <tr>\n      <th>2252672</th>\n      <td>\\n            Bath Toy Organizer, Extra Durabl...</td>\n      <td>$1.99</td>\n      <td>3.6 out of 5 stars</td>\n      <td>26</td>\n      <td>Home &amp; Kitchen</td>\n      <td>Kids' Home Store/Kids' Bath/Kids' Bathtub Acce...</td>\n    </tr>\n    <tr>\n      <th>2252673</th>\n      <td>\\n            Babykin Baby Bath Mat Anti Slip ...</td>\n      <td>$7.76</td>\n      <td>3.6 out of 5 stars</td>\n      <td>162</td>\n      <td>Home &amp; Kitchen</td>\n      <td>Kids' Home Store/Kids' Bath/Kids' Bathtub Acce...</td>\n    </tr>\n    <tr>\n      <th>2252674</th>\n      <td>\\n            HYST Cartoon Panda/Pineapple Car...</td>\n      <td>$6.99</td>\n      <td>3.9 out of 5 stars</td>\n      <td>13</td>\n      <td>Home &amp; Kitchen</td>\n      <td>Kids' Home Store/Kids' Bath/Kids' Bathtub Acce...</td>\n    </tr>\n    <tr>\n      <th>2252675</th>\n      <td>\\n            Non Slip Decal Sticker Strips Ba...</td>\n      <td>$12.01</td>\n      <td>3.1 out of 5 stars</td>\n      <td>27</td>\n      <td>Home &amp; Kitchen</td>\n      <td>Kids' Home Store/Kids' Bath/Kids' Bathtub Acce...</td>\n    </tr>\n    <tr>\n      <th>2252676</th>\n      <td>\\n            Littlefun Baby Non-Slip Bath Mat...</td>\n      <td>$34.99</td>\n      <td>3.7 out of 5 stars</td>\n      <td>29</td>\n      <td>Home &amp; Kitchen</td>\n      <td>Kids' Home Store/Kids' Bath/Kids' Bathtub Acce...</td>\n    </tr>\n  </tbody>\n</table>\n<p>2252677 rows × 6 columns</p>\n</div>"
     },
     "metadata": {},
     "execution_count": 10
    }
   ],
   "source": [
    "#Elimino las columnas que no me interesan en la copia\n",
    "df_amazon_copy = df_amazon_copy.drop(['ASIN', 'Any Department', 'category', \"image url\", \"links\" ], axis=1)\n",
    "df_amazon_copy"
   ]
  },
  {
   "cell_type": "code",
   "execution_count": 11,
   "metadata": {},
   "outputs": [
    {
     "output_type": "execute_result",
     "data": {
      "text/plain": [
       "                            title   price  rating  No of reviews  Sub Category\n",
       "Main Category                                                                 \n",
       " Software                       5       5       5              5             0\n",
       "Warming Drawers                12       8      12             12             0\n",
       "Tax Preparation                13      13      13             13             0\n",
       "Operating Systems              36      36      36             36             0\n",
       "Fresh Meal Kits                53      53      53             53             0\n",
       "...                           ...     ...     ...            ...           ...\n",
       "Tools & Home Improvement   160953  160109  160953         160953        160953\n",
       "Industrial & Scientific    198405  197041  198405         198405        198405\n",
       "Clothing, Shoes & Jewelry  242927  242894  242927         242927        242927\n",
       "Automotive                 262534  261883  262534         262534        262534\n",
       "Sports & Outdoors          313636  313060  313636         313636        313636\n",
       "\n",
       "[62 rows x 5 columns]"
      ],
      "text/html": "<div>\n<style scoped>\n    .dataframe tbody tr th:only-of-type {\n        vertical-align: middle;\n    }\n\n    .dataframe tbody tr th {\n        vertical-align: top;\n    }\n\n    .dataframe thead th {\n        text-align: right;\n    }\n</style>\n<table border=\"1\" class=\"dataframe\">\n  <thead>\n    <tr style=\"text-align: right;\">\n      <th></th>\n      <th>title</th>\n      <th>price</th>\n      <th>rating</th>\n      <th>No of reviews</th>\n      <th>Sub Category</th>\n    </tr>\n    <tr>\n      <th>Main Category</th>\n      <th></th>\n      <th></th>\n      <th></th>\n      <th></th>\n      <th></th>\n    </tr>\n  </thead>\n  <tbody>\n    <tr>\n      <th>Software</th>\n      <td>5</td>\n      <td>5</td>\n      <td>5</td>\n      <td>5</td>\n      <td>0</td>\n    </tr>\n    <tr>\n      <th>Warming Drawers</th>\n      <td>12</td>\n      <td>8</td>\n      <td>12</td>\n      <td>12</td>\n      <td>0</td>\n    </tr>\n    <tr>\n      <th>Tax Preparation</th>\n      <td>13</td>\n      <td>13</td>\n      <td>13</td>\n      <td>13</td>\n      <td>0</td>\n    </tr>\n    <tr>\n      <th>Operating Systems</th>\n      <td>36</td>\n      <td>36</td>\n      <td>36</td>\n      <td>36</td>\n      <td>0</td>\n    </tr>\n    <tr>\n      <th>Fresh Meal Kits</th>\n      <td>53</td>\n      <td>53</td>\n      <td>53</td>\n      <td>53</td>\n      <td>0</td>\n    </tr>\n    <tr>\n      <th>...</th>\n      <td>...</td>\n      <td>...</td>\n      <td>...</td>\n      <td>...</td>\n      <td>...</td>\n    </tr>\n    <tr>\n      <th>Tools &amp; Home Improvement</th>\n      <td>160953</td>\n      <td>160109</td>\n      <td>160953</td>\n      <td>160953</td>\n      <td>160953</td>\n    </tr>\n    <tr>\n      <th>Industrial &amp; Scientific</th>\n      <td>198405</td>\n      <td>197041</td>\n      <td>198405</td>\n      <td>198405</td>\n      <td>198405</td>\n    </tr>\n    <tr>\n      <th>Clothing, Shoes &amp; Jewelry</th>\n      <td>242927</td>\n      <td>242894</td>\n      <td>242927</td>\n      <td>242927</td>\n      <td>242927</td>\n    </tr>\n    <tr>\n      <th>Automotive</th>\n      <td>262534</td>\n      <td>261883</td>\n      <td>262534</td>\n      <td>262534</td>\n      <td>262534</td>\n    </tr>\n    <tr>\n      <th>Sports &amp; Outdoors</th>\n      <td>313636</td>\n      <td>313060</td>\n      <td>313636</td>\n      <td>313636</td>\n      <td>313636</td>\n    </tr>\n  </tbody>\n</table>\n<p>62 rows × 5 columns</p>\n</div>"
     },
     "metadata": {},
     "execution_count": 11
    }
   ],
   "source": [
    "#Agrupo por Main Category para saber cual es la categoría que mas se ha vendido\n",
    "df_amazon_copy.groupby(\"Main Category\").count().sort_values(by=\"title\")"
   ]
  },
  {
   "cell_type": "code",
   "execution_count": 12,
   "metadata": {},
   "outputs": [
    {
     "output_type": "execute_result",
     "data": {
      "text/plain": [
       "                            title   price  rating  No of reviews  Sub Category\n",
       "Main Category                                                                 \n",
       "Pet Supplies                59987   59982   59987          59987         59987\n",
       "Arts, Crafts & Sewing       63037   62970   63037          63037         63037\n",
       "Office Products             67390   67167   67390          67390         67390\n",
       "Electronics                 68756   68068   68756          68756         68756\n",
       "Toys & Games                70941   70924   70941          70941         70941\n",
       "Patio, Lawn & Garden        74286   73800   74286          74286         74286\n",
       "Kitchen & Dining            91222   91026   91222          91222         91222\n",
       "Grocery & Gourmet Food     107744  107742  107744         107744        107744\n",
       "Home & Kitchen             111016  110451  111016         111016        111016\n",
       "Health & Household         123446  123204  123446         123446        123446\n",
       "Tools & Home Improvement   160953  160109  160953         160953        160953\n",
       "Industrial & Scientific    198405  197041  198405         198405        198405\n",
       "Clothing, Shoes & Jewelry  242927  242894  242927         242927        242927\n",
       "Automotive                 262534  261883  262534         262534        262534\n",
       "Sports & Outdoors          313636  313060  313636         313636        313636"
      ],
      "text/html": "<div>\n<style scoped>\n    .dataframe tbody tr th:only-of-type {\n        vertical-align: middle;\n    }\n\n    .dataframe tbody tr th {\n        vertical-align: top;\n    }\n\n    .dataframe thead th {\n        text-align: right;\n    }\n</style>\n<table border=\"1\" class=\"dataframe\">\n  <thead>\n    <tr style=\"text-align: right;\">\n      <th></th>\n      <th>title</th>\n      <th>price</th>\n      <th>rating</th>\n      <th>No of reviews</th>\n      <th>Sub Category</th>\n    </tr>\n    <tr>\n      <th>Main Category</th>\n      <th></th>\n      <th></th>\n      <th></th>\n      <th></th>\n      <th></th>\n    </tr>\n  </thead>\n  <tbody>\n    <tr>\n      <th>Pet Supplies</th>\n      <td>59987</td>\n      <td>59982</td>\n      <td>59987</td>\n      <td>59987</td>\n      <td>59987</td>\n    </tr>\n    <tr>\n      <th>Arts, Crafts &amp; Sewing</th>\n      <td>63037</td>\n      <td>62970</td>\n      <td>63037</td>\n      <td>63037</td>\n      <td>63037</td>\n    </tr>\n    <tr>\n      <th>Office Products</th>\n      <td>67390</td>\n      <td>67167</td>\n      <td>67390</td>\n      <td>67390</td>\n      <td>67390</td>\n    </tr>\n    <tr>\n      <th>Electronics</th>\n      <td>68756</td>\n      <td>68068</td>\n      <td>68756</td>\n      <td>68756</td>\n      <td>68756</td>\n    </tr>\n    <tr>\n      <th>Toys &amp; Games</th>\n      <td>70941</td>\n      <td>70924</td>\n      <td>70941</td>\n      <td>70941</td>\n      <td>70941</td>\n    </tr>\n    <tr>\n      <th>Patio, Lawn &amp; Garden</th>\n      <td>74286</td>\n      <td>73800</td>\n      <td>74286</td>\n      <td>74286</td>\n      <td>74286</td>\n    </tr>\n    <tr>\n      <th>Kitchen &amp; Dining</th>\n      <td>91222</td>\n      <td>91026</td>\n      <td>91222</td>\n      <td>91222</td>\n      <td>91222</td>\n    </tr>\n    <tr>\n      <th>Grocery &amp; Gourmet Food</th>\n      <td>107744</td>\n      <td>107742</td>\n      <td>107744</td>\n      <td>107744</td>\n      <td>107744</td>\n    </tr>\n    <tr>\n      <th>Home &amp; Kitchen</th>\n      <td>111016</td>\n      <td>110451</td>\n      <td>111016</td>\n      <td>111016</td>\n      <td>111016</td>\n    </tr>\n    <tr>\n      <th>Health &amp; Household</th>\n      <td>123446</td>\n      <td>123204</td>\n      <td>123446</td>\n      <td>123446</td>\n      <td>123446</td>\n    </tr>\n    <tr>\n      <th>Tools &amp; Home Improvement</th>\n      <td>160953</td>\n      <td>160109</td>\n      <td>160953</td>\n      <td>160953</td>\n      <td>160953</td>\n    </tr>\n    <tr>\n      <th>Industrial &amp; Scientific</th>\n      <td>198405</td>\n      <td>197041</td>\n      <td>198405</td>\n      <td>198405</td>\n      <td>198405</td>\n    </tr>\n    <tr>\n      <th>Clothing, Shoes &amp; Jewelry</th>\n      <td>242927</td>\n      <td>242894</td>\n      <td>242927</td>\n      <td>242927</td>\n      <td>242927</td>\n    </tr>\n    <tr>\n      <th>Automotive</th>\n      <td>262534</td>\n      <td>261883</td>\n      <td>262534</td>\n      <td>262534</td>\n      <td>262534</td>\n    </tr>\n    <tr>\n      <th>Sports &amp; Outdoors</th>\n      <td>313636</td>\n      <td>313060</td>\n      <td>313636</td>\n      <td>313636</td>\n      <td>313636</td>\n    </tr>\n  </tbody>\n</table>\n</div>"
     },
     "metadata": {},
     "execution_count": 12
    }
   ],
   "source": [
    "#Cojo los 15 más altos. Electronics no es el más vendido sino el 12, el más vendido es sports&Outdoors\n",
    "df_amazon_copy.groupby(\"Main Category\").count().sort_values(by=\"title\").tail(15)"
   ]
  },
  {
   "cell_type": "code",
   "execution_count": 13,
   "metadata": {},
   "outputs": [
    {
     "output_type": "execute_result",
     "data": {
      "text/plain": [
       "                                                     title          price  \\\n",
       "9902     \\n            Venture Pal Large 1 Gallon/128 O...  $16.99 $21.99   \n",
       "9934     \\n            Iron Flask Sports Water Bottle -...  $17.95 $36.95   \n",
       "9935     \\n            CamelBak Eddy Kids BPA Free Wate...   $7.00 $69.99   \n",
       "9936     \\n            HYDRO CELL Stainless Steel Water...  $14.99 $23.99   \n",
       "9937     \\n            The Mass Wide Mouth Straw Lid Co...   $6.14 $13.95   \n",
       "...                                                    ...            ...   \n",
       "2184174  \\n            Midwest Hearth Fire Starter Squa...   $6.99 $11.56   \n",
       "2184175  \\n            Rutland Products Creosote Remove...         $23.95   \n",
       "2184176  \\n            SUPER CEDAR FIRESTARTERS - 4 cou...          $8.30   \n",
       "2184177  \\n            calico 2 Pack Combo Hot Shot 2 X...         $12.99   \n",
       "2184178  \\n            Rectangle Match Strikers 0.50\" x...         $13.95   \n",
       "\n",
       "                     rating No of reviews      Main Category  \\\n",
       "9902     4.5 out of 5 stars        11,016  Sports & Outdoors   \n",
       "9934     4.8 out of 5 stars        17,956  Sports & Outdoors   \n",
       "9935     4.5 out of 5 stars        17,052  Sports & Outdoors   \n",
       "9936     4.7 out of 5 stars        13,422  Sports & Outdoors   \n",
       "9937     4.5 out of 5 stars         6,011  Sports & Outdoors   \n",
       "...                     ...           ...                ...   \n",
       "2184174  4.7 out of 5 stars           548  Sports & Outdoors   \n",
       "2184175  4.3 out of 5 stars           246  Sports & Outdoors   \n",
       "2184176  4.7 out of 5 stars           140  Sports & Outdoors   \n",
       "2184177  4.2 out of 5 stars            44  Sports & Outdoors   \n",
       "2184178  4.6 out of 5 stars            57  Sports & Outdoors   \n",
       "\n",
       "                                              Sub Category  \n",
       "9902                 Sports & Fitness/Sports Water Bottles  \n",
       "9934                 Sports & Fitness/Sports Water Bottles  \n",
       "9935                 Sports & Fitness/Sports Water Bottles  \n",
       "9936                 Sports & Fitness/Sports Water Bottles  \n",
       "9937                 Sports & Fitness/Sports Water Bottles  \n",
       "...                                                    ...  \n",
       "2184174  Outdoor Recreation/Camping & Hiking/Camp Kitch...  \n",
       "2184175  Outdoor Recreation/Camping & Hiking/Camp Kitch...  \n",
       "2184176  Outdoor Recreation/Camping & Hiking/Camp Kitch...  \n",
       "2184177  Outdoor Recreation/Camping & Hiking/Camp Kitch...  \n",
       "2184178  Outdoor Recreation/Camping & Hiking/Camp Kitch...  \n",
       "\n",
       "[313636 rows x 6 columns]"
      ],
      "text/html": "<div>\n<style scoped>\n    .dataframe tbody tr th:only-of-type {\n        vertical-align: middle;\n    }\n\n    .dataframe tbody tr th {\n        vertical-align: top;\n    }\n\n    .dataframe thead th {\n        text-align: right;\n    }\n</style>\n<table border=\"1\" class=\"dataframe\">\n  <thead>\n    <tr style=\"text-align: right;\">\n      <th></th>\n      <th>title</th>\n      <th>price</th>\n      <th>rating</th>\n      <th>No of reviews</th>\n      <th>Main Category</th>\n      <th>Sub Category</th>\n    </tr>\n  </thead>\n  <tbody>\n    <tr>\n      <th>9902</th>\n      <td>\\n            Venture Pal Large 1 Gallon/128 O...</td>\n      <td>$16.99 $21.99</td>\n      <td>4.5 out of 5 stars</td>\n      <td>11,016</td>\n      <td>Sports &amp; Outdoors</td>\n      <td>Sports &amp; Fitness/Sports Water Bottles</td>\n    </tr>\n    <tr>\n      <th>9934</th>\n      <td>\\n            Iron Flask Sports Water Bottle -...</td>\n      <td>$17.95 $36.95</td>\n      <td>4.8 out of 5 stars</td>\n      <td>17,956</td>\n      <td>Sports &amp; Outdoors</td>\n      <td>Sports &amp; Fitness/Sports Water Bottles</td>\n    </tr>\n    <tr>\n      <th>9935</th>\n      <td>\\n            CamelBak Eddy Kids BPA Free Wate...</td>\n      <td>$7.00 $69.99</td>\n      <td>4.5 out of 5 stars</td>\n      <td>17,052</td>\n      <td>Sports &amp; Outdoors</td>\n      <td>Sports &amp; Fitness/Sports Water Bottles</td>\n    </tr>\n    <tr>\n      <th>9936</th>\n      <td>\\n            HYDRO CELL Stainless Steel Water...</td>\n      <td>$14.99 $23.99</td>\n      <td>4.7 out of 5 stars</td>\n      <td>13,422</td>\n      <td>Sports &amp; Outdoors</td>\n      <td>Sports &amp; Fitness/Sports Water Bottles</td>\n    </tr>\n    <tr>\n      <th>9937</th>\n      <td>\\n            The Mass Wide Mouth Straw Lid Co...</td>\n      <td>$6.14 $13.95</td>\n      <td>4.5 out of 5 stars</td>\n      <td>6,011</td>\n      <td>Sports &amp; Outdoors</td>\n      <td>Sports &amp; Fitness/Sports Water Bottles</td>\n    </tr>\n    <tr>\n      <th>...</th>\n      <td>...</td>\n      <td>...</td>\n      <td>...</td>\n      <td>...</td>\n      <td>...</td>\n      <td>...</td>\n    </tr>\n    <tr>\n      <th>2184174</th>\n      <td>\\n            Midwest Hearth Fire Starter Squa...</td>\n      <td>$6.99 $11.56</td>\n      <td>4.7 out of 5 stars</td>\n      <td>548</td>\n      <td>Sports &amp; Outdoors</td>\n      <td>Outdoor Recreation/Camping &amp; Hiking/Camp Kitch...</td>\n    </tr>\n    <tr>\n      <th>2184175</th>\n      <td>\\n            Rutland Products Creosote Remove...</td>\n      <td>$23.95</td>\n      <td>4.3 out of 5 stars</td>\n      <td>246</td>\n      <td>Sports &amp; Outdoors</td>\n      <td>Outdoor Recreation/Camping &amp; Hiking/Camp Kitch...</td>\n    </tr>\n    <tr>\n      <th>2184176</th>\n      <td>\\n            SUPER CEDAR FIRESTARTERS - 4 cou...</td>\n      <td>$8.30</td>\n      <td>4.7 out of 5 stars</td>\n      <td>140</td>\n      <td>Sports &amp; Outdoors</td>\n      <td>Outdoor Recreation/Camping &amp; Hiking/Camp Kitch...</td>\n    </tr>\n    <tr>\n      <th>2184177</th>\n      <td>\\n            calico 2 Pack Combo Hot Shot 2 X...</td>\n      <td>$12.99</td>\n      <td>4.2 out of 5 stars</td>\n      <td>44</td>\n      <td>Sports &amp; Outdoors</td>\n      <td>Outdoor Recreation/Camping &amp; Hiking/Camp Kitch...</td>\n    </tr>\n    <tr>\n      <th>2184178</th>\n      <td>\\n            Rectangle Match Strikers 0.50\" x...</td>\n      <td>$13.95</td>\n      <td>4.6 out of 5 stars</td>\n      <td>57</td>\n      <td>Sports &amp; Outdoors</td>\n      <td>Outdoor Recreation/Camping &amp; Hiking/Camp Kitch...</td>\n    </tr>\n  </tbody>\n</table>\n<p>313636 rows × 6 columns</p>\n</div>"
     },
     "metadata": {},
     "execution_count": 13
    }
   ],
   "source": [
    "#Hago un dataframe exclusivamente de Sport & Outdoors, el más vendido.\n",
    "sport_and_outdoors = df_amazon_copy[(df_amazon_copy[\"Main Category\"] == \"Sports & Outdoors\")]\n",
    "sport_and_outdoors"
   ]
  },
  {
   "cell_type": "code",
   "execution_count": 14,
   "metadata": {},
   "outputs": [
    {
     "output_type": "execute_result",
     "data": {
      "text/plain": [
       "                                                     title          price  \\\n",
       "9902     \\n            Venture Pal Large 1 Gallon/128 O...  $16.99 $21.99   \n",
       "9934     \\n            Iron Flask Sports Water Bottle -...  $17.95 $36.95   \n",
       "9935     \\n            CamelBak Eddy Kids BPA Free Wate...   $7.00 $69.99   \n",
       "9936     \\n            HYDRO CELL Stainless Steel Water...  $14.99 $23.99   \n",
       "9937     \\n            The Mass Wide Mouth Straw Lid Co...   $6.14 $13.95   \n",
       "...                                                    ...            ...   \n",
       "2184174  \\n            Midwest Hearth Fire Starter Squa...   $6.99 $11.56   \n",
       "2184175  \\n            Rutland Products Creosote Remove...         $23.95   \n",
       "2184176  \\n            SUPER CEDAR FIRESTARTERS - 4 cou...          $8.30   \n",
       "2184177  \\n            calico 2 Pack Combo Hot Shot 2 X...         $12.99   \n",
       "2184178  \\n            Rectangle Match Strikers 0.50\" x...         $13.95   \n",
       "\n",
       "                     rating No of reviews      Main Category  \\\n",
       "9902     4.5 out of 5 stars        11,016  Sports & Outdoors   \n",
       "9934     4.8 out of 5 stars        17,956  Sports & Outdoors   \n",
       "9935     4.5 out of 5 stars        17,052  Sports & Outdoors   \n",
       "9936     4.7 out of 5 stars        13,422  Sports & Outdoors   \n",
       "9937     4.5 out of 5 stars         6,011  Sports & Outdoors   \n",
       "...                     ...           ...                ...   \n",
       "2184174  4.7 out of 5 stars           548  Sports & Outdoors   \n",
       "2184175  4.3 out of 5 stars           246  Sports & Outdoors   \n",
       "2184176  4.7 out of 5 stars           140  Sports & Outdoors   \n",
       "2184177  4.2 out of 5 stars            44  Sports & Outdoors   \n",
       "2184178  4.6 out of 5 stars            57  Sports & Outdoors   \n",
       "\n",
       "               Sub Category                         Another sub Category  \n",
       "9902       Sports & Fitness                         Sports Water Bottles  \n",
       "9934       Sports & Fitness                         Sports Water Bottles  \n",
       "9935       Sports & Fitness                         Sports Water Bottles  \n",
       "9936       Sports & Fitness                         Sports Water Bottles  \n",
       "9937       Sports & Fitness                         Sports Water Bottles  \n",
       "...                     ...                                          ...  \n",
       "2184174  Outdoor Recreation  Camping & Hiking/Camp Kitchen/Fire Starters  \n",
       "2184175  Outdoor Recreation  Camping & Hiking/Camp Kitchen/Fire Starters  \n",
       "2184176  Outdoor Recreation  Camping & Hiking/Camp Kitchen/Fire Starters  \n",
       "2184177  Outdoor Recreation  Camping & Hiking/Camp Kitchen/Fire Starters  \n",
       "2184178  Outdoor Recreation  Camping & Hiking/Camp Kitchen/Fire Starters  \n",
       "\n",
       "[313636 rows x 7 columns]"
      ],
      "text/html": "<div>\n<style scoped>\n    .dataframe tbody tr th:only-of-type {\n        vertical-align: middle;\n    }\n\n    .dataframe tbody tr th {\n        vertical-align: top;\n    }\n\n    .dataframe thead th {\n        text-align: right;\n    }\n</style>\n<table border=\"1\" class=\"dataframe\">\n  <thead>\n    <tr style=\"text-align: right;\">\n      <th></th>\n      <th>title</th>\n      <th>price</th>\n      <th>rating</th>\n      <th>No of reviews</th>\n      <th>Main Category</th>\n      <th>Sub Category</th>\n      <th>Another sub Category</th>\n    </tr>\n  </thead>\n  <tbody>\n    <tr>\n      <th>9902</th>\n      <td>\\n            Venture Pal Large 1 Gallon/128 O...</td>\n      <td>$16.99 $21.99</td>\n      <td>4.5 out of 5 stars</td>\n      <td>11,016</td>\n      <td>Sports &amp; Outdoors</td>\n      <td>Sports &amp; Fitness</td>\n      <td>Sports Water Bottles</td>\n    </tr>\n    <tr>\n      <th>9934</th>\n      <td>\\n            Iron Flask Sports Water Bottle -...</td>\n      <td>$17.95 $36.95</td>\n      <td>4.8 out of 5 stars</td>\n      <td>17,956</td>\n      <td>Sports &amp; Outdoors</td>\n      <td>Sports &amp; Fitness</td>\n      <td>Sports Water Bottles</td>\n    </tr>\n    <tr>\n      <th>9935</th>\n      <td>\\n            CamelBak Eddy Kids BPA Free Wate...</td>\n      <td>$7.00 $69.99</td>\n      <td>4.5 out of 5 stars</td>\n      <td>17,052</td>\n      <td>Sports &amp; Outdoors</td>\n      <td>Sports &amp; Fitness</td>\n      <td>Sports Water Bottles</td>\n    </tr>\n    <tr>\n      <th>9936</th>\n      <td>\\n            HYDRO CELL Stainless Steel Water...</td>\n      <td>$14.99 $23.99</td>\n      <td>4.7 out of 5 stars</td>\n      <td>13,422</td>\n      <td>Sports &amp; Outdoors</td>\n      <td>Sports &amp; Fitness</td>\n      <td>Sports Water Bottles</td>\n    </tr>\n    <tr>\n      <th>9937</th>\n      <td>\\n            The Mass Wide Mouth Straw Lid Co...</td>\n      <td>$6.14 $13.95</td>\n      <td>4.5 out of 5 stars</td>\n      <td>6,011</td>\n      <td>Sports &amp; Outdoors</td>\n      <td>Sports &amp; Fitness</td>\n      <td>Sports Water Bottles</td>\n    </tr>\n    <tr>\n      <th>...</th>\n      <td>...</td>\n      <td>...</td>\n      <td>...</td>\n      <td>...</td>\n      <td>...</td>\n      <td>...</td>\n      <td>...</td>\n    </tr>\n    <tr>\n      <th>2184174</th>\n      <td>\\n            Midwest Hearth Fire Starter Squa...</td>\n      <td>$6.99 $11.56</td>\n      <td>4.7 out of 5 stars</td>\n      <td>548</td>\n      <td>Sports &amp; Outdoors</td>\n      <td>Outdoor Recreation</td>\n      <td>Camping &amp; Hiking/Camp Kitchen/Fire Starters</td>\n    </tr>\n    <tr>\n      <th>2184175</th>\n      <td>\\n            Rutland Products Creosote Remove...</td>\n      <td>$23.95</td>\n      <td>4.3 out of 5 stars</td>\n      <td>246</td>\n      <td>Sports &amp; Outdoors</td>\n      <td>Outdoor Recreation</td>\n      <td>Camping &amp; Hiking/Camp Kitchen/Fire Starters</td>\n    </tr>\n    <tr>\n      <th>2184176</th>\n      <td>\\n            SUPER CEDAR FIRESTARTERS - 4 cou...</td>\n      <td>$8.30</td>\n      <td>4.7 out of 5 stars</td>\n      <td>140</td>\n      <td>Sports &amp; Outdoors</td>\n      <td>Outdoor Recreation</td>\n      <td>Camping &amp; Hiking/Camp Kitchen/Fire Starters</td>\n    </tr>\n    <tr>\n      <th>2184177</th>\n      <td>\\n            calico 2 Pack Combo Hot Shot 2 X...</td>\n      <td>$12.99</td>\n      <td>4.2 out of 5 stars</td>\n      <td>44</td>\n      <td>Sports &amp; Outdoors</td>\n      <td>Outdoor Recreation</td>\n      <td>Camping &amp; Hiking/Camp Kitchen/Fire Starters</td>\n    </tr>\n    <tr>\n      <th>2184178</th>\n      <td>\\n            Rectangle Match Strikers 0.50\" x...</td>\n      <td>$13.95</td>\n      <td>4.6 out of 5 stars</td>\n      <td>57</td>\n      <td>Sports &amp; Outdoors</td>\n      <td>Outdoor Recreation</td>\n      <td>Camping &amp; Hiking/Camp Kitchen/Fire Starters</td>\n    </tr>\n  </tbody>\n</table>\n<p>313636 rows × 7 columns</p>\n</div>"
     },
     "metadata": {},
     "execution_count": 14
    }
   ],
   "source": [
    "#Separo por sub categorías Sports&Outdoors\n",
    "\n",
    "separado_subcategory = sport_and_outdoors[\"Sub Category\"].str.split(\"/\", n=1, expand=True)\n",
    "sport_and_outdoors[\"Sub Category\"]= separado_subcategory[0]\n",
    "sport_and_outdoors[\"Another sub Category\"]=separado_subcategory[1]\n",
    "sport_and_outdoors"
   ]
  },
  {
   "cell_type": "code",
   "execution_count": 15,
   "metadata": {},
   "outputs": [
    {
     "output_type": "execute_result",
     "data": {
      "text/plain": [
       "                            title   price  rating  No of reviews  \\\n",
       "Sub Category                                                       \n",
       "Video Games & Accessories      95      95      95             95   \n",
       "Fabric                        122     122     122            122   \n",
       "Cell Phone Accessories        126     126     126            126   \n",
       " Sports & Fitness             145     145     145            145   \n",
       " Fan Shop                     146     146     146            146   \n",
       " Outdoor Recreation           147     147     147            147   \n",
       "Fan Shop                    28143   28134   28143          28143   \n",
       "Outdoor Recreation          88817   88665   88817          88817   \n",
       "Sports & Fitness           195895  195480  195895         195895   \n",
       "\n",
       "                           Main Category  Another sub Category  \n",
       "Sub Category                                                    \n",
       "Video Games & Accessories             95                     0  \n",
       "Fabric                               122                     0  \n",
       "Cell Phone Accessories               126                     0  \n",
       " Sports & Fitness                    145                     0  \n",
       " Fan Shop                            146                     0  \n",
       " Outdoor Recreation                  147                     0  \n",
       "Fan Shop                           28143                 28143  \n",
       "Outdoor Recreation                 88817                 88817  \n",
       "Sports & Fitness                  195895                195895  "
      ],
      "text/html": "<div>\n<style scoped>\n    .dataframe tbody tr th:only-of-type {\n        vertical-align: middle;\n    }\n\n    .dataframe tbody tr th {\n        vertical-align: top;\n    }\n\n    .dataframe thead th {\n        text-align: right;\n    }\n</style>\n<table border=\"1\" class=\"dataframe\">\n  <thead>\n    <tr style=\"text-align: right;\">\n      <th></th>\n      <th>title</th>\n      <th>price</th>\n      <th>rating</th>\n      <th>No of reviews</th>\n      <th>Main Category</th>\n      <th>Another sub Category</th>\n    </tr>\n    <tr>\n      <th>Sub Category</th>\n      <th></th>\n      <th></th>\n      <th></th>\n      <th></th>\n      <th></th>\n      <th></th>\n    </tr>\n  </thead>\n  <tbody>\n    <tr>\n      <th>Video Games &amp; Accessories</th>\n      <td>95</td>\n      <td>95</td>\n      <td>95</td>\n      <td>95</td>\n      <td>95</td>\n      <td>0</td>\n    </tr>\n    <tr>\n      <th>Fabric</th>\n      <td>122</td>\n      <td>122</td>\n      <td>122</td>\n      <td>122</td>\n      <td>122</td>\n      <td>0</td>\n    </tr>\n    <tr>\n      <th>Cell Phone Accessories</th>\n      <td>126</td>\n      <td>126</td>\n      <td>126</td>\n      <td>126</td>\n      <td>126</td>\n      <td>0</td>\n    </tr>\n    <tr>\n      <th>Sports &amp; Fitness</th>\n      <td>145</td>\n      <td>145</td>\n      <td>145</td>\n      <td>145</td>\n      <td>145</td>\n      <td>0</td>\n    </tr>\n    <tr>\n      <th>Fan Shop</th>\n      <td>146</td>\n      <td>146</td>\n      <td>146</td>\n      <td>146</td>\n      <td>146</td>\n      <td>0</td>\n    </tr>\n    <tr>\n      <th>Outdoor Recreation</th>\n      <td>147</td>\n      <td>147</td>\n      <td>147</td>\n      <td>147</td>\n      <td>147</td>\n      <td>0</td>\n    </tr>\n    <tr>\n      <th>Fan Shop</th>\n      <td>28143</td>\n      <td>28134</td>\n      <td>28143</td>\n      <td>28143</td>\n      <td>28143</td>\n      <td>28143</td>\n    </tr>\n    <tr>\n      <th>Outdoor Recreation</th>\n      <td>88817</td>\n      <td>88665</td>\n      <td>88817</td>\n      <td>88817</td>\n      <td>88817</td>\n      <td>88817</td>\n    </tr>\n    <tr>\n      <th>Sports &amp; Fitness</th>\n      <td>195895</td>\n      <td>195480</td>\n      <td>195895</td>\n      <td>195895</td>\n      <td>195895</td>\n      <td>195895</td>\n    </tr>\n  </tbody>\n</table>\n</div>"
     },
     "metadata": {},
     "execution_count": 15
    }
   ],
   "source": [
    "#Agrupo por Sub Category para saber cual es la categoría que mas se ha vendido.\n",
    "\n",
    "#Solo tiene 9 categorías, pero varias de ellas están repetidas no se por qué. Tal vez, porque no tienen otra sub categoría como es el caso de Sport&Fitness o de Fan Shop\n",
    "\n",
    "#Saco la conclusión de que la más vendida es Sports&Fitness\n",
    "sport_and_outdoors.groupby(\"Sub Category\").count().sort_values(\"title\")"
   ]
  },
  {
   "cell_type": "code",
   "execution_count": 16,
   "metadata": {},
   "outputs": [
    {
     "output_type": "execute_result",
     "data": {
      "text/plain": [
       "                                                     title          price  \\\n",
       "9902     \\n            Venture Pal Large 1 Gallon/128 O...  $16.99 $21.99   \n",
       "9934     \\n            Iron Flask Sports Water Bottle -...  $17.95 $36.95   \n",
       "9935     \\n            CamelBak Eddy Kids BPA Free Wate...   $7.00 $69.99   \n",
       "9936     \\n            HYDRO CELL Stainless Steel Water...  $14.99 $23.99   \n",
       "9937     \\n            The Mass Wide Mouth Straw Lid Co...   $6.14 $13.95   \n",
       "...                                                    ...            ...   \n",
       "2125334  \\n            Polar Bottle Sport Insulated Wat...  $16.95 $40.80   \n",
       "2125335  \\n            BalanceFrom 2\" Thick Tri-Fold Fo...   $4.99 $14.62   \n",
       "2125336  \\n            Contigo Autoseal Trekker Kids Wa...   $5.50 $22.60   \n",
       "2125339  \\n            QuiFit Motivational Gallon Water...  $35.67 $79.20   \n",
       "2125340  \\n            BuildLife 1 Gallon Water Bottle ...  $10.49 $26.27   \n",
       "\n",
       "                     rating No of reviews      Main Category  \\\n",
       "9902     4.5 out of 5 stars        11,016  Sports & Outdoors   \n",
       "9934     4.8 out of 5 stars        17,956  Sports & Outdoors   \n",
       "9935     4.5 out of 5 stars        17,052  Sports & Outdoors   \n",
       "9936     4.7 out of 5 stars        13,422  Sports & Outdoors   \n",
       "9937     4.5 out of 5 stars         6,011  Sports & Outdoors   \n",
       "...                     ...           ...                ...   \n",
       "2125334  4.5 out of 5 stars         3,138  Sports & Outdoors   \n",
       "2125335  4.7 out of 5 stars         5,917  Sports & Outdoors   \n",
       "2125336  4.6 out of 5 stars         7,183  Sports & Outdoors   \n",
       "2125339  4.8 out of 5 stars           614  Sports & Outdoors   \n",
       "2125340  4.6 out of 5 stars        12,652  Sports & Outdoors   \n",
       "\n",
       "             Sub Category  Another sub Category  \n",
       "9902     Sports & Fitness  Sports Water Bottles  \n",
       "9934     Sports & Fitness  Sports Water Bottles  \n",
       "9935     Sports & Fitness  Sports Water Bottles  \n",
       "9936     Sports & Fitness  Sports Water Bottles  \n",
       "9937     Sports & Fitness  Sports Water Bottles  \n",
       "...                   ...                   ...  \n",
       "2125334  Sports & Fitness           Accessories  \n",
       "2125335  Sports & Fitness           Accessories  \n",
       "2125336  Sports & Fitness           Accessories  \n",
       "2125339  Sports & Fitness           Accessories  \n",
       "2125340  Sports & Fitness           Accessories  \n",
       "\n",
       "[195895 rows x 7 columns]"
      ],
      "text/html": "<div>\n<style scoped>\n    .dataframe tbody tr th:only-of-type {\n        vertical-align: middle;\n    }\n\n    .dataframe tbody tr th {\n        vertical-align: top;\n    }\n\n    .dataframe thead th {\n        text-align: right;\n    }\n</style>\n<table border=\"1\" class=\"dataframe\">\n  <thead>\n    <tr style=\"text-align: right;\">\n      <th></th>\n      <th>title</th>\n      <th>price</th>\n      <th>rating</th>\n      <th>No of reviews</th>\n      <th>Main Category</th>\n      <th>Sub Category</th>\n      <th>Another sub Category</th>\n    </tr>\n  </thead>\n  <tbody>\n    <tr>\n      <th>9902</th>\n      <td>\\n            Venture Pal Large 1 Gallon/128 O...</td>\n      <td>$16.99 $21.99</td>\n      <td>4.5 out of 5 stars</td>\n      <td>11,016</td>\n      <td>Sports &amp; Outdoors</td>\n      <td>Sports &amp; Fitness</td>\n      <td>Sports Water Bottles</td>\n    </tr>\n    <tr>\n      <th>9934</th>\n      <td>\\n            Iron Flask Sports Water Bottle -...</td>\n      <td>$17.95 $36.95</td>\n      <td>4.8 out of 5 stars</td>\n      <td>17,956</td>\n      <td>Sports &amp; Outdoors</td>\n      <td>Sports &amp; Fitness</td>\n      <td>Sports Water Bottles</td>\n    </tr>\n    <tr>\n      <th>9935</th>\n      <td>\\n            CamelBak Eddy Kids BPA Free Wate...</td>\n      <td>$7.00 $69.99</td>\n      <td>4.5 out of 5 stars</td>\n      <td>17,052</td>\n      <td>Sports &amp; Outdoors</td>\n      <td>Sports &amp; Fitness</td>\n      <td>Sports Water Bottles</td>\n    </tr>\n    <tr>\n      <th>9936</th>\n      <td>\\n            HYDRO CELL Stainless Steel Water...</td>\n      <td>$14.99 $23.99</td>\n      <td>4.7 out of 5 stars</td>\n      <td>13,422</td>\n      <td>Sports &amp; Outdoors</td>\n      <td>Sports &amp; Fitness</td>\n      <td>Sports Water Bottles</td>\n    </tr>\n    <tr>\n      <th>9937</th>\n      <td>\\n            The Mass Wide Mouth Straw Lid Co...</td>\n      <td>$6.14 $13.95</td>\n      <td>4.5 out of 5 stars</td>\n      <td>6,011</td>\n      <td>Sports &amp; Outdoors</td>\n      <td>Sports &amp; Fitness</td>\n      <td>Sports Water Bottles</td>\n    </tr>\n    <tr>\n      <th>...</th>\n      <td>...</td>\n      <td>...</td>\n      <td>...</td>\n      <td>...</td>\n      <td>...</td>\n      <td>...</td>\n      <td>...</td>\n    </tr>\n    <tr>\n      <th>2125334</th>\n      <td>\\n            Polar Bottle Sport Insulated Wat...</td>\n      <td>$16.95 $40.80</td>\n      <td>4.5 out of 5 stars</td>\n      <td>3,138</td>\n      <td>Sports &amp; Outdoors</td>\n      <td>Sports &amp; Fitness</td>\n      <td>Accessories</td>\n    </tr>\n    <tr>\n      <th>2125335</th>\n      <td>\\n            BalanceFrom 2\" Thick Tri-Fold Fo...</td>\n      <td>$4.99 $14.62</td>\n      <td>4.7 out of 5 stars</td>\n      <td>5,917</td>\n      <td>Sports &amp; Outdoors</td>\n      <td>Sports &amp; Fitness</td>\n      <td>Accessories</td>\n    </tr>\n    <tr>\n      <th>2125336</th>\n      <td>\\n            Contigo Autoseal Trekker Kids Wa...</td>\n      <td>$5.50 $22.60</td>\n      <td>4.6 out of 5 stars</td>\n      <td>7,183</td>\n      <td>Sports &amp; Outdoors</td>\n      <td>Sports &amp; Fitness</td>\n      <td>Accessories</td>\n    </tr>\n    <tr>\n      <th>2125339</th>\n      <td>\\n            QuiFit Motivational Gallon Water...</td>\n      <td>$35.67 $79.20</td>\n      <td>4.8 out of 5 stars</td>\n      <td>614</td>\n      <td>Sports &amp; Outdoors</td>\n      <td>Sports &amp; Fitness</td>\n      <td>Accessories</td>\n    </tr>\n    <tr>\n      <th>2125340</th>\n      <td>\\n            BuildLife 1 Gallon Water Bottle ...</td>\n      <td>$10.49 $26.27</td>\n      <td>4.6 out of 5 stars</td>\n      <td>12,652</td>\n      <td>Sports &amp; Outdoors</td>\n      <td>Sports &amp; Fitness</td>\n      <td>Accessories</td>\n    </tr>\n  </tbody>\n</table>\n<p>195895 rows × 7 columns</p>\n</div>"
     },
     "metadata": {},
     "execution_count": 16
    }
   ],
   "source": [
    "#Me hago un dataframe exclusivo de sports&Fitness (incluyendo las que no tienen another sub Category)\n",
    "sport_and_fitness = sport_and_outdoors[(sport_and_outdoors[\"Sub Category\"] == \"Sports & Fitness\")]\n",
    "sport_and_fitness"
   ]
  },
  {
   "cell_type": "code",
   "execution_count": 17,
   "metadata": {},
   "outputs": [
    {
     "output_type": "execute_result",
     "data": {
      "text/plain": [
       "                                                   title  price  rating  \\\n",
       "Another sub Category                                                      \n",
       "Other Sports/Martial Arts/Clothing/Sets              362    362     362   \n",
       "Team Sports/Baseball/Clothing/Pants                  367    367     367   \n",
       "Running/Clothing/Shorts                              385    385     385   \n",
       "Other Sports/Dance/Clothing/Leotards                 385    385     385   \n",
       "Clothing/Tights & Leggings                           391    391     391   \n",
       "Golf/Clothing/Shirts                                 398    398     398   \n",
       "Team Sports/Soccer/Clothing/Socks                    451    451     451   \n",
       "Running/Clothing/Socks                               475    475     475   \n",
       "Exercise & Fitness/Clothing/Socks                    475    475     475   \n",
       "Exercise & Fitness/Clothing/Shorts                   489    489     489   \n",
       "Exercise & Fitness/Clothing/Hoodies & Sweatshirts    499    499     499   \n",
       "Tennis & Racquet Sports/Racquets                     509    509     509   \n",
       "Clothing/Sweatshirts & Hoodies                       543    543     543   \n",
       "Exercise & Fitness/Clothing/Pants                    549    549     549   \n",
       "Clothing/Socks                                       594    594     594   \n",
       "\n",
       "                                                   No of reviews  \\\n",
       "Another sub Category                                               \n",
       "Other Sports/Martial Arts/Clothing/Sets                      362   \n",
       "Team Sports/Baseball/Clothing/Pants                          367   \n",
       "Running/Clothing/Shorts                                      385   \n",
       "Other Sports/Dance/Clothing/Leotards                         385   \n",
       "Clothing/Tights & Leggings                                   391   \n",
       "Golf/Clothing/Shirts                                         398   \n",
       "Team Sports/Soccer/Clothing/Socks                            451   \n",
       "Running/Clothing/Socks                                       475   \n",
       "Exercise & Fitness/Clothing/Socks                            475   \n",
       "Exercise & Fitness/Clothing/Shorts                           489   \n",
       "Exercise & Fitness/Clothing/Hoodies & Sweatshirts            499   \n",
       "Tennis & Racquet Sports/Racquets                             509   \n",
       "Clothing/Sweatshirts & Hoodies                               543   \n",
       "Exercise & Fitness/Clothing/Pants                            549   \n",
       "Clothing/Socks                                               594   \n",
       "\n",
       "                                                   Main Category  Sub Category  \n",
       "Another sub Category                                                            \n",
       "Other Sports/Martial Arts/Clothing/Sets                      362           362  \n",
       "Team Sports/Baseball/Clothing/Pants                          367           367  \n",
       "Running/Clothing/Shorts                                      385           385  \n",
       "Other Sports/Dance/Clothing/Leotards                         385           385  \n",
       "Clothing/Tights & Leggings                                   391           391  \n",
       "Golf/Clothing/Shirts                                         398           398  \n",
       "Team Sports/Soccer/Clothing/Socks                            451           451  \n",
       "Running/Clothing/Socks                                       475           475  \n",
       "Exercise & Fitness/Clothing/Socks                            475           475  \n",
       "Exercise & Fitness/Clothing/Shorts                           489           489  \n",
       "Exercise & Fitness/Clothing/Hoodies & Sweatshirts            499           499  \n",
       "Tennis & Racquet Sports/Racquets                             509           509  \n",
       "Clothing/Sweatshirts & Hoodies                               543           543  \n",
       "Exercise & Fitness/Clothing/Pants                            549           549  \n",
       "Clothing/Socks                                               594           594  "
      ],
      "text/html": "<div>\n<style scoped>\n    .dataframe tbody tr th:only-of-type {\n        vertical-align: middle;\n    }\n\n    .dataframe tbody tr th {\n        vertical-align: top;\n    }\n\n    .dataframe thead th {\n        text-align: right;\n    }\n</style>\n<table border=\"1\" class=\"dataframe\">\n  <thead>\n    <tr style=\"text-align: right;\">\n      <th></th>\n      <th>title</th>\n      <th>price</th>\n      <th>rating</th>\n      <th>No of reviews</th>\n      <th>Main Category</th>\n      <th>Sub Category</th>\n    </tr>\n    <tr>\n      <th>Another sub Category</th>\n      <th></th>\n      <th></th>\n      <th></th>\n      <th></th>\n      <th></th>\n      <th></th>\n    </tr>\n  </thead>\n  <tbody>\n    <tr>\n      <th>Other Sports/Martial Arts/Clothing/Sets</th>\n      <td>362</td>\n      <td>362</td>\n      <td>362</td>\n      <td>362</td>\n      <td>362</td>\n      <td>362</td>\n    </tr>\n    <tr>\n      <th>Team Sports/Baseball/Clothing/Pants</th>\n      <td>367</td>\n      <td>367</td>\n      <td>367</td>\n      <td>367</td>\n      <td>367</td>\n      <td>367</td>\n    </tr>\n    <tr>\n      <th>Running/Clothing/Shorts</th>\n      <td>385</td>\n      <td>385</td>\n      <td>385</td>\n      <td>385</td>\n      <td>385</td>\n      <td>385</td>\n    </tr>\n    <tr>\n      <th>Other Sports/Dance/Clothing/Leotards</th>\n      <td>385</td>\n      <td>385</td>\n      <td>385</td>\n      <td>385</td>\n      <td>385</td>\n      <td>385</td>\n    </tr>\n    <tr>\n      <th>Clothing/Tights &amp; Leggings</th>\n      <td>391</td>\n      <td>391</td>\n      <td>391</td>\n      <td>391</td>\n      <td>391</td>\n      <td>391</td>\n    </tr>\n    <tr>\n      <th>Golf/Clothing/Shirts</th>\n      <td>398</td>\n      <td>398</td>\n      <td>398</td>\n      <td>398</td>\n      <td>398</td>\n      <td>398</td>\n    </tr>\n    <tr>\n      <th>Team Sports/Soccer/Clothing/Socks</th>\n      <td>451</td>\n      <td>451</td>\n      <td>451</td>\n      <td>451</td>\n      <td>451</td>\n      <td>451</td>\n    </tr>\n    <tr>\n      <th>Running/Clothing/Socks</th>\n      <td>475</td>\n      <td>475</td>\n      <td>475</td>\n      <td>475</td>\n      <td>475</td>\n      <td>475</td>\n    </tr>\n    <tr>\n      <th>Exercise &amp; Fitness/Clothing/Socks</th>\n      <td>475</td>\n      <td>475</td>\n      <td>475</td>\n      <td>475</td>\n      <td>475</td>\n      <td>475</td>\n    </tr>\n    <tr>\n      <th>Exercise &amp; Fitness/Clothing/Shorts</th>\n      <td>489</td>\n      <td>489</td>\n      <td>489</td>\n      <td>489</td>\n      <td>489</td>\n      <td>489</td>\n    </tr>\n    <tr>\n      <th>Exercise &amp; Fitness/Clothing/Hoodies &amp; Sweatshirts</th>\n      <td>499</td>\n      <td>499</td>\n      <td>499</td>\n      <td>499</td>\n      <td>499</td>\n      <td>499</td>\n    </tr>\n    <tr>\n      <th>Tennis &amp; Racquet Sports/Racquets</th>\n      <td>509</td>\n      <td>509</td>\n      <td>509</td>\n      <td>509</td>\n      <td>509</td>\n      <td>509</td>\n    </tr>\n    <tr>\n      <th>Clothing/Sweatshirts &amp; Hoodies</th>\n      <td>543</td>\n      <td>543</td>\n      <td>543</td>\n      <td>543</td>\n      <td>543</td>\n      <td>543</td>\n    </tr>\n    <tr>\n      <th>Exercise &amp; Fitness/Clothing/Pants</th>\n      <td>549</td>\n      <td>549</td>\n      <td>549</td>\n      <td>549</td>\n      <td>549</td>\n      <td>549</td>\n    </tr>\n    <tr>\n      <th>Clothing/Socks</th>\n      <td>594</td>\n      <td>594</td>\n      <td>594</td>\n      <td>594</td>\n      <td>594</td>\n      <td>594</td>\n    </tr>\n  </tbody>\n</table>\n</div>"
     },
     "metadata": {},
     "execution_count": 17
    }
   ],
   "source": [
    "#Veo que lo más vendido está todo relacionado con ropa\n",
    "sport_and_fitness.groupby(\"Another sub Category\").count().sort_values(by=\"title\").tail(15)"
   ]
  },
  {
   "cell_type": "code",
   "execution_count": 18,
   "metadata": {},
   "outputs": [
    {
     "output_type": "execute_result",
     "data": {
      "text/plain": [
       "                                                     title           price  \\\n",
       "2008757  \\n            Women's Volleyball 4\" Competitiv...           $0.01   \n",
       "1979589  \\n            Tail Activewear Women's Doral 14...           $0.01   \n",
       "2004306  \\n            Joe's USA - Soccer Game Socks\\n ...           $0.01   \n",
       "1767329  \\n            Holloway Womens Ladies Sophomore...           $0.01   \n",
       "329485   \\n            Tommie Copper Women's Posture Sh...           $0.01   \n",
       "...                                                    ...             ...   \n",
       "1200870  \\n            Sitka Women's Hunting Camo Water...  $99.99 $133.16   \n",
       "1201574  \\n            Sitka Women's Hunting Camo Water...  $99.99 $133.16   \n",
       "1202344  \\n            Beretta Full Mesh Shooters Vest,...  $99.99 $197.99   \n",
       "2079134  \\n            STORMR Aero Mid-Weight Jacket or...  $99.99 $219.99   \n",
       "1765944  \\n            Lavnis Men's One Piece Romper Ca...             NaN   \n",
       "\n",
       "                     rating No of reviews      Main Category  \\\n",
       "2008757  4.4 out of 5 stars            26  Sports & Outdoors   \n",
       "1979589  5.0 out of 5 stars             3  Sports & Outdoors   \n",
       "2004306  4.1 out of 5 stars            50  Sports & Outdoors   \n",
       "1767329  4.1 out of 5 stars            14  Sports & Outdoors   \n",
       "329485   4.0 out of 5 stars           249  Sports & Outdoors   \n",
       "...                     ...           ...                ...   \n",
       "1200870  3.3 out of 5 stars             5  Sports & Outdoors   \n",
       "1201574  3.3 out of 5 stars             5  Sports & Outdoors   \n",
       "1202344  4.9 out of 5 stars             8  Sports & Outdoors   \n",
       "2079134  4.3 out of 5 stars            19  Sports & Outdoors   \n",
       "1765944  4.1 out of 5 stars            48  Sports & Outdoors   \n",
       "\n",
       "             Sub Category                               Another sub Category  \n",
       "2008757  Sports & Fitness             Team Sports/Volleyball/Clothing/Shorts  \n",
       "1979589  Sports & Fitness     Tennis & Racquet Sports/Tennis/Clothing/Shirts  \n",
       "2004306  Sports & Fitness                  Team Sports/Soccer/Clothing/Socks  \n",
       "1767329  Sports & Fitness               Exercise & Fitness/Clothing/Sweaters  \n",
       "329485   Sports & Fitness                    Clothing/Women/Compression Tops  \n",
       "...                   ...                                                ...  \n",
       "1200870  Sports & Fitness           Hunting & Fishing/Hunting/Clothing/Pants  \n",
       "1201574  Sports & Fitness           Hunting & Fishing/Hunting/Clothing/Pants  \n",
       "1202344  Sports & Fitness           Hunting & Fishing/Hunting/Clothing/Vests  \n",
       "2079134  Sports & Fitness  Hunting & Fishing/Fishing/Fishing Apparel/Clot...  \n",
       "1765944  Sports & Fitness             Exercise & Fitness/Clothing/Tracksuits  \n",
       "\n",
       "[46609 rows x 7 columns]"
      ],
      "text/html": "<div>\n<style scoped>\n    .dataframe tbody tr th:only-of-type {\n        vertical-align: middle;\n    }\n\n    .dataframe tbody tr th {\n        vertical-align: top;\n    }\n\n    .dataframe thead th {\n        text-align: right;\n    }\n</style>\n<table border=\"1\" class=\"dataframe\">\n  <thead>\n    <tr style=\"text-align: right;\">\n      <th></th>\n      <th>title</th>\n      <th>price</th>\n      <th>rating</th>\n      <th>No of reviews</th>\n      <th>Main Category</th>\n      <th>Sub Category</th>\n      <th>Another sub Category</th>\n    </tr>\n  </thead>\n  <tbody>\n    <tr>\n      <th>2008757</th>\n      <td>\\n            Women's Volleyball 4\" Competitiv...</td>\n      <td>$0.01</td>\n      <td>4.4 out of 5 stars</td>\n      <td>26</td>\n      <td>Sports &amp; Outdoors</td>\n      <td>Sports &amp; Fitness</td>\n      <td>Team Sports/Volleyball/Clothing/Shorts</td>\n    </tr>\n    <tr>\n      <th>1979589</th>\n      <td>\\n            Tail Activewear Women's Doral 14...</td>\n      <td>$0.01</td>\n      <td>5.0 out of 5 stars</td>\n      <td>3</td>\n      <td>Sports &amp; Outdoors</td>\n      <td>Sports &amp; Fitness</td>\n      <td>Tennis &amp; Racquet Sports/Tennis/Clothing/Shirts</td>\n    </tr>\n    <tr>\n      <th>2004306</th>\n      <td>\\n            Joe's USA - Soccer Game Socks\\n ...</td>\n      <td>$0.01</td>\n      <td>4.1 out of 5 stars</td>\n      <td>50</td>\n      <td>Sports &amp; Outdoors</td>\n      <td>Sports &amp; Fitness</td>\n      <td>Team Sports/Soccer/Clothing/Socks</td>\n    </tr>\n    <tr>\n      <th>1767329</th>\n      <td>\\n            Holloway Womens Ladies Sophomore...</td>\n      <td>$0.01</td>\n      <td>4.1 out of 5 stars</td>\n      <td>14</td>\n      <td>Sports &amp; Outdoors</td>\n      <td>Sports &amp; Fitness</td>\n      <td>Exercise &amp; Fitness/Clothing/Sweaters</td>\n    </tr>\n    <tr>\n      <th>329485</th>\n      <td>\\n            Tommie Copper Women's Posture Sh...</td>\n      <td>$0.01</td>\n      <td>4.0 out of 5 stars</td>\n      <td>249</td>\n      <td>Sports &amp; Outdoors</td>\n      <td>Sports &amp; Fitness</td>\n      <td>Clothing/Women/Compression Tops</td>\n    </tr>\n    <tr>\n      <th>...</th>\n      <td>...</td>\n      <td>...</td>\n      <td>...</td>\n      <td>...</td>\n      <td>...</td>\n      <td>...</td>\n      <td>...</td>\n    </tr>\n    <tr>\n      <th>1200870</th>\n      <td>\\n            Sitka Women's Hunting Camo Water...</td>\n      <td>$99.99 $133.16</td>\n      <td>3.3 out of 5 stars</td>\n      <td>5</td>\n      <td>Sports &amp; Outdoors</td>\n      <td>Sports &amp; Fitness</td>\n      <td>Hunting &amp; Fishing/Hunting/Clothing/Pants</td>\n    </tr>\n    <tr>\n      <th>1201574</th>\n      <td>\\n            Sitka Women's Hunting Camo Water...</td>\n      <td>$99.99 $133.16</td>\n      <td>3.3 out of 5 stars</td>\n      <td>5</td>\n      <td>Sports &amp; Outdoors</td>\n      <td>Sports &amp; Fitness</td>\n      <td>Hunting &amp; Fishing/Hunting/Clothing/Pants</td>\n    </tr>\n    <tr>\n      <th>1202344</th>\n      <td>\\n            Beretta Full Mesh Shooters Vest,...</td>\n      <td>$99.99 $197.99</td>\n      <td>4.9 out of 5 stars</td>\n      <td>8</td>\n      <td>Sports &amp; Outdoors</td>\n      <td>Sports &amp; Fitness</td>\n      <td>Hunting &amp; Fishing/Hunting/Clothing/Vests</td>\n    </tr>\n    <tr>\n      <th>2079134</th>\n      <td>\\n            STORMR Aero Mid-Weight Jacket or...</td>\n      <td>$99.99 $219.99</td>\n      <td>4.3 out of 5 stars</td>\n      <td>19</td>\n      <td>Sports &amp; Outdoors</td>\n      <td>Sports &amp; Fitness</td>\n      <td>Hunting &amp; Fishing/Fishing/Fishing Apparel/Clot...</td>\n    </tr>\n    <tr>\n      <th>1765944</th>\n      <td>\\n            Lavnis Men's One Piece Romper Ca...</td>\n      <td>NaN</td>\n      <td>4.1 out of 5 stars</td>\n      <td>48</td>\n      <td>Sports &amp; Outdoors</td>\n      <td>Sports &amp; Fitness</td>\n      <td>Exercise &amp; Fitness/Clothing/Tracksuits</td>\n    </tr>\n  </tbody>\n</table>\n<p>46609 rows × 7 columns</p>\n</div>"
     },
     "metadata": {},
     "execution_count": 18
    }
   ],
   "source": [
    "#Extraigo todo lo que contenga la palabra Clothing dentro de la subcategoria de sport and fitness\n",
    "clothing = sport_and_fitness.loc[sport_and_fitness[\"Another sub Category\"].str.contains(\"Clothing\")]\n",
    "\n",
    "#Ordeno clothing por precio\n",
    "clothing.sort_values(by=\"price\") #Su venta no tiene nada que ver con el precio ya que tenemos precio de todo tipo, muy baratos y muy caros, pero para hacer esta afirmación habrá que saber cual es la mediana del precio."
   ]
  },
  {
   "cell_type": "code",
   "execution_count": 19,
   "metadata": {},
   "outputs": [
    {
     "output_type": "execute_result",
     "data": {
      "text/plain": [
       "325344     $39.99 $49.99\n",
       "325345     $12.99 $91.99\n",
       "325346            $47.95\n",
       "325347     $29.99 $69.99\n",
       "325348     $39.99 $41.99\n",
       "               ...      \n",
       "2079424          $199.95\n",
       "2079425    $46.62 $51.82\n",
       "2079426            $5.00\n",
       "2079427    $39.77 $42.99\n",
       "2079428           $45.99\n",
       "Name: price, Length: 46609, dtype: object"
      ]
     },
     "metadata": {},
     "execution_count": 19
    }
   ],
   "source": [
    "#Lo paso a str para poder separar los dos precios\n",
    "clothing[\"price\"].astype(str)"
   ]
  },
  {
   "cell_type": "code",
   "execution_count": 20,
   "metadata": {},
   "outputs": [
    {
     "output_type": "execute_result",
     "data": {
      "text/plain": [
       "                                                     title          price  \\\n",
       "325344   \\n            SWISSWELL Men's Rain Suit Waterp...  $39.99 $49.99   \n",
       "325345   \\n            Leger sport Rain Poncho Jacket (...  $12.99 $91.99   \n",
       "325346   \\n            Mens Windbreaker Jackets - Half ...         $47.95   \n",
       "325347   \\n            Weatherproof Original Mens Golf ...  $29.99 $69.99   \n",
       "325348   \\n            Little Donkey Andy Men's Waterpr...  $39.99 $41.99   \n",
       "...                                                    ...            ...   \n",
       "2079424  \\n            Nike Trail Kiger Vest,Large(Blac...        $199.95   \n",
       "2079425  \\n            18 Pocket Fishing Vest – Lightwe...  $46.62 $51.82   \n",
       "2079426  \\n            Onyx Pike Paddle Sports Life Jac...          $5.00   \n",
       "2079427  \\n            Stearns Flotation Fishing Vest\\n...  $39.77 $42.99   \n",
       "2079428  \\n            Flowt 40606-OS Angler Fishing Ad...         $45.99   \n",
       "\n",
       "                     rating No of reviews      Main Category  \\\n",
       "325344   4.3 out of 5 stars           724  Sports & Outdoors   \n",
       "325345   4.4 out of 5 stars           509  Sports & Outdoors   \n",
       "325346   4.5 out of 5 stars           116  Sports & Outdoors   \n",
       "325347   4.6 out of 5 stars           938  Sports & Outdoors   \n",
       "325348   4.4 out of 5 stars            15  Sports & Outdoors   \n",
       "...                     ...           ...                ...   \n",
       "2079424  5.0 out of 5 stars             2  Sports & Outdoors   \n",
       "2079425  4.2 out of 5 stars             3  Sports & Outdoors   \n",
       "2079426  3.6 out of 5 stars             8  Sports & Outdoors   \n",
       "2079427  2.5 out of 5 stars             3  Sports & Outdoors   \n",
       "2079428  4.3 out of 5 stars             4  Sports & Outdoors   \n",
       "\n",
       "             Sub Category                               Another sub Category  \\\n",
       "325344   Sports & Fitness                              Golf/Clothing/Jackets   \n",
       "325345   Sports & Fitness                              Golf/Clothing/Jackets   \n",
       "325346   Sports & Fitness                              Golf/Clothing/Jackets   \n",
       "325347   Sports & Fitness                              Golf/Clothing/Jackets   \n",
       "325348   Sports & Fitness                              Golf/Clothing/Jackets   \n",
       "...                   ...                                                ...   \n",
       "2079424  Sports & Fitness  Hunting & Fishing/Fishing/Fishing Apparel/Clot...   \n",
       "2079425  Sports & Fitness  Hunting & Fishing/Fishing/Fishing Apparel/Clot...   \n",
       "2079426  Sports & Fitness  Hunting & Fishing/Fishing/Fishing Apparel/Clot...   \n",
       "2079427  Sports & Fitness  Hunting & Fishing/Fishing/Fishing Apparel/Clot...   \n",
       "2079428  Sports & Fitness  Hunting & Fishing/Fishing/Fishing Apparel/Clot...   \n",
       "\n",
       "        low price high price  \n",
       "325344     $39.99     $49.99  \n",
       "325345     $12.99     $91.99  \n",
       "325346     $47.95       None  \n",
       "325347     $29.99     $69.99  \n",
       "325348     $39.99     $41.99  \n",
       "...           ...        ...  \n",
       "2079424   $199.95       None  \n",
       "2079425    $46.62     $51.82  \n",
       "2079426     $5.00       None  \n",
       "2079427    $39.77     $42.99  \n",
       "2079428    $45.99       None  \n",
       "\n",
       "[46609 rows x 9 columns]"
      ],
      "text/html": "<div>\n<style scoped>\n    .dataframe tbody tr th:only-of-type {\n        vertical-align: middle;\n    }\n\n    .dataframe tbody tr th {\n        vertical-align: top;\n    }\n\n    .dataframe thead th {\n        text-align: right;\n    }\n</style>\n<table border=\"1\" class=\"dataframe\">\n  <thead>\n    <tr style=\"text-align: right;\">\n      <th></th>\n      <th>title</th>\n      <th>price</th>\n      <th>rating</th>\n      <th>No of reviews</th>\n      <th>Main Category</th>\n      <th>Sub Category</th>\n      <th>Another sub Category</th>\n      <th>low price</th>\n      <th>high price</th>\n    </tr>\n  </thead>\n  <tbody>\n    <tr>\n      <th>325344</th>\n      <td>\\n            SWISSWELL Men's Rain Suit Waterp...</td>\n      <td>$39.99 $49.99</td>\n      <td>4.3 out of 5 stars</td>\n      <td>724</td>\n      <td>Sports &amp; Outdoors</td>\n      <td>Sports &amp; Fitness</td>\n      <td>Golf/Clothing/Jackets</td>\n      <td>$39.99</td>\n      <td>$49.99</td>\n    </tr>\n    <tr>\n      <th>325345</th>\n      <td>\\n            Leger sport Rain Poncho Jacket (...</td>\n      <td>$12.99 $91.99</td>\n      <td>4.4 out of 5 stars</td>\n      <td>509</td>\n      <td>Sports &amp; Outdoors</td>\n      <td>Sports &amp; Fitness</td>\n      <td>Golf/Clothing/Jackets</td>\n      <td>$12.99</td>\n      <td>$91.99</td>\n    </tr>\n    <tr>\n      <th>325346</th>\n      <td>\\n            Mens Windbreaker Jackets - Half ...</td>\n      <td>$47.95</td>\n      <td>4.5 out of 5 stars</td>\n      <td>116</td>\n      <td>Sports &amp; Outdoors</td>\n      <td>Sports &amp; Fitness</td>\n      <td>Golf/Clothing/Jackets</td>\n      <td>$47.95</td>\n      <td>None</td>\n    </tr>\n    <tr>\n      <th>325347</th>\n      <td>\\n            Weatherproof Original Mens Golf ...</td>\n      <td>$29.99 $69.99</td>\n      <td>4.6 out of 5 stars</td>\n      <td>938</td>\n      <td>Sports &amp; Outdoors</td>\n      <td>Sports &amp; Fitness</td>\n      <td>Golf/Clothing/Jackets</td>\n      <td>$29.99</td>\n      <td>$69.99</td>\n    </tr>\n    <tr>\n      <th>325348</th>\n      <td>\\n            Little Donkey Andy Men's Waterpr...</td>\n      <td>$39.99 $41.99</td>\n      <td>4.4 out of 5 stars</td>\n      <td>15</td>\n      <td>Sports &amp; Outdoors</td>\n      <td>Sports &amp; Fitness</td>\n      <td>Golf/Clothing/Jackets</td>\n      <td>$39.99</td>\n      <td>$41.99</td>\n    </tr>\n    <tr>\n      <th>...</th>\n      <td>...</td>\n      <td>...</td>\n      <td>...</td>\n      <td>...</td>\n      <td>...</td>\n      <td>...</td>\n      <td>...</td>\n      <td>...</td>\n      <td>...</td>\n    </tr>\n    <tr>\n      <th>2079424</th>\n      <td>\\n            Nike Trail Kiger Vest,Large(Blac...</td>\n      <td>$199.95</td>\n      <td>5.0 out of 5 stars</td>\n      <td>2</td>\n      <td>Sports &amp; Outdoors</td>\n      <td>Sports &amp; Fitness</td>\n      <td>Hunting &amp; Fishing/Fishing/Fishing Apparel/Clot...</td>\n      <td>$199.95</td>\n      <td>None</td>\n    </tr>\n    <tr>\n      <th>2079425</th>\n      <td>\\n            18 Pocket Fishing Vest – Lightwe...</td>\n      <td>$46.62 $51.82</td>\n      <td>4.2 out of 5 stars</td>\n      <td>3</td>\n      <td>Sports &amp; Outdoors</td>\n      <td>Sports &amp; Fitness</td>\n      <td>Hunting &amp; Fishing/Fishing/Fishing Apparel/Clot...</td>\n      <td>$46.62</td>\n      <td>$51.82</td>\n    </tr>\n    <tr>\n      <th>2079426</th>\n      <td>\\n            Onyx Pike Paddle Sports Life Jac...</td>\n      <td>$5.00</td>\n      <td>3.6 out of 5 stars</td>\n      <td>8</td>\n      <td>Sports &amp; Outdoors</td>\n      <td>Sports &amp; Fitness</td>\n      <td>Hunting &amp; Fishing/Fishing/Fishing Apparel/Clot...</td>\n      <td>$5.00</td>\n      <td>None</td>\n    </tr>\n    <tr>\n      <th>2079427</th>\n      <td>\\n            Stearns Flotation Fishing Vest\\n...</td>\n      <td>$39.77 $42.99</td>\n      <td>2.5 out of 5 stars</td>\n      <td>3</td>\n      <td>Sports &amp; Outdoors</td>\n      <td>Sports &amp; Fitness</td>\n      <td>Hunting &amp; Fishing/Fishing/Fishing Apparel/Clot...</td>\n      <td>$39.77</td>\n      <td>$42.99</td>\n    </tr>\n    <tr>\n      <th>2079428</th>\n      <td>\\n            Flowt 40606-OS Angler Fishing Ad...</td>\n      <td>$45.99</td>\n      <td>4.3 out of 5 stars</td>\n      <td>4</td>\n      <td>Sports &amp; Outdoors</td>\n      <td>Sports &amp; Fitness</td>\n      <td>Hunting &amp; Fishing/Fishing/Fishing Apparel/Clot...</td>\n      <td>$45.99</td>\n      <td>None</td>\n    </tr>\n  </tbody>\n</table>\n<p>46609 rows × 9 columns</p>\n</div>"
     },
     "metadata": {},
     "execution_count": 20
    }
   ],
   "source": [
    "#Separo los precios, el más bajo y el más alto\n",
    "price_str = clothing[\"price\"].str.split(\" \", n=1, expand=True)\n",
    "clothing[\"low price\"]= price_str[0]\n",
    "clothing[\"high price\"]=price_str[1]\n",
    "clothing"
   ]
  },
  {
   "cell_type": "code",
   "execution_count": 21,
   "metadata": {},
   "outputs": [
    {
     "output_type": "execute_result",
     "data": {
      "text/plain": [
       "                                                     title          price  \\\n",
       "325344   \\n            SWISSWELL Men's Rain Suit Waterp...  $39.99 $49.99   \n",
       "325345   \\n            Leger sport Rain Poncho Jacket (...  $12.99 $91.99   \n",
       "325346   \\n            Mens Windbreaker Jackets - Half ...         $47.95   \n",
       "325347   \\n            Weatherproof Original Mens Golf ...  $29.99 $69.99   \n",
       "325348   \\n            Little Donkey Andy Men's Waterpr...  $39.99 $41.99   \n",
       "...                                                    ...            ...   \n",
       "2079424  \\n            Nike Trail Kiger Vest,Large(Blac...        $199.95   \n",
       "2079425  \\n            18 Pocket Fishing Vest – Lightwe...  $46.62 $51.82   \n",
       "2079426  \\n            Onyx Pike Paddle Sports Life Jac...          $5.00   \n",
       "2079427  \\n            Stearns Flotation Fishing Vest\\n...  $39.77 $42.99   \n",
       "2079428  \\n            Flowt 40606-OS Angler Fishing Ad...         $45.99   \n",
       "\n",
       "                     rating No of reviews      Main Category  \\\n",
       "325344   4.3 out of 5 stars           724  Sports & Outdoors   \n",
       "325345   4.4 out of 5 stars           509  Sports & Outdoors   \n",
       "325346   4.5 out of 5 stars           116  Sports & Outdoors   \n",
       "325347   4.6 out of 5 stars           938  Sports & Outdoors   \n",
       "325348   4.4 out of 5 stars            15  Sports & Outdoors   \n",
       "...                     ...           ...                ...   \n",
       "2079424  5.0 out of 5 stars             2  Sports & Outdoors   \n",
       "2079425  4.2 out of 5 stars             3  Sports & Outdoors   \n",
       "2079426  3.6 out of 5 stars             8  Sports & Outdoors   \n",
       "2079427  2.5 out of 5 stars             3  Sports & Outdoors   \n",
       "2079428  4.3 out of 5 stars             4  Sports & Outdoors   \n",
       "\n",
       "             Sub Category                               Another sub Category  \\\n",
       "325344   Sports & Fitness                              Golf/Clothing/Jackets   \n",
       "325345   Sports & Fitness                              Golf/Clothing/Jackets   \n",
       "325346   Sports & Fitness                              Golf/Clothing/Jackets   \n",
       "325347   Sports & Fitness                              Golf/Clothing/Jackets   \n",
       "325348   Sports & Fitness                              Golf/Clothing/Jackets   \n",
       "...                   ...                                                ...   \n",
       "2079424  Sports & Fitness  Hunting & Fishing/Fishing/Fishing Apparel/Clot...   \n",
       "2079425  Sports & Fitness  Hunting & Fishing/Fishing/Fishing Apparel/Clot...   \n",
       "2079426  Sports & Fitness  Hunting & Fishing/Fishing/Fishing Apparel/Clot...   \n",
       "2079427  Sports & Fitness  Hunting & Fishing/Fishing/Fishing Apparel/Clot...   \n",
       "2079428  Sports & Fitness  Hunting & Fishing/Fishing/Fishing Apparel/Clot...   \n",
       "\n",
       "         low price  high price  \n",
       "325344       39.99       49.99  \n",
       "325345       12.99       91.99  \n",
       "325346       47.95         NaN  \n",
       "325347       29.99       69.99  \n",
       "325348       39.99       41.99  \n",
       "...            ...         ...  \n",
       "2079424     199.95         NaN  \n",
       "2079425      46.62       51.82  \n",
       "2079426       5.00         NaN  \n",
       "2079427      39.77       42.99  \n",
       "2079428      45.99         NaN  \n",
       "\n",
       "[46609 rows x 9 columns]"
      ],
      "text/html": "<div>\n<style scoped>\n    .dataframe tbody tr th:only-of-type {\n        vertical-align: middle;\n    }\n\n    .dataframe tbody tr th {\n        vertical-align: top;\n    }\n\n    .dataframe thead th {\n        text-align: right;\n    }\n</style>\n<table border=\"1\" class=\"dataframe\">\n  <thead>\n    <tr style=\"text-align: right;\">\n      <th></th>\n      <th>title</th>\n      <th>price</th>\n      <th>rating</th>\n      <th>No of reviews</th>\n      <th>Main Category</th>\n      <th>Sub Category</th>\n      <th>Another sub Category</th>\n      <th>low price</th>\n      <th>high price</th>\n    </tr>\n  </thead>\n  <tbody>\n    <tr>\n      <th>325344</th>\n      <td>\\n            SWISSWELL Men's Rain Suit Waterp...</td>\n      <td>$39.99 $49.99</td>\n      <td>4.3 out of 5 stars</td>\n      <td>724</td>\n      <td>Sports &amp; Outdoors</td>\n      <td>Sports &amp; Fitness</td>\n      <td>Golf/Clothing/Jackets</td>\n      <td>39.99</td>\n      <td>49.99</td>\n    </tr>\n    <tr>\n      <th>325345</th>\n      <td>\\n            Leger sport Rain Poncho Jacket (...</td>\n      <td>$12.99 $91.99</td>\n      <td>4.4 out of 5 stars</td>\n      <td>509</td>\n      <td>Sports &amp; Outdoors</td>\n      <td>Sports &amp; Fitness</td>\n      <td>Golf/Clothing/Jackets</td>\n      <td>12.99</td>\n      <td>91.99</td>\n    </tr>\n    <tr>\n      <th>325346</th>\n      <td>\\n            Mens Windbreaker Jackets - Half ...</td>\n      <td>$47.95</td>\n      <td>4.5 out of 5 stars</td>\n      <td>116</td>\n      <td>Sports &amp; Outdoors</td>\n      <td>Sports &amp; Fitness</td>\n      <td>Golf/Clothing/Jackets</td>\n      <td>47.95</td>\n      <td>NaN</td>\n    </tr>\n    <tr>\n      <th>325347</th>\n      <td>\\n            Weatherproof Original Mens Golf ...</td>\n      <td>$29.99 $69.99</td>\n      <td>4.6 out of 5 stars</td>\n      <td>938</td>\n      <td>Sports &amp; Outdoors</td>\n      <td>Sports &amp; Fitness</td>\n      <td>Golf/Clothing/Jackets</td>\n      <td>29.99</td>\n      <td>69.99</td>\n    </tr>\n    <tr>\n      <th>325348</th>\n      <td>\\n            Little Donkey Andy Men's Waterpr...</td>\n      <td>$39.99 $41.99</td>\n      <td>4.4 out of 5 stars</td>\n      <td>15</td>\n      <td>Sports &amp; Outdoors</td>\n      <td>Sports &amp; Fitness</td>\n      <td>Golf/Clothing/Jackets</td>\n      <td>39.99</td>\n      <td>41.99</td>\n    </tr>\n    <tr>\n      <th>...</th>\n      <td>...</td>\n      <td>...</td>\n      <td>...</td>\n      <td>...</td>\n      <td>...</td>\n      <td>...</td>\n      <td>...</td>\n      <td>...</td>\n      <td>...</td>\n    </tr>\n    <tr>\n      <th>2079424</th>\n      <td>\\n            Nike Trail Kiger Vest,Large(Blac...</td>\n      <td>$199.95</td>\n      <td>5.0 out of 5 stars</td>\n      <td>2</td>\n      <td>Sports &amp; Outdoors</td>\n      <td>Sports &amp; Fitness</td>\n      <td>Hunting &amp; Fishing/Fishing/Fishing Apparel/Clot...</td>\n      <td>199.95</td>\n      <td>NaN</td>\n    </tr>\n    <tr>\n      <th>2079425</th>\n      <td>\\n            18 Pocket Fishing Vest – Lightwe...</td>\n      <td>$46.62 $51.82</td>\n      <td>4.2 out of 5 stars</td>\n      <td>3</td>\n      <td>Sports &amp; Outdoors</td>\n      <td>Sports &amp; Fitness</td>\n      <td>Hunting &amp; Fishing/Fishing/Fishing Apparel/Clot...</td>\n      <td>46.62</td>\n      <td>51.82</td>\n    </tr>\n    <tr>\n      <th>2079426</th>\n      <td>\\n            Onyx Pike Paddle Sports Life Jac...</td>\n      <td>$5.00</td>\n      <td>3.6 out of 5 stars</td>\n      <td>8</td>\n      <td>Sports &amp; Outdoors</td>\n      <td>Sports &amp; Fitness</td>\n      <td>Hunting &amp; Fishing/Fishing/Fishing Apparel/Clot...</td>\n      <td>5.00</td>\n      <td>NaN</td>\n    </tr>\n    <tr>\n      <th>2079427</th>\n      <td>\\n            Stearns Flotation Fishing Vest\\n...</td>\n      <td>$39.77 $42.99</td>\n      <td>2.5 out of 5 stars</td>\n      <td>3</td>\n      <td>Sports &amp; Outdoors</td>\n      <td>Sports &amp; Fitness</td>\n      <td>Hunting &amp; Fishing/Fishing/Fishing Apparel/Clot...</td>\n      <td>39.77</td>\n      <td>42.99</td>\n    </tr>\n    <tr>\n      <th>2079428</th>\n      <td>\\n            Flowt 40606-OS Angler Fishing Ad...</td>\n      <td>$45.99</td>\n      <td>4.3 out of 5 stars</td>\n      <td>4</td>\n      <td>Sports &amp; Outdoors</td>\n      <td>Sports &amp; Fitness</td>\n      <td>Hunting &amp; Fishing/Fishing/Fishing Apparel/Clot...</td>\n      <td>45.99</td>\n      <td>NaN</td>\n    </tr>\n  </tbody>\n</table>\n<p>46609 rows × 9 columns</p>\n</div>"
     },
     "metadata": {},
     "execution_count": 21
    }
   ],
   "source": [
    "#Quitamos el $ y lo hacemos float\n",
    "clothing['low price'] = clothing['low price'].str.replace('$', '').astype(float)\n",
    "clothing['high price'] = clothing['high price'].str.replace('$', '').astype(float)\n",
    "clothing"
   ]
  },
  {
   "cell_type": "code",
   "execution_count": 22,
   "metadata": {},
   "outputs": [
    {
     "output_type": "execute_result",
     "data": {
      "text/plain": [
       "max       419.990000\n",
       "median     18.990000\n",
       "mean       25.109821\n",
       "Name: low price, dtype: float64"
      ]
     },
     "metadata": {},
     "execution_count": 22
    }
   ],
   "source": [
    "#A pesar de que tenemos algún precio alto (outlayer), la media es relativamente baja y la mediana también. Por tanto, se puede afirmar que el precio tiene algo que ver en la compra \n",
    "\n",
    "clothing[\"low price\"].agg(['max','median', \"mean\"])"
   ]
  },
  {
   "cell_type": "code",
   "execution_count": 23,
   "metadata": {},
   "outputs": [
    {
     "output_type": "execute_result",
     "data": {
      "text/plain": [
       "                                                     title            price  \\\n",
       "329199   \\n            WWE Championship Spinner Replica...          $419.99   \n",
       "404700   \\n            WWE Championship Spinner Replica...          $419.99   \n",
       "327246   \\n            adidas Golf Men's Climaheat Comp...          $399.99   \n",
       "1202718  \\n            Barbour Mens Sapper Wax Jacket, ...          $390.00   \n",
       "431433   \\n            ASICS Unisex Split Wrestling Hoo...  $349.00 $602.59   \n",
       "...                                                    ...              ...   \n",
       "332175   \\n            Queen of the Court Splatter Pain...      $0.01 $6.59   \n",
       "408267   \\n            Under Armour Youth Team Over-The...     $0.01 $11.05   \n",
       "330253   \\n            Wenfanal Women's High Waisted Tu...      $0.01 $6.59   \n",
       "2009360  \\n            Women's Volleyball 4\" Competitiv...            $0.01   \n",
       "1765944  \\n            Lavnis Men's One Piece Romper Ca...              NaN   \n",
       "\n",
       "                     rating No of reviews      Main Category  \\\n",
       "329199   4.5 out of 5 stars            43  Sports & Outdoors   \n",
       "404700   4.5 out of 5 stars            43  Sports & Outdoors   \n",
       "327246   4.3 out of 5 stars             7  Sports & Outdoors   \n",
       "1202718  4.2 out of 5 stars            30  Sports & Outdoors   \n",
       "431433   4.9 out of 5 stars            18  Sports & Outdoors   \n",
       "...                     ...           ...                ...   \n",
       "332175   4.7 out of 5 stars            13  Sports & Outdoors   \n",
       "408267   4.7 out of 5 stars           268  Sports & Outdoors   \n",
       "330253   4.0 out of 5 stars            12  Sports & Outdoors   \n",
       "2009360  4.4 out of 5 stars            26  Sports & Outdoors   \n",
       "1765944  4.1 out of 5 stars            48  Sports & Outdoors   \n",
       "\n",
       "             Sub Category                        Another sub Category  \\\n",
       "329199   Sports & Fitness                        Clothing/Women/Belts   \n",
       "404700   Sports & Fitness                        Clothing/Women/Belts   \n",
       "327246   Sports & Fitness                     Golf/Clothing/Men/Vests   \n",
       "1202718  Sports & Fitness  Hunting & Fishing/Hunting/Clothing/Jackets   \n",
       "431433   Sports & Fitness                      Clothing/Track Jackets   \n",
       "...                   ...                                         ...   \n",
       "332175   Sports & Fitness                             Clothing/Skirts   \n",
       "408267   Sports & Fitness                              Clothing/Socks   \n",
       "330253   Sports & Fitness           Clothing/Women/Compression Shorts   \n",
       "2009360  Sports & Fitness      Team Sports/Volleyball/Clothing/Shorts   \n",
       "1765944  Sports & Fitness      Exercise & Fitness/Clothing/Tracksuits   \n",
       "\n",
       "         low price  high price  \n",
       "329199      419.99         NaN  \n",
       "404700      419.99         NaN  \n",
       "327246      399.99         NaN  \n",
       "1202718     390.00         NaN  \n",
       "431433      349.00      602.59  \n",
       "...            ...         ...  \n",
       "332175        0.01        6.59  \n",
       "408267        0.01       11.05  \n",
       "330253        0.01        6.59  \n",
       "2009360       0.01         NaN  \n",
       "1765944        NaN         NaN  \n",
       "\n",
       "[46609 rows x 9 columns]"
      ],
      "text/html": "<div>\n<style scoped>\n    .dataframe tbody tr th:only-of-type {\n        vertical-align: middle;\n    }\n\n    .dataframe tbody tr th {\n        vertical-align: top;\n    }\n\n    .dataframe thead th {\n        text-align: right;\n    }\n</style>\n<table border=\"1\" class=\"dataframe\">\n  <thead>\n    <tr style=\"text-align: right;\">\n      <th></th>\n      <th>title</th>\n      <th>price</th>\n      <th>rating</th>\n      <th>No of reviews</th>\n      <th>Main Category</th>\n      <th>Sub Category</th>\n      <th>Another sub Category</th>\n      <th>low price</th>\n      <th>high price</th>\n    </tr>\n  </thead>\n  <tbody>\n    <tr>\n      <th>329199</th>\n      <td>\\n            WWE Championship Spinner Replica...</td>\n      <td>$419.99</td>\n      <td>4.5 out of 5 stars</td>\n      <td>43</td>\n      <td>Sports &amp; Outdoors</td>\n      <td>Sports &amp; Fitness</td>\n      <td>Clothing/Women/Belts</td>\n      <td>419.99</td>\n      <td>NaN</td>\n    </tr>\n    <tr>\n      <th>404700</th>\n      <td>\\n            WWE Championship Spinner Replica...</td>\n      <td>$419.99</td>\n      <td>4.5 out of 5 stars</td>\n      <td>43</td>\n      <td>Sports &amp; Outdoors</td>\n      <td>Sports &amp; Fitness</td>\n      <td>Clothing/Women/Belts</td>\n      <td>419.99</td>\n      <td>NaN</td>\n    </tr>\n    <tr>\n      <th>327246</th>\n      <td>\\n            adidas Golf Men's Climaheat Comp...</td>\n      <td>$399.99</td>\n      <td>4.3 out of 5 stars</td>\n      <td>7</td>\n      <td>Sports &amp; Outdoors</td>\n      <td>Sports &amp; Fitness</td>\n      <td>Golf/Clothing/Men/Vests</td>\n      <td>399.99</td>\n      <td>NaN</td>\n    </tr>\n    <tr>\n      <th>1202718</th>\n      <td>\\n            Barbour Mens Sapper Wax Jacket, ...</td>\n      <td>$390.00</td>\n      <td>4.2 out of 5 stars</td>\n      <td>30</td>\n      <td>Sports &amp; Outdoors</td>\n      <td>Sports &amp; Fitness</td>\n      <td>Hunting &amp; Fishing/Hunting/Clothing/Jackets</td>\n      <td>390.00</td>\n      <td>NaN</td>\n    </tr>\n    <tr>\n      <th>431433</th>\n      <td>\\n            ASICS Unisex Split Wrestling Hoo...</td>\n      <td>$349.00 $602.59</td>\n      <td>4.9 out of 5 stars</td>\n      <td>18</td>\n      <td>Sports &amp; Outdoors</td>\n      <td>Sports &amp; Fitness</td>\n      <td>Clothing/Track Jackets</td>\n      <td>349.00</td>\n      <td>602.59</td>\n    </tr>\n    <tr>\n      <th>...</th>\n      <td>...</td>\n      <td>...</td>\n      <td>...</td>\n      <td>...</td>\n      <td>...</td>\n      <td>...</td>\n      <td>...</td>\n      <td>...</td>\n      <td>...</td>\n    </tr>\n    <tr>\n      <th>332175</th>\n      <td>\\n            Queen of the Court Splatter Pain...</td>\n      <td>$0.01 $6.59</td>\n      <td>4.7 out of 5 stars</td>\n      <td>13</td>\n      <td>Sports &amp; Outdoors</td>\n      <td>Sports &amp; Fitness</td>\n      <td>Clothing/Skirts</td>\n      <td>0.01</td>\n      <td>6.59</td>\n    </tr>\n    <tr>\n      <th>408267</th>\n      <td>\\n            Under Armour Youth Team Over-The...</td>\n      <td>$0.01 $11.05</td>\n      <td>4.7 out of 5 stars</td>\n      <td>268</td>\n      <td>Sports &amp; Outdoors</td>\n      <td>Sports &amp; Fitness</td>\n      <td>Clothing/Socks</td>\n      <td>0.01</td>\n      <td>11.05</td>\n    </tr>\n    <tr>\n      <th>330253</th>\n      <td>\\n            Wenfanal Women's High Waisted Tu...</td>\n      <td>$0.01 $6.59</td>\n      <td>4.0 out of 5 stars</td>\n      <td>12</td>\n      <td>Sports &amp; Outdoors</td>\n      <td>Sports &amp; Fitness</td>\n      <td>Clothing/Women/Compression Shorts</td>\n      <td>0.01</td>\n      <td>6.59</td>\n    </tr>\n    <tr>\n      <th>2009360</th>\n      <td>\\n            Women's Volleyball 4\" Competitiv...</td>\n      <td>$0.01</td>\n      <td>4.4 out of 5 stars</td>\n      <td>26</td>\n      <td>Sports &amp; Outdoors</td>\n      <td>Sports &amp; Fitness</td>\n      <td>Team Sports/Volleyball/Clothing/Shorts</td>\n      <td>0.01</td>\n      <td>NaN</td>\n    </tr>\n    <tr>\n      <th>1765944</th>\n      <td>\\n            Lavnis Men's One Piece Romper Ca...</td>\n      <td>NaN</td>\n      <td>4.1 out of 5 stars</td>\n      <td>48</td>\n      <td>Sports &amp; Outdoors</td>\n      <td>Sports &amp; Fitness</td>\n      <td>Exercise &amp; Fitness/Clothing/Tracksuits</td>\n      <td>NaN</td>\n      <td>NaN</td>\n    </tr>\n  </tbody>\n</table>\n<p>46609 rows × 9 columns</p>\n</div>"
     },
     "metadata": {},
     "execution_count": 23
    }
   ],
   "source": [
    "#Esto lo hago para comprobación de maximo y mínimo valor de low price\n",
    "clothing.sort_values(by=\"low price\", ascending=False)"
   ]
  },
  {
   "cell_type": "code",
   "execution_count": 24,
   "metadata": {},
   "outputs": [
    {
     "output_type": "execute_result",
     "data": {
      "text/plain": [
       "max       602.590000\n",
       "median     29.990000\n",
       "mean       42.228671\n",
       "Name: high price, dtype: float64"
      ]
     },
     "metadata": {},
     "execution_count": 24
    }
   ],
   "source": [
    "#El precio más alto según el que ronda el producto también es un precio bajo, a pesar de tener outlayers también\n",
    "clothing[\"high price\"].agg(['max','median', \"mean\"])"
   ]
  },
  {
   "cell_type": "code",
   "execution_count": 25,
   "metadata": {},
   "outputs": [
    {
     "output_type": "execute_result",
     "data": {
      "text/plain": [
       "max    999\n",
       "Name: No of reviews, dtype: object"
      ]
     },
     "metadata": {},
     "execution_count": 25
    }
   ],
   "source": [
    "clothing[\"No of reviews\"].agg(['max','median', \"mean\"]) #No sé por qué no me hace la media y la mediana del número de reviews"
   ]
  },
  {
   "cell_type": "code",
   "execution_count": 26,
   "metadata": {},
   "outputs": [
    {
     "output_type": "error",
     "ename": "ValueError",
     "evalue": "could not convert string to float: '3,865'",
     "traceback": [
      "\u001b[1;31m---------------------------------------------------------------------------\u001b[0m",
      "\u001b[1;31mValueError\u001b[0m                                Traceback (most recent call last)",
      "\u001b[1;32m<ipython-input-26-2fb29ac3b151>\u001b[0m in \u001b[0;36m<module>\u001b[1;34m\u001b[0m\n\u001b[1;32m----> 1\u001b[1;33m \u001b[0mclothing\u001b[0m\u001b[1;33m[\u001b[0m\u001b[1;34m\"No of reviews\"\u001b[0m\u001b[1;33m]\u001b[0m\u001b[1;33m.\u001b[0m\u001b[0mastype\u001b[0m\u001b[1;33m(\u001b[0m\u001b[0mfloat\u001b[0m\u001b[1;33m)\u001b[0m \u001b[1;31m#No me deja hacerlo float porque hay un str con una coma en vez de un punto\u001b[0m\u001b[1;33m\u001b[0m\u001b[1;33m\u001b[0m\u001b[0m\n\u001b[0m",
      "\u001b[1;32m~\\AppData\\Local\\Programs\\Python\\Python39\\lib\\site-packages\\pandas\\core\\generic.py\u001b[0m in \u001b[0;36mastype\u001b[1;34m(self, dtype, copy, errors)\u001b[0m\n\u001b[0;32m   5546\u001b[0m         \u001b[1;32melse\u001b[0m\u001b[1;33m:\u001b[0m\u001b[1;33m\u001b[0m\u001b[1;33m\u001b[0m\u001b[0m\n\u001b[0;32m   5547\u001b[0m             \u001b[1;31m# else, only a single dtype is given\u001b[0m\u001b[1;33m\u001b[0m\u001b[1;33m\u001b[0m\u001b[1;33m\u001b[0m\u001b[0m\n\u001b[1;32m-> 5548\u001b[1;33m             \u001b[0mnew_data\u001b[0m \u001b[1;33m=\u001b[0m \u001b[0mself\u001b[0m\u001b[1;33m.\u001b[0m\u001b[0m_mgr\u001b[0m\u001b[1;33m.\u001b[0m\u001b[0mastype\u001b[0m\u001b[1;33m(\u001b[0m\u001b[0mdtype\u001b[0m\u001b[1;33m=\u001b[0m\u001b[0mdtype\u001b[0m\u001b[1;33m,\u001b[0m \u001b[0mcopy\u001b[0m\u001b[1;33m=\u001b[0m\u001b[0mcopy\u001b[0m\u001b[1;33m,\u001b[0m \u001b[0merrors\u001b[0m\u001b[1;33m=\u001b[0m\u001b[0merrors\u001b[0m\u001b[1;33m,\u001b[0m\u001b[1;33m)\u001b[0m\u001b[1;33m\u001b[0m\u001b[1;33m\u001b[0m\u001b[0m\n\u001b[0m\u001b[0;32m   5549\u001b[0m             \u001b[1;32mreturn\u001b[0m \u001b[0mself\u001b[0m\u001b[1;33m.\u001b[0m\u001b[0m_constructor\u001b[0m\u001b[1;33m(\u001b[0m\u001b[0mnew_data\u001b[0m\u001b[1;33m)\u001b[0m\u001b[1;33m.\u001b[0m\u001b[0m__finalize__\u001b[0m\u001b[1;33m(\u001b[0m\u001b[0mself\u001b[0m\u001b[1;33m,\u001b[0m \u001b[0mmethod\u001b[0m\u001b[1;33m=\u001b[0m\u001b[1;34m\"astype\"\u001b[0m\u001b[1;33m)\u001b[0m\u001b[1;33m\u001b[0m\u001b[1;33m\u001b[0m\u001b[0m\n\u001b[0;32m   5550\u001b[0m \u001b[1;33m\u001b[0m\u001b[0m\n",
      "\u001b[1;32m~\\AppData\\Local\\Programs\\Python\\Python39\\lib\\site-packages\\pandas\\core\\internals\\managers.py\u001b[0m in \u001b[0;36mastype\u001b[1;34m(self, dtype, copy, errors)\u001b[0m\n\u001b[0;32m    602\u001b[0m         \u001b[0mself\u001b[0m\u001b[1;33m,\u001b[0m \u001b[0mdtype\u001b[0m\u001b[1;33m,\u001b[0m \u001b[0mcopy\u001b[0m\u001b[1;33m:\u001b[0m \u001b[0mbool\u001b[0m \u001b[1;33m=\u001b[0m \u001b[1;32mFalse\u001b[0m\u001b[1;33m,\u001b[0m \u001b[0merrors\u001b[0m\u001b[1;33m:\u001b[0m \u001b[0mstr\u001b[0m \u001b[1;33m=\u001b[0m \u001b[1;34m\"raise\"\u001b[0m\u001b[1;33m\u001b[0m\u001b[1;33m\u001b[0m\u001b[0m\n\u001b[0;32m    603\u001b[0m     ) -> \"BlockManager\":\n\u001b[1;32m--> 604\u001b[1;33m         \u001b[1;32mreturn\u001b[0m \u001b[0mself\u001b[0m\u001b[1;33m.\u001b[0m\u001b[0mapply\u001b[0m\u001b[1;33m(\u001b[0m\u001b[1;34m\"astype\"\u001b[0m\u001b[1;33m,\u001b[0m \u001b[0mdtype\u001b[0m\u001b[1;33m=\u001b[0m\u001b[0mdtype\u001b[0m\u001b[1;33m,\u001b[0m \u001b[0mcopy\u001b[0m\u001b[1;33m=\u001b[0m\u001b[0mcopy\u001b[0m\u001b[1;33m,\u001b[0m \u001b[0merrors\u001b[0m\u001b[1;33m=\u001b[0m\u001b[0merrors\u001b[0m\u001b[1;33m)\u001b[0m\u001b[1;33m\u001b[0m\u001b[1;33m\u001b[0m\u001b[0m\n\u001b[0m\u001b[0;32m    605\u001b[0m \u001b[1;33m\u001b[0m\u001b[0m\n\u001b[0;32m    606\u001b[0m     def convert(\n",
      "\u001b[1;32m~\\AppData\\Local\\Programs\\Python\\Python39\\lib\\site-packages\\pandas\\core\\internals\\managers.py\u001b[0m in \u001b[0;36mapply\u001b[1;34m(self, f, align_keys, **kwargs)\u001b[0m\n\u001b[0;32m    407\u001b[0m                 \u001b[0mapplied\u001b[0m \u001b[1;33m=\u001b[0m \u001b[0mb\u001b[0m\u001b[1;33m.\u001b[0m\u001b[0mapply\u001b[0m\u001b[1;33m(\u001b[0m\u001b[0mf\u001b[0m\u001b[1;33m,\u001b[0m \u001b[1;33m**\u001b[0m\u001b[0mkwargs\u001b[0m\u001b[1;33m)\u001b[0m\u001b[1;33m\u001b[0m\u001b[1;33m\u001b[0m\u001b[0m\n\u001b[0;32m    408\u001b[0m             \u001b[1;32melse\u001b[0m\u001b[1;33m:\u001b[0m\u001b[1;33m\u001b[0m\u001b[1;33m\u001b[0m\u001b[0m\n\u001b[1;32m--> 409\u001b[1;33m                 \u001b[0mapplied\u001b[0m \u001b[1;33m=\u001b[0m \u001b[0mgetattr\u001b[0m\u001b[1;33m(\u001b[0m\u001b[0mb\u001b[0m\u001b[1;33m,\u001b[0m \u001b[0mf\u001b[0m\u001b[1;33m)\u001b[0m\u001b[1;33m(\u001b[0m\u001b[1;33m**\u001b[0m\u001b[0mkwargs\u001b[0m\u001b[1;33m)\u001b[0m\u001b[1;33m\u001b[0m\u001b[1;33m\u001b[0m\u001b[0m\n\u001b[0m\u001b[0;32m    410\u001b[0m             \u001b[0mresult_blocks\u001b[0m \u001b[1;33m=\u001b[0m \u001b[0m_extend_blocks\u001b[0m\u001b[1;33m(\u001b[0m\u001b[0mapplied\u001b[0m\u001b[1;33m,\u001b[0m \u001b[0mresult_blocks\u001b[0m\u001b[1;33m)\u001b[0m\u001b[1;33m\u001b[0m\u001b[1;33m\u001b[0m\u001b[0m\n\u001b[0;32m    411\u001b[0m \u001b[1;33m\u001b[0m\u001b[0m\n",
      "\u001b[1;32m~\\AppData\\Local\\Programs\\Python\\Python39\\lib\\site-packages\\pandas\\core\\internals\\blocks.py\u001b[0m in \u001b[0;36mastype\u001b[1;34m(self, dtype, copy, errors)\u001b[0m\n\u001b[0;32m    593\u001b[0m             \u001b[0mvals1d\u001b[0m \u001b[1;33m=\u001b[0m \u001b[0mvalues\u001b[0m\u001b[1;33m.\u001b[0m\u001b[0mravel\u001b[0m\u001b[1;33m(\u001b[0m\u001b[1;33m)\u001b[0m\u001b[1;33m\u001b[0m\u001b[1;33m\u001b[0m\u001b[0m\n\u001b[0;32m    594\u001b[0m             \u001b[1;32mtry\u001b[0m\u001b[1;33m:\u001b[0m\u001b[1;33m\u001b[0m\u001b[1;33m\u001b[0m\u001b[0m\n\u001b[1;32m--> 595\u001b[1;33m                 \u001b[0mvalues\u001b[0m \u001b[1;33m=\u001b[0m \u001b[0mastype_nansafe\u001b[0m\u001b[1;33m(\u001b[0m\u001b[0mvals1d\u001b[0m\u001b[1;33m,\u001b[0m \u001b[0mdtype\u001b[0m\u001b[1;33m,\u001b[0m \u001b[0mcopy\u001b[0m\u001b[1;33m=\u001b[0m\u001b[1;32mTrue\u001b[0m\u001b[1;33m)\u001b[0m\u001b[1;33m\u001b[0m\u001b[1;33m\u001b[0m\u001b[0m\n\u001b[0m\u001b[0;32m    596\u001b[0m             \u001b[1;32mexcept\u001b[0m \u001b[1;33m(\u001b[0m\u001b[0mValueError\u001b[0m\u001b[1;33m,\u001b[0m \u001b[0mTypeError\u001b[0m\u001b[1;33m)\u001b[0m\u001b[1;33m:\u001b[0m\u001b[1;33m\u001b[0m\u001b[1;33m\u001b[0m\u001b[0m\n\u001b[0;32m    597\u001b[0m                 \u001b[1;31m# e.g. astype_nansafe can fail on object-dtype of strings\u001b[0m\u001b[1;33m\u001b[0m\u001b[1;33m\u001b[0m\u001b[1;33m\u001b[0m\u001b[0m\n",
      "\u001b[1;32m~\\AppData\\Local\\Programs\\Python\\Python39\\lib\\site-packages\\pandas\\core\\dtypes\\cast.py\u001b[0m in \u001b[0;36mastype_nansafe\u001b[1;34m(arr, dtype, copy, skipna)\u001b[0m\n\u001b[0;32m    995\u001b[0m     \u001b[1;32mif\u001b[0m \u001b[0mcopy\u001b[0m \u001b[1;32mor\u001b[0m \u001b[0mis_object_dtype\u001b[0m\u001b[1;33m(\u001b[0m\u001b[0marr\u001b[0m\u001b[1;33m)\u001b[0m \u001b[1;32mor\u001b[0m \u001b[0mis_object_dtype\u001b[0m\u001b[1;33m(\u001b[0m\u001b[0mdtype\u001b[0m\u001b[1;33m)\u001b[0m\u001b[1;33m:\u001b[0m\u001b[1;33m\u001b[0m\u001b[1;33m\u001b[0m\u001b[0m\n\u001b[0;32m    996\u001b[0m         \u001b[1;31m# Explicit copy, or required since NumPy can't view from / to object.\u001b[0m\u001b[1;33m\u001b[0m\u001b[1;33m\u001b[0m\u001b[1;33m\u001b[0m\u001b[0m\n\u001b[1;32m--> 997\u001b[1;33m         \u001b[1;32mreturn\u001b[0m \u001b[0marr\u001b[0m\u001b[1;33m.\u001b[0m\u001b[0mastype\u001b[0m\u001b[1;33m(\u001b[0m\u001b[0mdtype\u001b[0m\u001b[1;33m,\u001b[0m \u001b[0mcopy\u001b[0m\u001b[1;33m=\u001b[0m\u001b[1;32mTrue\u001b[0m\u001b[1;33m)\u001b[0m\u001b[1;33m\u001b[0m\u001b[1;33m\u001b[0m\u001b[0m\n\u001b[0m\u001b[0;32m    998\u001b[0m \u001b[1;33m\u001b[0m\u001b[0m\n\u001b[0;32m    999\u001b[0m     \u001b[1;32mreturn\u001b[0m \u001b[0marr\u001b[0m\u001b[1;33m.\u001b[0m\u001b[0mview\u001b[0m\u001b[1;33m(\u001b[0m\u001b[0mdtype\u001b[0m\u001b[1;33m)\u001b[0m\u001b[1;33m\u001b[0m\u001b[1;33m\u001b[0m\u001b[0m\n",
      "\u001b[1;31mValueError\u001b[0m: could not convert string to float: '3,865'"
     ]
    }
   ],
   "source": [
    "clothing[\"No of reviews\"].astype(float) #No me deja hacerlo float porque hay un str con una coma en vez de un punto\n"
   ]
  },
  {
   "cell_type": "code",
   "execution_count": 27,
   "metadata": {},
   "outputs": [
    {
     "output_type": "execute_result",
     "data": {
      "text/plain": [
       "max       999.000000\n",
       "median     21.000000\n",
       "mean      108.661894\n",
       "Name: No of reviews, dtype: float64"
      ]
     },
     "metadata": {},
     "execution_count": 27
    }
   ],
   "source": [
    "#Cambio las \",\" a \".\" y lo hago float para poder sacar la mediana y la media\n",
    "clothing['No of reviews'] = clothing['No of reviews'].str.replace(',', '.').astype(\"float\") #Cuidado, ejecutar solo una vez, después da error\n",
    "clothing[\"No of reviews\"].agg(['max','median', \"mean\"])\n",
    "\n",
    "#¿Qué significa cuándo la mediana es muy diferente a la media?\n",
    "## Los outlayers están subiendo mucho la media por tanto la media no es representativo"
   ]
  },
  {
   "cell_type": "code",
   "execution_count": 28,
   "metadata": {},
   "outputs": [
    {
     "output_type": "execute_result",
     "data": {
      "text/plain": [
       "0    1.0\n",
       "dtype: float64"
      ]
     },
     "metadata": {},
     "execution_count": 28
    }
   ],
   "source": [
    "clothing[\"No of reviews\"].mode() #El valor que más se repite es 1$ entiendo que porque los calcetines son baratos y era la categoría de clothing más vendida"
   ]
  },
  {
   "cell_type": "code",
   "execution_count": null,
   "metadata": {},
   "outputs": [],
   "source": []
  }
 ]
}