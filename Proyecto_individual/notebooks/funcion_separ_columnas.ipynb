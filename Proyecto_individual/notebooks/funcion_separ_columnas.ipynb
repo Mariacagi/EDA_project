{
 "metadata": {
  "language_info": {
   "codemirror_mode": {
    "name": "ipython",
    "version": 3
   },
   "file_extension": ".py",
   "mimetype": "text/x-python",
   "name": "python",
   "nbconvert_exporter": "python",
   "pygments_lexer": "ipython3",
   "version": 3
  },
  "orig_nbformat": 2
 },
 "nbformat": 4,
 "nbformat_minor": 2,
 "cells": [
  {
   "cell_type": "code",
   "execution_count": null,
   "metadata": {},
   "outputs": [],
   "source": [
    "#Intento 1\n",
    "\n",
    "separado3 = split_columna(df = electronics, columna = \"Sub_Category\", objeto_separacion = \"/\", numero_veces=4)\n",
    "separado3\n",
    "# electronics[\"Object\"]= separado3[-1]\n",
    "# electronics"
   ]
  },
  {
   "cell_type": "code",
   "execution_count": null,
   "metadata": {},
   "outputs": [],
   "source": [
    "#Intento 2\n",
    "\n",
    "lista_Object = []\n",
    "\n",
    "for x in electronics.Sub_Category:\n",
    "    if \"/\" in x:\n",
    "        separado3 = split_columna(df = electronics, columna = \"Sub_Category\", objeto_separacion = \"/\", numero_veces=4)\n",
    "        if separado3[3] != \"None\":\n",
    "            lista_Object.append(separado[3])\n",
    "        elif separado3[2] != \"None\":\n",
    "            lista_Object.append(separado[2])\n",
    "        elif separado3[1] != \"None\":\n",
    "            lista_Object.append(separado[1])\n",
    "\n",
    "    else:\n",
    "        lista_Object.append(x)\n",
    "\n",
    "electronics"
   ]
  },
  {
   "cell_type": "code",
   "execution_count": null,
   "metadata": {},
   "outputs": [],
   "source": [
    "hola = lambda x: x.split(\"/\")[-1]\n",
    "hola(\"hola\")"
   ]
  },
  {
   "cell_type": "code",
   "execution_count": null,
   "metadata": {},
   "outputs": [],
   "source": [
    "#Intento 4\n",
    "\n",
    "electronics[\"Object\"] = [x.split()[-1] for x in electronics.Sub_Category]"
   ]
  },
  {
   "cell_type": "code",
   "execution_count": null,
   "metadata": {},
   "outputs": [],
   "source": [
    "#Intento 5\n",
    "electronics[\"Object\"] = electronics.Sub_Category.apply(lambda x: x.split(\"/\")[-1] )\n",
    "electronics"
   ]
  }
 ]
}