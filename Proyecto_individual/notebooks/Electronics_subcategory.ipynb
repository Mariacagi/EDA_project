{
 "metadata": {
  "language_info": {
   "codemirror_mode": {
    "name": "ipython",
    "version": 3
   },
   "file_extension": ".py",
   "mimetype": "text/x-python",
   "name": "python",
   "nbconvert_exporter": "python",
   "pygments_lexer": "ipython3",
   "version": 3
  },
  "orig_nbformat": 2
 },
 "nbformat": 4,
 "nbformat_minor": 2,
 "cells": [
  {
   "cell_type": "code",
   "execution_count": null,
   "metadata": {},
   "outputs": [],
   "source": [
    "# Se filtra por Electronics para saber todas las filas que pertenecen a esa categoría\n",
    "electronics = amazon_best_seller[amazon_best_seller['Main_Category']== \"Electronics\"]\n",
    "electronics"
   ]
  },
  {
   "cell_type": "code",
   "execution_count": null,
   "metadata": {},
   "outputs": [],
   "source": [
    "electronics_sub_Category = electronics.groupby(\"Sub_Category\").count().sort_values(by=\"count\", ascending=False)\n",
    "electronics_sub_Category"
   ]
  },
  {
   "cell_type": "code",
   "execution_count": null,
   "metadata": {},
   "outputs": [],
   "source": [
    "# La subcategoría más vendida es Camera&Photo, concretamente las camcorders\n",
    "# La subcategoría menos vendida de Electrónica es también parte de Camera&Photo, en la parte de luz, concretamente los gobos."
   ]
  },
  {
   "cell_type": "code",
   "execution_count": null,
   "metadata": {},
   "outputs": [],
   "source": [
    "# Para representar la gráfica, como hay mucho texto en el eje X, se separa la columna y se coge la última palabra hasta la barra /\n",
    "    #OJO! En Sub_Category hay valores NaN ya que Electronics tiene elementos en la categoría principal(Main_Category), es decir, no tiene una subcategoría para ese producto"
   ]
  },
  {
   "cell_type": "code",
   "execution_count": null,
   "metadata": {},
   "outputs": [],
   "source": [
    "electronics.Sub_Category.isnull().values.any()"
   ]
  },
  {
   "cell_type": "code",
   "execution_count": null,
   "metadata": {},
   "outputs": [],
   "source": [
    "electronics[\"Object\"] = electronics.Sub_Category.apply(lambda x: split_columna_con_nan(x))\n",
    "electronics"
   ]
  },
  {
   "cell_type": "code",
   "execution_count": null,
   "metadata": {},
   "outputs": [],
   "source": [
    "electronics.groupby(\"Object\").count().sort_values(by=\"ASIN\")"
   ]
  },
  {
   "cell_type": "code",
   "execution_count": null,
   "metadata": {},
   "outputs": [],
   "source": [
    "# Creación de la figura\n",
    "plt.figure(figsize=(cm_to_inch(20),cm_to_inch(10)))\n",
    "\n",
    "plt.bar(x=electronics.Sub_Category.value_counts().head(15).index.values, height=electronics.Sub_Category.value_counts().head(15).values, facecolor='#3d4248')\n",
    "\n",
    "# Etiquetas\n",
    "plt.xlabel(\"Electronics Subcategory\", weight=\"bold\")\n",
    "plt.ylabel(\"Best Sellers Count\", weight=\"bold\")\n",
    "plt.xticks(rotation='vertical')\n",
    "\n",
    "\n",
    "\n",
    "# Guarda la figura\n",
    "my_path = funcion_para_añadir_una_barra(string=r\"C:\\Users\\maria\\OneDrive\\Escritorio\\The_Bridge\\Visual_Studio_Code\\Python\\Data_Scrience_BootCamp_Maria\\Data_science_proyectos\\Proyecto_individual\\reports\")\n",
    "name_fig = \"\\Electrónica_subcategoría_más_vendida.png\"\n",
    "\n",
    "plt.savefig(my_path + name_fig, dpi=300, bbox_inches='tight')\n",
    "\n",
    "# Muestra la figura\n",
    "plt.show()"
   ]
  },
  {
   "cell_type": "code",
   "execution_count": null,
   "metadata": {},
   "outputs": [],
   "source": [
    "# Creación de la figura\n",
    "labels= [\"baterias\", \"2\", \"3\", \"4\", \"5\", \"6\", \"7\", \"8\", \"9\", \"10\", \"11\", \"12\", \"13\", \"14\", \"15\"]\n",
    "plt.figure(figsize=(cm_to_inch(20),cm_to_inch(10)))\n",
    "\n",
    "plt.bar(x=labels, height=electronics.Sub_Category.value_counts().head(15).values, facecolor='#3d4248')\n",
    "\n",
    "# Etiquetas\n",
    "plt.xlabel(\"Electronics Subcategory\", weight=\"bold\")\n",
    "plt.ylabel(\"Best Sellers Count\", weight=\"bold\")\n",
    "plt.xticks(rotation='vertical')\n",
    "\n",
    "\n",
    "\n",
    "# Guarda la figura\n",
    "my_path = funcion_para_añadir_una_barra(string=r\"C:\\Users\\maria\\OneDrive\\Escritorio\\The_Bridge\\Visual_Studio_Code\\Python\\Data_Scrience_BootCamp_Maria\\Data_science_proyectos\\Proyecto_individual\\reports\")\n",
    "name_fig = \"\\Electrónica_subcategoría_más_vendida.png\"\n",
    "\n",
    "plt.savefig(my_path + name_fig, dpi=300, bbox_inches='tight')\n",
    "\n",
    "# Muestra la figura\n",
    "plt.show()"
   ]
  },
  {
   "cell_type": "code",
   "execution_count": null,
   "metadata": {},
   "outputs": [],
   "source": [
    "# Creación de la figura 2, desde la columna 2 hasta la 15 para ver en profundidad que no están a la misma altura\n",
    "plt.figure(figsize=(cm_to_inch(20),cm_to_inch(10)))\n",
    "plt.ylim([90, 100])\n",
    "\n",
    "plt.bar(x=electronics.Sub_Category.value_counts().index.values[1:15], height=electronics.Sub_Category.value_counts().values[1:15], facecolor='#3d4248')\n",
    "\n",
    "# Etiquetas\n",
    "plt.xlabel(\"Electronics Subcategory\", weight=\"bold\")\n",
    "plt.ylabel(\"Best Sellers Count\", weight=\"bold\")\n",
    "plt.xticks(rotation='vertical')\n",
    "\n",
    "# Guarda la figura\n",
    "my_path = funcion_para_añadir_una_barra(string=r\"C:\\Users\\maria\\OneDrive\\Escritorio\\The_Bridge\\Visual_Studio_Code\\Python\\Data_Scrience_BootCamp_Maria\\Data_science_proyectos\\Proyecto_individual\\reports\")\n",
    "name_fig = \"\\Electrónica_subcategoría_más_vendida_V2.png\"\n",
    "\n",
    "plt.savefig(my_path + name_fig, dpi=300, bbox_inches='tight')\n",
    "\n",
    "# Muestra la figura\n",
    "plt.show()"
   ]
  },
  {
   "cell_type": "code",
   "execution_count": null,
   "metadata": {},
   "outputs": [],
   "source": [
    "# Creación de la figura\n",
    "plt.figure(figsize=(cm_to_inch(30),cm_to_inch(10)))\n",
    "electronics.Sub_Category.value_counts().tail(15).plot(kind=\"bar\", facecolor='#3d4248')\n",
    "\n",
    "# Etiquetas\n",
    "plt.xlabel(\"Electronics Subcategory\", weight=\"bold\")\n",
    "plt.ylabel(\"Best Sellers Count\", weight=\"bold\")\n",
    "plt.xticks(rotation='vertical')\n",
    "\n",
    "# Guarda la figura\n",
    "my_path = funcion_para_añadir_una_barra(string=r\"C:\\Users\\maria\\OneDrive\\Escritorio\\The_Bridge\\Visual_Studio_Code\\Python\\Data_Scrience_BootCamp_Maria\\Data_science_proyectos\\Proyecto_individual\\reports\")\n",
    "name_fig = \"\\Electrónica_subcategoría_menos_vendida.png\"\n",
    "\n",
    "plt.savefig(my_path + name_fig, dpi=300, bbox_inches='tight')\n",
    "\n",
    "# Muestra la figura\n",
    "plt.show()"
   ]
  }
 ]
}